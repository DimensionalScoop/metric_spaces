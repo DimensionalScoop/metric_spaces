{
 "cells": [
  {
   "cell_type": "code",
   "execution_count": null,
   "id": "0b441e9b-abc8-4e50-a024-abc3d938c7db",
   "metadata": {},
   "outputs": [],
   "source": [
    "import numpy as np\n",
    "import matplotlib.pyplot as plt\n",
    "from scipy import spatial\n",
    "\n",
    "import sys\n",
    "sys.path.append(\"..\")\n",
    "\n",
    "import tetrahedron\n",
    "import proj_quality\n",
    "\n",
    "%load_ext autoreload\n",
    "%autoreload 2"
   ]
  },
  {
   "cell_type": "code",
   "execution_count": null,
   "id": "f3b8e3af-316f-4cc6-9647-326cc135d85b",
   "metadata": {},
   "outputs": [],
   "source": [
    "from metric.metric import Metric, Euclid"
   ]
  },
  {
   "cell_type": "code",
   "execution_count": null,
   "id": "dfa3d523",
   "metadata": {},
   "outputs": [],
   "source": [
    "def max_dist_points(ps):\n",
    "    ps = points\n",
    "    dists = spatial.distance_matrix(ps,ps)\n",
    "    flat_index = dists.argmax()\n",
    "    row_index, col_index = np.unravel_index(flat_index, dists.shape)\n",
    "    return ps[row_index], ps[col_index]"
   ]
  },
  {
   "cell_type": "code",
   "execution_count": null,
   "id": "0bc7d879",
   "metadata": {},
   "outputs": [],
   "source": [
    "from tqdm import tqdm\n",
    "\n",
    "\n",
    "def best_pivot_partner(p1):\n",
    "    for p0 in tqdm(points):\n",
    "        if all(p0 == p1):\n",
    "            yield np.inf\n",
    "            continue\n",
    "        proj = tetrahedron.project_to_2d_euclidean(points, p0, p1, dist_func)\n",
    "        yield proj_quality.candidate_set_size(proj,ten_nn_dist,Euclid(2))"
   ]
  },
  {
   "cell_type": "code",
   "execution_count": null,
   "id": "08547ca4-2084-47a4-9fa1-3cad8dc20144",
   "metadata": {},
   "outputs": [],
   "source": [
    "# simulate triangles\n",
    "rng = np.random.default_rng()\n",
    "\n",
    "dist_func = lambda x,y: spatial.minkowski_distance(x,y,2)# np.linalg.norm(x-y, axis=-1)\n",
    "n_samples = 500\n",
    "dim = 5\n",
    "points = rng.integers(-37,38, size=[n_samples, dim])\n",
    "#p0,p1,q,o = 0,1,2,3\n",
    "\n",
    "ten_nn_dist = proj_quality.get_average_k_nn_dist(points, Euclid(2))\n",
    "\n",
    "#p0, p1 = np.array([-30]*dim).T, np.array([30]*dim).T\n",
    "p0, p1 = points[0], points[1]\n",
    "points_p = tetrahedron.project_to_2d_euclidean(points, p0, p1, dist_func)"
   ]
  },
  {
   "cell_type": "code",
   "execution_count": null,
   "id": "002f2c5b",
   "metadata": {},
   "outputs": [],
   "source": [
    "p_m0, p_m1 = max_dist_points(points)\n",
    "points_p_max_dist = tetrahedron.project_to_2d_euclidean(points, p_m0, p_m1, dist_func)"
   ]
  },
  {
   "cell_type": "code",
   "execution_count": null,
   "id": "c9a9273d",
   "metadata": {},
   "outputs": [],
   "source": [
    "# optimize one criteron\n",
    "partner_rho = np.array(list(best_pivot_partner(p_m0)))\n",
    "plt.hist(partner_rho[~np.isinf(partner_rho)], bins=100);\n",
    "plt.xlabel(\"CCS\")\n",
    "plt.show()\n",
    "\n",
    "partner_idx = np.argsort(partner_rho)[0]\n",
    "p_m1 = points[partner_idx]\n",
    "\n",
    "points_p_good_css = tetrahedron.project_to_2d_euclidean(points, p_m0, p_m1, dist_func)"
   ]
  },
  {
   "cell_type": "code",
   "execution_count": null,
   "id": "50e77a5f",
   "metadata": {},
   "outputs": [],
   "source": [
    "# optimize the other criteron\n",
    "def _hilbert_quality(pivot):\n",
    "    try:\n",
    "        ps = tetrahedron.project_to_2d_euclidean(points, p_m0, pivot, dist_func)\n",
    "        part = proj_quality.HilbertPartitioner(ps, ten_nn_dist)\n",
    "        return part.hyperplane_quality(ps)\n",
    "    except KeyError:\n",
    "        return 0\n",
    "\n",
    "partner_hq = [_hilbert_quality(piv) for piv in  tqdm(points)]\n",
    "plt.hist(partner_rho, bins=100);\n",
    "plt.show()\n",
    "\n",
    "best_piv_idx = np.argmax(partner_rho)\n",
    "p_m1 = points[best_piv_idx]\n",
    "\n",
    "points_p_good_hq = tetrahedron.project_to_2d_euclidean(points, p_m0, p_m1, dist_func)"
   ]
  },
  {
   "cell_type": "code",
   "execution_count": null,
   "id": "a06cf676-cc93-488e-a51c-5fa2982e4e87",
   "metadata": {},
   "outputs": [],
   "source": [
    "def calc_scale(points, dist_func, knn=10):\n",
    "    \"\"\"Calculate the average knn distance\"\"\"\n",
    "    SAMPLE_SIZE = 100\n",
    "    queries = rng.choice(points, size=SAMPLE_SIZE)\n",
    "    k_range = [np.sort(dist_func(q, points))[knn] for q in queries]\n",
    "    return np.mean(k_range)\n",
    "\n",
    "def range_query(points, query_center, radius, dist_func, return_indices=False):\n",
    "    \"\"\"Return all points within the radius of query_center\"\"\"\n",
    "    dist = dist_func(query_center, points)\n",
    "    if return_indices:\n",
    "        return np.nonzero(dist <= radius)[0]\n",
    "    else:\n",
    "        return points[dist <= radius]\n",
    "\n",
    "def set_of_points(points):\n",
    "    return list(map(tuple, points))"
   ]
  },
  {
   "cell_type": "code",
   "execution_count": null,
   "id": "c4004eda-3e64-42cb-98df-4cded9886c4a",
   "metadata": {},
   "outputs": [],
   "source": [
    "from scipy import stats\n",
    "\n",
    "def rate_pivot_overhead(points_orig, points_piv, dist_func_orig, dist_func_piv):\n",
    "    assert len(points_orig) == len(points_piv)\n",
    "    \n",
    "    mean_query_range = calc_scale(points_orig, dist_func_orig)\n",
    "    #kde = stats.gaussian_kde(points_piv)\n",
    "    \n",
    "    SAMPLE_SIZE = 1000\n",
    "    q_center_idx = rng.integers(0, len(points_orig), size=SAMPLE_SIZE)\n",
    "    \n",
    "    query_conf_piv = dict(\n",
    "        points=points_piv, radius=mean_query_range,\n",
    "        dist_func=dist_func_piv, return_indices=True\n",
    "    )\n",
    "    candidates = [range_query(query_center=points_piv[q], **query_conf_piv) for q in q_center_idx]\n",
    "\n",
    "    query_conf_orig = dict(\n",
    "        points=points_orig, radius=mean_query_range,\n",
    "        dist_func=dist_func_orig,return_indices=True\n",
    "    )\n",
    "    controls = [range_query(query_center=points_orig[q], **query_conf_orig) for q in q_center_idx]\n",
    "\n",
    "    #return candidates, controls\n",
    "    assert all([\n",
    "        set(actual_set).issubset(set(candidate_set))\n",
    "        for candidate_set, actual_set\n",
    "        in zip(candidates, controls)\n",
    "    ]), \"The actual query solution must be a subsets of the candidate set from the pivot space!\"\n",
    "\n",
    "    unnecessary_dist_evals = [\n",
    "        len(candidate_set) - len(actual_set)\n",
    "        for candidate_set, actual_set\n",
    "        in zip(candidates, controls)\n",
    "    ]\n",
    "    return np.mean(unnecessary_dist_evals), np.std(unnecessary_dist_evals, ddof=1)\n",
    "\n",
    "rate_pivot_efficency(points, points_p, dist_func, dist_func)"
   ]
  },
  {
   "cell_type": "code",
   "execution_count": null,
   "id": "3761ac6a",
   "metadata": {},
   "outputs": [],
   "source": [
    "# plot distance gauge\n",
    "ten_nn_dist = proj_quality.get_average_k_nn_dist(points, Euclid(2))"
   ]
  },
  {
   "cell_type": "code",
   "execution_count": null,
   "id": "07a557e6",
   "metadata": {},
   "outputs": [],
   "source": [
    "def draw_circle(center,radius, **kwargs):\n",
    "\n",
    "    # Create a circle with the specified radius\n",
    "    circle = plt.Circle(center, radius, fill=False, edgecolor='blue', **kwargs)\n",
    "    \n",
    "    # Add the circle to the axes\n",
    "    plt.gca().add_artist(circle)"
   ]
  },
  {
   "cell_type": "code",
   "execution_count": null,
   "id": "955aacb7-83e1-47cc-999f-ef17082dcf68",
   "metadata": {},
   "outputs": [],
   "source": [
    "def set_lims():\n",
    "    plt.xlim(-60,120)\n",
    "    plt.ylim(0, 140)\n",
    "    \n",
    "\n",
    "\n",
    "plt.subplot(1,2,1)\n",
    "set_lims()\n",
    "\n",
    "nans = np.isnan(points_p).sum(axis=1).astype(\"bool\")\n",
    "points_p = points_p[~nans,:]\n",
    "\n",
    "c = points[~nans,:].sum(axis=1)\n",
    "\n",
    "#closer_to_p0 = dist_func(points, p0) < dist_func(points, p1)\n",
    "plt.scatter(*points_p.T,c=c, marker=\".\")\n",
    "\n",
    "\n",
    "rho = proj_quality.candidate_set_size(points_p,ten_nn_dist, Euclid(2))\n",
    "#plt.title(f\"mean candidate set size: {rho:.0f}\")\n",
    "plt.title(f\"random projection ({rho:.0f})\")\n",
    "\n",
    "center = np.array([points_p[:,0].mean(),points_p[:,1].mean()])\n",
    "\n",
    "draw_circle(center, ten_nn_dist, label=\"average 10-NN distance\")\n",
    "\n",
    "#plt.legend()\n",
    "plt.gca().set_aspect('equal');\n",
    "\n",
    "\n",
    "\n",
    "plt.subplot(1,2,2)\n",
    "set_lims()\n",
    "\n",
    "nans = np.isnan(points_p_good).sum(axis=1).astype(\"bool\")\n",
    "points_p_good = points_p_good[~nans,:]\n",
    "\n",
    "c = points[~nans,:].sum(axis=1)\n",
    "\n",
    "#closer_to_p0 = dist_func(points, p0) < dist_func(points, p1)\n",
    "plt.scatter(*points_p_good.T,c=c, marker=\".\")\n",
    "\n",
    "\n",
    "rho = proj_quality.candidate_set_size(points_p_good,ten_nn_dist,Euclid(2))\n",
    "#plt.title(f\"mean candidate set size: {rho:.0f}\")\n",
    "plt.title(f\"our projection ({rho:.0f})\")\n",
    "\n",
    "center = np.array([points_p_good[:,0].mean(),points_p_good[:,1].mean()])\n",
    "\n",
    "draw_circle(center, ten_nn_dist, label=\"average 10-NN distance\")\n",
    "\n",
    "#plt.legend()\n",
    "plt.gca().set_aspect('equal');"
   ]
  },
  {
   "cell_type": "code",
   "execution_count": null,
   "id": "0da1ea52",
   "metadata": {},
   "outputs": [],
   "source": [
    "def plot_hilbert_qual(ps):\n",
    "    part = proj_quality.HilbertPartitioner(ps, ten_nn_dist)\n",
    "    l, r = part.get_partitions(ps)\n",
    "\n",
    "    plt.scatter(*ps.T)\n",
    "    plt.scatter(*ps[l].T, marker=\"+\")\n",
    "    plt.scatter(*ps[r].T, marker=\"x\")\n",
    "    \n",
    "    hq = part.hyperplane_quality(ps)\n",
    "    css = proj_quality.candidate_set_size(ps,ten_nn_dist, Euclid(2))\n",
    "    plt.title(f\"partitioning {hq:.0%} points\\nmean CSS {css:.0f}\")"
   ]
  },
  {
   "cell_type": "code",
   "execution_count": null,
   "id": "4bd3f14f",
   "metadata": {},
   "outputs": [],
   "source": [
    "plot_hilbert_qual(points_p)"
   ]
  },
  {
   "cell_type": "code",
   "execution_count": null,
   "id": "02dcbf2b",
   "metadata": {},
   "outputs": [],
   "source": [
    "plot_hilbert_qual(points_p_good_css)"
   ]
  },
  {
   "cell_type": "code",
   "execution_count": null,
   "id": "306335f3",
   "metadata": {},
   "outputs": [],
   "source": [
    "plot_hilbert_qual(points_p_max_dist)"
   ]
  },
  {
   "cell_type": "code",
   "execution_count": null,
   "id": "421652fc",
   "metadata": {},
   "outputs": [],
   "source": [
    "plot_hilbert_qual(points_p_good_hq)"
   ]
  },
  {
   "cell_type": "code",
   "execution_count": null,
   "id": "dd120d5d",
   "metadata": {},
   "outputs": [],
   "source": [
    "\n",
    "\n",
    "\n",
    "partner_rho = list(best_pivot(points[0]))"
   ]
  },
  {
   "cell_type": "code",
   "execution_count": null,
   "id": "b1721140",
   "metadata": {},
   "outputs": [],
   "source": [
    "partner_rho = np.array(partner_rho)\n",
    "plt.hist(partner_rho[~np.isinf(partner_rho)], bins=100);"
   ]
  },
  {
   "cell_type": "code",
   "execution_count": null,
   "id": "8975ecf0",
   "metadata": {},
   "outputs": [],
   "source": []
  },
  {
   "cell_type": "code",
   "execution_count": null,
   "id": "85b3efdc",
   "metadata": {},
   "outputs": [],
   "source": []
  },
  {
   "cell_type": "code",
   "execution_count": null,
   "id": "04671759",
   "metadata": {},
   "outputs": [],
   "source": [
    "plt.plot(\n",
    "    [points_p[:,0].min(),points_p[:,0].min()+ten_nn_dist],\n",
    "    [points_p[:,1].min(),points_p[:,1].min()+ten_nn_dist],\n",
    "    color=\"C1\",\n",
    "    label=\"average 10-NN distance\"\n",
    ")"
   ]
  },
  {
   "cell_type": "code",
   "execution_count": null,
   "id": "99644548-a3a6-431d-a7ab-66799b17c24b",
   "metadata": {},
   "outputs": [],
   "source": [
    "plt.scatter(*points.T[:2])"
   ]
  },
  {
   "cell_type": "code",
   "execution_count": null,
   "id": "ccac6fb2-5015-4174-acff-062549670820",
   "metadata": {},
   "outputs": [],
   "source": [
    "close_to_p1 = np.argsort(dist_func(p1, points))\n",
    "next_pivs = points[close_to_p1]"
   ]
  },
  {
   "cell_type": "code",
   "execution_count": null,
   "id": "c3688e43-5148-4dce-988c-ef69fd5aba93",
   "metadata": {},
   "outputs": [],
   "source": [
    "p1_new = next_pivs[-20]\n",
    "points_p = tetrahedron.project_to_2d_euclidean(points, p0, p1_new, dist_func)\n",
    "\n",
    "nans = np.isnan(points_p).sum(axis=1).astype(\"bool\")\n",
    "points_p = points_p[~nans,:]\n",
    "c = points[~nans,0]\n",
    "\n",
    "#closer_to_p0 = dist_func(points, p0) < dist_func(points, p1)\n",
    "plt.scatter(*points_p.T,c=c, marker=\".\")\n",
    "\n",
    "\n",
    "# plot distance gauge\n",
    "ten_nn_dist = np.sort(dist_func([0]*dim, points))[9]\n",
    "plt.plot(\n",
    "    [points_p[:,0].min(),points_p[:,0].min()+ten_nn_dist],\n",
    "    [points_p[:,1].min(),points_p[:,1].min()+ten_nn_dist],\n",
    "    color=\"C1\",\n",
    "    label=\"average 10-NN distance\"\n",
    ")\n",
    "\n",
    "plt.legend()\n",
    "plt.gca().set_aspect('equal');"
   ]
  },
  {
   "cell_type": "code",
   "execution_count": null,
   "id": "308dd2bc-b7cb-4d1f-a837-e34e72b6231f",
   "metadata": {},
   "outputs": [],
   "source": []
  }
 ],
 "metadata": {
  "language_info": {
   "name": "python"
  }
 },
 "nbformat": 4,
 "nbformat_minor": 5
}
