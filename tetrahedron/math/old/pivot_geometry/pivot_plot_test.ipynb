{
 "cells": [
  {
   "cell_type": "code",
   "execution_count": null,
   "id": "c48d271c91900e03",
   "metadata": {},
   "outputs": [],
   "source": [
    "import matplotlib.pyplot as plt\n",
    "import numpy as np\n",
    "from scipy.spatial.transform import Rotation as R\n",
    "import seaborn as sns\n",
    "import matplotlib as mpl\n",
    "import scipy.stats as stats\n",
    "from matplotlib.collections import LineCollection\n",
    "\n",
    "from pivot import metric\n",
    "from pivot.plot import plot_grid, PivotSpaceVisualizer\n",
    "from pivot.transform import PivotSpace"
   ]
  },
  {
   "cell_type": "code",
   "execution_count": null,
   "id": "6ef9f0daa9dc78e7",
   "metadata": {},
   "outputs": [],
   "source": [
    "pivots = np.asarray([[-0.5,0], [0.5,0]])\n",
    "piv = PivotSpace(metric.Euclid(),pivots)\n",
    "viz = PivotSpaceVisualizer(piv, \"/fig/\")"
   ]
  },
  {
   "cell_type": "code",
   "execution_count": null,
   "id": "a0473dd96e727e1",
   "metadata": {},
   "outputs": [],
   "source": [
    "n = 20\n",
    "xx, yy = np.meshgrid(np.linspace(-1,1, n), np.linspace(-1, 1,n))\n",
    "\n",
    "points = np.array([xx.flatten(), yy.flatten()]).T\n",
    "p_t = piv.transform_points(points)\n",
    "xx_t, yy_t = p_t.T\n",
    "xx_t = xx_t.reshape(xx.shape)\n",
    "yy_t = yy_t.reshape(yy.shape)\n",
    "\n",
    "cmap_1 = mpl.colormaps['plasma']\n",
    "config = dict(\n",
    "    ycolor = cmap_1(np.linspace(0.2,1, xx.shape[0])),\n",
    "    xcolor = \"lightblue\",\n",
    ")\n",
    "\n",
    "viz.autoscale=False\n",
    "viz.plot(\n",
    "    \"r_2_grid.svg\",\n",
    "    lambda ax: plot_grid(xx,yy, **config),\n",
    "    lambda ax: plot_grid(xx_t,yy_t, **config),\n",
    ")"
   ]
  },
  {
   "cell_type": "code",
   "execution_count": null,
   "id": "546d5cb4e14b668c",
   "metadata": {},
   "outputs": [],
   "source": [
    "x = np.linspace(0, np.pi * 6, 100)\n",
    "points = np.array([x/10-0.5,np.sin(x)/5]).T\n",
    "p_t = piv.transform_points(points)\n",
    "\n",
    "def plot_colored_line(ax, points, cmap=None):\n",
    "    if cmap is None:\n",
    "        cmap = mpl.colormaps['plasma']\n",
    "    colors = cmap(np.linspace(0.2,1, len(points)))\n",
    "    points = points.reshape(-1, 1, 2)\n",
    "    segments = np.concatenate([points[:-1], points[1:]], axis=1)\n",
    "    \n",
    "    lc = LineCollection(segments, color=colors)\n",
    "    ax.add_collection(lc)\n",
    "    ax.autoscale()\n",
    "\n",
    "\n",
    "\n",
    "viz.plot(\n",
    "    \"r_2_sin_1.svg\",\n",
    "    lambda ax: plot_colored_line(ax, points),\n",
    "    lambda ax: plot_colored_line(ax, p_t),\n",
    ")"
   ]
  },
  {
   "cell_type": "code",
   "execution_count": null,
   "id": "4e478daeab5d7d5f",
   "metadata": {},
   "outputs": [],
   "source": [
    "x = np.linspace(0, np.pi * 12, 100)\n",
    "points = np.array([np.sin(x)/5, x/10-2]).T\n",
    "p_t = piv.transform_points(points)\n",
    "\n",
    "viz.plot(\n",
    "    \"r_2_sin_2.svg\",\n",
    "    lambda ax: plot_colored_line(ax, points),\n",
    "    lambda ax: plot_colored_line(ax, p_t),\n",
    ")"
   ]
  },
  {
   "cell_type": "code",
   "execution_count": null,
   "id": "247ff2d5817df143",
   "metadata": {},
   "outputs": [],
   "source": [
    "x = np.linspace(0, np.pi * 6, 100)\n",
    "points = np.array([np.sin(x)/5-0.6, x/10-1.3]).T\n",
    "p_t = piv.transform_points(points)\n",
    "\n",
    "viz.plot(\n",
    "    \"r_2_sin_3.svg\",\n",
    "    lambda ax: plot_colored_line(ax, points),\n",
    "    lambda ax: plot_colored_line(ax, p_t),\n",
    ")"
   ]
  },
  {
   "cell_type": "code",
   "execution_count": null,
   "id": "91dd5d637b58054b",
   "metadata": {},
   "outputs": [],
   "source": [
    "def get_circle(center=(1,2)):\n",
    "    center = np.array(center)\n",
    "    x = np.linspace(0, np.pi * 2, 100)\n",
    "    r = 0.2\n",
    "    points = center + np.array([r*np.sin(x), r*np.cos(x)]).T\n",
    "    points_transformed = piv.transform_points(points)\n",
    "    return points, points_transformed\n",
    "\n",
    "cmaps = [\"Blues\",\"Oranges\",\"Greens\"]\n",
    "cmaps = [mpl.colormaps[c] for c in cmaps]\n",
    "circles = [\n",
    "    get_circle((2,1.5)),\n",
    "    get_circle((0.5,1.5)),\n",
    "    get_circle((0,0.5)),\n",
    "]\n",
    "\n",
    "def plot_metric_s(ax):\n",
    "    for (points,_),cmap in zip(circles, cmaps):\n",
    "        plot_colored_line(ax, points, cmap)\n",
    "\n",
    "def plot_pivot_s(ax):\n",
    "    for (_,points_transformed),cmap in zip(circles, cmaps):\n",
    "        plot_colored_line(ax, points_transformed, cmap)\n",
    "\n",
    "viz.plot(\n",
    "    \"r_2_queries.svg\",\n",
    "    plot_metric_s,\n",
    "    plot_pivot_s,\n",
    ")"
   ]
  },
  {
   "cell_type": "code",
   "execution_count": null,
   "id": "4303e7a90e1b2e47",
   "metadata": {},
   "outputs": [],
   "source": []
  }
 ],
 "metadata": {
  "language_info": {
   "name": "python"
  }
 },
 "nbformat": 4,
 "nbformat_minor": 5
}
