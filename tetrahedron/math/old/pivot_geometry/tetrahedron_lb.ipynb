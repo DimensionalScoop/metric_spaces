{
 "cells": [
  {
   "cell_type": "code",
   "execution_count": null,
   "id": "c48d271c91900e03",
   "metadata": {},
   "outputs": [],
   "source": [
    "import matplotlib.pyplot as plt\n",
    "import numpy as np\n",
    "from scipy.spatial.transform import Rotation as R\n",
    "import seaborn as sns\n",
    "import matplotlib as mpl\n",
    "import scipy.stats as stats\n",
    "from matplotlib.collections import LineCollection\n",
    "\n",
    "from pivot import metric\n",
    "from pivot.plot import plot_grid, PivotSpaceVisualizer\n",
    "from pivot.transform import PivotSpace"
   ]
  },
  {
   "cell_type": "code",
   "execution_count": null,
   "id": "6ef9f0daa9dc78e7",
   "metadata": {},
   "outputs": [],
   "source": [
    "pivots = np.asarray([[-0.5,0], [0.5,0]])\n",
    "piv = PivotSpace(metric.Euclid(),pivots)\n",
    "viz = PivotSpaceVisualizer(piv, \"/fig/\")"
   ]
  },
  {
   "cell_type": "code",
   "execution_count": null,
   "id": "546d5cb4e14b668c",
   "metadata": {},
   "outputs": [],
   "source": [
    "from pivot.generate import hyper_unit_grid\n",
    "from pivot.query import RangeQuery\n",
    "from maths.tetrahedron import tetrahedron\n",
    "\n",
    "\n",
    "points = hyper_unit_grid(2,100000)*8\n",
    "\n",
    "query = RangeQuery(np.array([0.5,0.5]),0.3,piv)\n",
    "candidates = query.get_candidates(points,lower_bound=\"tetrahedron\")\n",
    "\n",
    "\n",
    "def plot_metric(ax):\n",
    "    plt.plot(*query.center, \"m+\", label=\"query\")\n",
    "    plot_colored_points(ax, candidates)\n",
    "\n",
    "def plot_pivot(ax):\n",
    "    q_center_t = piv.transform_points(query.center.reshape([1,-1]))\n",
    "    plt.plot(*q_center_t.T, \"m+\", label=\"query\")\n",
    "    plot_colored_points(ax, piv.transform_points(candidates))\n",
    "    \n",
    "    r = query.range_\n",
    "    rectangle = np.array([\n",
    "            [-r, -r],\n",
    "            [r, -r],\n",
    "        [r,r],\n",
    "        [-r,r],\n",
    "        [-r,-r],\n",
    "        ])\n",
    "    plt.plot(\n",
    "        *(rectangle + q_center_t).T,\n",
    "        label=\"triangle lb\"\n",
    "    )\n",
    "    plt.legend()\n",
    "\n",
    "\n",
    "def plot_colored_points(ax, points, cmap=None):\n",
    "    if cmap is None:\n",
    "        cmap = mpl.colormaps['plasma']\n",
    "    colors = cmap(np.linspace(0.2,1, len(points)))\n",
    "    plt.scatter(*points.T, c=colors)\n",
    "    \n",
    "    \n",
    "    \n",
    "\n",
    "    \n",
    "viz.plot(\n",
    "    \"r_2_sin_1.svg\",\n",
    "    lambda ax: plot_metric(ax),\n",
    "    lambda ax: plot_pivot(ax),\n",
    ")"
   ]
  },
  {
   "cell_type": "code",
   "execution_count": null,
   "id": "bd9c4b7cd92857fb",
   "metadata": {},
   "outputs": [],
   "source": [
    "pivots = np.asarray([[-0.5,0,0.2], [0.5,0,-0.2]])\n",
    "piv = PivotSpace(metric.Euclid(),pivots)\n",
    "query = RangeQuery(np.array([0.5,0.2, 0.3]),0.3,piv)\n",
    "candidates = query.get_candidates(points,lower_bound=\"ptolemy\")\n",
    "len(candidates)"
   ]
  },
  {
   "cell_type": "code",
   "execution_count": null,
   "id": "4e478daeab5d7d5f",
   "metadata": {},
   "outputs": [],
   "source": [
    "x = np.linspace(0, np.pi * 12, 100)\n",
    "points = np.array([np.sin(x)/5, x/10-2]).T\n",
    "p_t = piv.transform_points(points)\n",
    "\n",
    "viz.plot(\n",
    "    \"r_2_sin_2.svg\",\n",
    "    lambda ax: plot_colored_line(ax, points),\n",
    "    lambda ax: plot_colored_line(ax, p_t),\n",
    ")"
   ]
  },
  {
   "cell_type": "code",
   "execution_count": null,
   "id": "247ff2d5817df143",
   "metadata": {},
   "outputs": [],
   "source": [
    "x = np.linspace(0, np.pi * 6, 100)\n",
    "points = np.array([np.sin(x)/5-0.6, x/10-1.3]).T\n",
    "p_t = piv.transform_points(points)\n",
    "\n",
    "viz.plot(\n",
    "    \"r_2_sin_3.svg\",\n",
    "    lambda ax: plot_colored_line(ax, points),\n",
    "    lambda ax: plot_colored_line(ax, p_t),\n",
    ")"
   ]
  },
  {
   "cell_type": "code",
   "execution_count": null,
   "id": "91dd5d637b58054b",
   "metadata": {},
   "outputs": [],
   "source": [
    "def get_circle(center=(1,2)):\n",
    "    center = np.array(center)\n",
    "    x = np.linspace(0, np.pi * 2, 100)\n",
    "    r = 0.2\n",
    "    points = center + np.array([r*np.sin(x), r*np.cos(x)]).T\n",
    "    points_transformed = piv.transform_points(points)\n",
    "    return points, points_transformed\n",
    "\n",
    "cmaps = [\"Blues\",\"Oranges\",\"Greens\"]\n",
    "cmaps = [mpl.colormaps[c] for c in cmaps]\n",
    "circles = [\n",
    "    get_circle((2,1.5)),\n",
    "    get_circle((0.5,1.5)),\n",
    "    get_circle((0,0.5)),\n",
    "]\n",
    "\n",
    "def plot_metric_s(ax):\n",
    "    for (points,_),cmap in zip(circles, cmaps):\n",
    "        plot_colored_line(ax, points, cmap)\n",
    "\n",
    "def plot_pivot_s(ax):\n",
    "    for (_,points_transformed),cmap in zip(circles, cmaps):\n",
    "        plot_colored_line(ax, points_transformed, cmap)\n",
    "\n",
    "viz.plot(\n",
    "    \"r_2_queries.svg\",\n",
    "    plot_metric_s,\n",
    "    plot_pivot_s,\n",
    ")"
   ]
  },
  {
   "cell_type": "code",
   "execution_count": null,
   "id": "4303e7a90e1b2e47",
   "metadata": {},
   "outputs": [],
   "source": []
  }
 ],
 "metadata": {
  "language_info": {
   "name": "python"
  }
 },
 "nbformat": 4,
 "nbformat_minor": 5
}
