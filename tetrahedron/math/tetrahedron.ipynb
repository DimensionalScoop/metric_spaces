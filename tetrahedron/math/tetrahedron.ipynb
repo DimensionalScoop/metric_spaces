{
 "cells": [
  {
   "cell_type": "code",
   "execution_count": null,
   "id": "initial_id",
   "metadata": {},
   "outputs": [],
   "source": [
    "import scipy.spatial.distance\n",
    "\n",
    "\"\"\"Some important Ptolemaic metric spaces are 4-embeddable into R^3.\n",
    "Connor mentions a tetrahedron lower bound: When all but one distances\n",
    "between four points are known, the last one can be lower bounded as the\n",
    "shortest side of a tetrahedron. This would be a degenerate tetrahedron,\n",
    "with the two known triangles sharing one side and lying in the same plane.\n",
    "\"\"\""
   ]
  },
  {
   "cell_type": "code",
   "execution_count": null,
   "id": "720e49f562f57972",
   "metadata": {},
   "outputs": [],
   "source": [
    "import numpy as np\n",
    "from sympy import *\n",
    "#from algebra_with_sympy import *\n",
    "\n",
    "init_printing(use_latex='mathjax')\n",
    "\n",
    "dist_prop = dict(real=True, positive=True)\n",
    "# generic symbols\n",
    "A, s, a, b, c, h = symbols(\"A s a b c h\", **dist_prop)\n",
    "\n",
    "# Heron\n",
    "semiperimeter = {s: (a + b + c) / 2}\n",
    "area = sqrt(s * (s - a) * (s - b) * (s - c))\n",
    "\n",
    "height_over_a = 2 / a * area.subs(semiperimeter)\n",
    "\n",
    "area, semiperimeter"
   ]
  },
  {
   "cell_type": "markdown",
   "id": "5a1dddb385ed4598",
   "metadata": {},
   "source": [
    "![](img.png)"
   ]
  },
  {
   "cell_type": "code",
   "execution_count": null,
   "id": "9076f83df920d5c9",
   "metadata": {},
   "outputs": [],
   "source": [
    "# we have two pivots, a query (center) and an object\n",
    "# we want to lower bound d(q,o)\n",
    "# we know all other distances\n",
    "\n",
    "# the two resulting triangles have a shared base p0-p1 of length p\n",
    "p = symbols(\"p\", **dist_prop)\n",
    "\n",
    "# the query triangle has these other sides:\n",
    "q0, q1 = symbols(\"q:2\", **dist_prop)\n",
    "\n",
    "# dito for the object triangle\n",
    "o0, o1 = symbols(\"o:2\", **dist_prop)\n",
    "\n",
    "# we are repeating a lot of steps for both triangles\n",
    "def q2o(term):\n",
    "    subs = {q0:o0, q1:o1}\n",
    "    return term.subs(subs)"
   ]
  },
  {
   "cell_type": "code",
   "execution_count": null,
   "id": "0789be43",
   "metadata": {},
   "outputs": [],
   "source": [
    "# these triangles have heights that we can infer via Heron\n",
    "hq = height_over_a.subs({\n",
    "    a: p, b: q0, c: q1\n",
    "})\n",
    "hq = factor(hq)\n",
    "ho = q2o(hq)\n",
    "\n",
    "hq"
   ]
  },
  {
   "cell_type": "code",
   "execution_count": null,
   "id": "e60ce441650bf0c1",
   "metadata": {},
   "outputs": [],
   "source": [
    "# the height \"bisects\" the shared base at these lengths,\n",
    "# measured from one of the two possible vertices:\n",
    "mq0 = factor(sqrt(q0**2 - hq**2))\n",
    "mo0 = q2o(mq0)\n",
    "\n",
    "mo0"
   ]
  },
  {
   "cell_type": "code",
   "execution_count": null,
   "id": "f73699fb3c7543f1",
   "metadata": {},
   "outputs": [],
   "source": [
    "# We know the height of the triangle w.r.t. q.\n",
    "# Let's figure out the \"width\" or the \"x-position\" of the point q.\n",
    "\n",
    "# Let q0 be on the left and q1 be on the right.\n",
    "# If the triangle is acute:\n",
    "m_ac = mq0\n",
    "\n",
    "# If the triangle is obtuse, we have two cases:\n",
    "# One where the point is to the left:\n",
    "mob_left = -mq0\n",
    "# And one where the point is to the right:\n",
    "mob_right = mq0 # which is identical to m_ac\n",
    "\n",
    "# left obtuse means that q1 has to be the longest side and\n",
    "# that q1**2 > p**2 + q1**2\n",
    "mq = Piecewise(\n",
    "    (mob_left,  q1**2 > p**2 + q0**2), # And(And(q1 > p, q1 > q0) ,\n",
    "    (m_ac, True)\n",
    ")\n",
    "\n",
    "mq"
   ]
  },
  {
   "cell_type": "code",
   "execution_count": null,
   "id": "2608a65a",
   "metadata": {},
   "outputs": [],
   "source": [
    "# but this is just the same formula with the abs() removed\n",
    "mq = mq.args[1][0].replace(Abs, lambda x:x)\n",
    "mo = q2o(mq)\n",
    "mq"
   ]
  },
  {
   "cell_type": "code",
   "execution_count": null,
   "id": "1142c889",
   "metadata": {},
   "outputs": [],
   "source": [
    "x_dist = simplify(abs(mq - mo))\n",
    "x_dist # mathematica_code(x_dist)"
   ]
  },
  {
   "cell_type": "code",
   "execution_count": null,
   "id": "8570a69e",
   "metadata": {},
   "outputs": [],
   "source": [
    "diff(1/2/p)"
   ]
  },
  {
   "cell_type": "code",
   "execution_count": null,
   "id": "44a756f6",
   "metadata": {},
   "outputs": [],
   "source": [
    "solveset(diff(x_dist, p),p)"
   ]
  },
  {
   "cell_type": "code",
   "execution_count": null,
   "id": "fe710660f1ea9725",
   "metadata": {},
   "outputs": [],
   "source": [
    "# construct the right triangle which hypotenuse of length d connects q and o\n",
    "# from h and m s\n",
    "\n",
    "lb2 = (hq - ho) ** 2 + (mq - mo) ** 2\n",
    "\n",
    "lb2 = simplify(lb2)\n",
    "dist = simplify(sqrt(lb2))\n",
    "lb2 # Mathematica can't simplify this any further"
   ]
  },
  {
   "cell_type": "code",
   "execution_count": null,
   "id": "c9f1bd5f",
   "metadata": {},
   "outputs": [],
   "source": [
    "# we can also find an upper bound this way:\n",
    "# arrange the triangles so that one height is positive and one is negative:\n",
    "ub2 = (hq + ho)**2 + (mq - mo)**2\n",
    "ub2 = simplify(ub2)\n",
    "ub2"
   ]
  },
  {
   "cell_type": "code",
   "execution_count": null,
   "id": "2a2e9660",
   "metadata": {},
   "outputs": [],
   "source": [
    "# test with a simple triangle:\n",
    "tri0 = {\n",
    "    p:3,\n",
    "    q0:7,\n",
    "    q1:5,\n",
    "}\n",
    "tri1 = {\n",
    "    p:tri0[p],\n",
    "    o0:10.77,\n",
    "    o1:12.21,\n",
    "}\n",
    "\n",
    "height0 = 4.33\n",
    "m_base0 = 5.5\n",
    "precision = 0.02\n",
    "\n",
    "assert N(abs(hq.subs(tri0) - height0)) < precision, \"wrong height!\"\n",
    "assert N(abs(mq0.subs(tri0) - m_base0)) < precision, \"wrong intersect!\"\n",
    "\n",
    "true_dist = 11.06\n",
    "this_lb = N(sqrt(lb2).subs(tri0).subs(tri1))\n",
    "assert np.allclose(true_dist, float(this_lb), atol=precision), old_lb"
   ]
  },
  {
   "cell_type": "code",
   "execution_count": null,
   "id": "14377415",
   "metadata": {},
   "outputs": [],
   "source": [
    "# test with a \"hard\" triangle\n",
    "trih = {\n",
    "    p:32.44996148,\n",
    "    q0:65.76473219,\n",
    "    q1:38.83297568,\n",
    "    o0:64.5368112 ,\n",
    "    o1:36.22154055,\n",
    "}\n",
    "\n",
    "assert np.abs(hq.subs(trih) - 27.74) < precision\n",
    "assert np.abs(ho.subs(trih) - 23.3) < precision\n",
    "mq0.subs(trih) - 32.45, mo0.subs(trih) - 32.45\n",
    "\n",
    "assert np.allclose(float(sqrt(lb2).subs(trih)), 4.47, atol=precision)"
   ]
  },
  {
   "cell_type": "code",
   "execution_count": null,
   "id": "91f8cadd",
   "metadata": {},
   "outputs": [],
   "source": [
    "cse([lb2,ub2])"
   ]
  },
  {
   "cell_type": "code",
   "execution_count": null,
   "id": "6f377812",
   "metadata": {},
   "outputs": [],
   "source": [
    "# some mappings are too simple to be worth the rewriting\n",
    "def eliminate_mappings(mappings, expressions, ignore_idx):\n",
    "    ignore = [mappings[i] for i in ignore_idx]\n",
    "    mappings = [i for i in mappings if i not in ignore]\n",
    "\n",
    "    ignore = [(m[0],m[1].subs(ignore)) for m in ignore]\n",
    "    mappings = [(m[0], m[1].subs(ignore)) for m in mappings]\n",
    "    expressions = [e.subs(ignore) for e in expressions]\n",
    "    return mappings, expressions\n",
    "\n",
    "\n",
    "ignore_idx = [2, 6]\n",
    "mappings, expressions = eliminate_mappings(*cse([lb2,ub2]), ignore_idx)\n",
    "expressions "
   ]
  },
  {
   "cell_type": "code",
   "execution_count": null,
   "id": "b20f3057",
   "metadata": {},
   "outputs": [],
   "source": [
    "hq"
   ]
  },
  {
   "cell_type": "code",
   "execution_count": null,
   "id": "32f1f8af",
   "metadata": {},
   "outputs": [],
   "source": [
    "yq, yo = symbols(\"y_q y_o\")\n",
    "lb2.replace(hq,yq)\n"
   ]
  },
  {
   "cell_type": "code",
   "execution_count": null,
   "id": "9a74ee07",
   "metadata": {},
   "outputs": [],
   "source": [
    "mathematica_code(lb2)"
   ]
  },
  {
   "cell_type": "code",
   "execution_count": null,
   "id": "0f3c0a16",
   "metadata": {},
   "outputs": [],
   "source": [
    "solve(diff(lb2, p),p)"
   ]
  },
  {
   "cell_type": "code",
   "execution_count": null,
   "id": "ac80e09c",
   "metadata": {},
   "outputs": [],
   "source": []
  },
  {
   "cell_type": "code",
   "execution_count": null,
   "id": "0f888f79",
   "metadata": {},
   "outputs": [],
   "source": [
    "# TODO: refactor me\n",
    "def piecewise_to_maca(term:Piecewise, pretty=False):\n",
    "    \"\"\"Return Mathematica code for Piecewise objects.\n",
    "    \n",
    "    mathematica_code(term) cannot handle Piecewise objects.\n",
    "    \"\"\"\n",
    "    pieces = []\n",
    "\n",
    "    def to_maca(term):\n",
    "        return mathematica_code(term)\n",
    "\n",
    "    for term, condition in term.args:\n",
    "        pieces.append(\n",
    "            \"{\" + to_maca(term) + \",\" + to_maca(condition) + \"}\"\n",
    "        )\n",
    "    \n",
    "    if not pretty:\n",
    "        args = \",\".join(pieces)\n",
    "    else:\n",
    "        args = \",\\n\".join(pieces)\n",
    "        args = \"\\n\" + args + \"\\n\"\n",
    "        \n",
    "    return \"Piecewise[{\"+args+\"}]\""
   ]
  },
  {
   "cell_type": "code",
   "execution_count": null,
   "id": "59630c78",
   "metadata": {},
   "outputs": [],
   "source": [
    "from sympy.parsing.mathematica import parse_mathematica\n",
    "\n",
    "def from_maca(string, free_symbols):\n",
    "    term = parse_mathematica(string)\n",
    "    term = term.replace(Function(\"Abs\"), abs)\n",
    "    # symbols don't get matched automatically\n",
    "    for s in free_symbols:\n",
    "        term = term.replace(symbols(str(s)),s)\n",
    "    return term\n",
    "\n",
    "string = \"\"\"\n",
    "(1/(4 p^2))((Sqrt[(o0 + o1 - p) (o0 - o1 + p) (-o0 + o1 + p) (o0 + \n",
    "       o1 + p)] - \n",
    "    Sqrt[(p + q0 - q1) (p - q0 + q1) (-p + q0 + q1) (p + q0 + \n",
    "       q1)])^2 + (Abs[o0^2 - o1^2 + p^2] - Abs[p^2 + q0^2 - q1^2])^2)\n",
    "\"\"\"\n",
    "free_symbols = [p,q0, q1, o0, o1]\n",
    "mdist = from_maca(string, free_symbols)\n",
    "\n",
    "mdist"
   ]
  },
  {
   "cell_type": "code",
   "execution_count": null,
   "id": "50015228abfe3f66",
   "metadata": {},
   "outputs": [],
   "source": []
  },
  {
   "cell_type": "code",
   "execution_count": null,
   "id": "65e72db155a35063",
   "metadata": {},
   "outputs": [],
   "source": []
  },
  {
   "cell_type": "code",
   "execution_count": null,
   "id": "d4a15385",
   "metadata": {},
   "outputs": [],
   "source": []
  },
  {
   "cell_type": "code",
   "execution_count": null,
   "id": "91ca7b51da76afc",
   "metadata": {},
   "outputs": [],
   "source": [
    "#connor_diff = lambdify([p,q0, q1, o0, o1], lb - dist, \"numpy\")\n",
    "tetrahedron_lb = lambdify([p,q0, q1, o0, o1], sqrt(lb2), \"numpy\")\n",
    "tetrahedron_ub = lambdify([p,q0, q1, o0, o1], sqrt(ub2), \"numpy\")\n",
    "\n",
    "def ptolemy_lb(p, q0, q1, o0, o1):\n",
    "    diff = np.abs(q0 * o1 - q1 * o0)\n",
    "    return diff / p\n",
    "\n",
    "def ptolemy_ub(p, q0, q1, o0, o1):\n",
    "    diff = np.abs(q0 * o1 + q1 * o0)\n",
    "    return diff / p"
   ]
  },
  {
   "cell_type": "code",
   "execution_count": null,
   "id": "13dd010cdf03803f",
   "metadata": {},
   "outputs": [],
   "source": [
    "from tqdm import tqdm\n",
    "\n",
    "def _stable_tetrahedron_lb(p_n, q0_n, q1_n, o0_n, o1_n):\n",
    "    for i in tqdm(range(len(p_n))):\n",
    "        yield dist.subs({\n",
    "            p:p_n[i],\n",
    "            q0:q0_n[i],\n",
    "            q1:q1_n[i],\n",
    "            o0:o0_n[i],\n",
    "            o1:o1_n[i],\n",
    "        }).evalf()\n",
    "\n",
    "def stable_tetrahedron_lb(p_n, q0_n, q1_n, o0_n, o1_n):\n",
    "    return np.asarray(list(_stable_tetrahedron_lb(p_n, q0_n, q1_n, o0_n, o1_n)), dtype=float)"
   ]
  },
  {
   "cell_type": "code",
   "execution_count": null,
   "id": "727cf0e718b6b726",
   "metadata": {},
   "outputs": [],
   "source": [
    "# simulate triangles\n",
    "import numpy as np\n",
    "import matplotlib.pyplot as plt\n",
    "from scipy import spatial\n",
    "rng = np.random.default_rng()\n",
    "\n",
    "dist_func = lambda x,y: spatial.minkowski_distance(x,y,2)\n",
    "n_samples= 100000\n",
    "dim = 200\n",
    "points = rng.integers(-37,38, size=[n_samples, 4, dim])\n",
    "p0,p1,q,o = 0,1,2,3\n",
    "dists_p = dist_func(points[:,p0,:], points[:,p1,:])\n",
    "dists_q0 = dist_func(points[:,p0,:], points[:,q,:])\n",
    "dists_q1 = dist_func(points[:,p1,:], points[:,q,:])\n",
    "dists_o0 = dist_func(points[:,p0,:], points[:,o,:])\n",
    "dists_o1 = dist_func(points[:,p1,:], points[:,o,:])\n",
    "dists_target = dist_func(points[:,q,:], points[:,o,:])\n",
    "\n",
    "args = np.vstack((dists_p, dists_q0, dists_q1, dists_o0, dists_o1))\n",
    "tet_lb = tetrahedron_lb(*args)\n",
    "tet_ub = tetrahedron_ub(*args)\n",
    "pto_lb = ptolemy_lb(*args)\n",
    "pto_ub = ptolemy_ub(*args)\n",
    "\n",
    "bins = 100\n",
    "plt.hist(dists_target,  bins=bins, label=\"actual\")\n",
    "plt.hist(tet_lb, bins=bins, histtype=\"step\", label=\"tetrahedron lb\")\n",
    "plt.hist(tet_ub, bins=bins, histtype=\"step\", label=\"tetrahedron ub\")\n",
    "plt.hist(pto_lb, bins=bins, histtype=\"step\", label=\"Ptolemy LB\")\n",
    "plt.hist(pto_ub, bins=bins, histtype=\"step\", label=\"Ptolemy UB\")\n",
    "\n",
    "plt.title(\"differences between lower bound functions\")\n",
    "plt.xlabel(\"distance\")\n",
    "plt.ylabel(\"freq\")\n",
    "plt.legend()\n",
    "plt.show()"
   ]
  },
  {
   "cell_type": "code",
   "execution_count": null,
   "id": "5338ae20",
   "metadata": {},
   "outputs": [],
   "source": [
    "from uncertainties import ufloat"
   ]
  },
  {
   "cell_type": "code",
   "execution_count": null,
   "id": "150a65a4",
   "metadata": {},
   "outputs": [],
   "source": [
    "def compare_estimator(estimator):\n",
    "    plt.subplot(2,1,1)\n",
    "    plt.hist(estimator, bins=100, label=\"estimation\");\n",
    "    plt.hist(dists_target, bins=100, histtype=\"step\", label=\"actual\");\n",
    "    plt.xlabel(\"distance\")\n",
    "    plt.legend()\n",
    "    plt.subplot(2,1,2)\n",
    "    error = estimator - dists_target\n",
    "    plt.hist(error, bins=100);\n",
    "    plt.xlabel(\"error\")\n",
    "    plt.tight_layout()\n",
    "    \n",
    "    print(\"Error:\",ufloat(error.mean(), error.std()))\n",
    "    print(\"Relative Error:\",error.std()/dists_target.mean())"
   ]
  },
  {
   "cell_type": "code",
   "execution_count": null,
   "id": "e7cd8511",
   "metadata": {},
   "outputs": [],
   "source": [
    "estimator = (tet_lb + tet_ub)/2+42\n",
    "\n",
    "compare_estimator(estimator)"
   ]
  },
  {
   "cell_type": "code",
   "execution_count": null,
   "id": "e3be7800",
   "metadata": {},
   "outputs": [],
   "source": [
    "estimator = (pto_lb + pto_ub)/2\n",
    "compare_estimator(estimator)"
   ]
  },
  {
   "cell_type": "code",
   "execution_count": null,
   "id": "a5614256",
   "metadata": {},
   "outputs": [],
   "source": [
    "estimator = (tet_lb + tet_ub + pto_lb + pto_ub)/4 +4\n",
    "compare_estimator(estimator)"
   ]
  },
  {
   "cell_type": "code",
   "execution_count": null,
   "id": "df530304",
   "metadata": {},
   "outputs": [],
   "source": []
  },
  {
   "cell_type": "code",
   "execution_count": null,
   "id": "aaaac486",
   "metadata": {},
   "outputs": [],
   "source": [
    "plt.hist(dists_target - tet_lb, bins=100);\n",
    "plt.xlabel(\"real distance - lower bound\")\n",
    "plt.ylabel(\"counts\")"
   ]
  },
  {
   "cell_type": "code",
   "execution_count": null,
   "id": "28c9df78",
   "metadata": {},
   "outputs": [],
   "source": [
    "def plt_circle(center, radius):\n",
    "    circle = plt.Circle(center, radius, edgecolor='blue', facecolor='none')\n",
    "    plt.gca().add_patch(circle)"
   ]
  },
  {
   "cell_type": "code",
   "execution_count": null,
   "id": "ec381c7c",
   "metadata": {},
   "outputs": [],
   "source": [
    "worst = (dists_target - tet_lb) > 20\n",
    "worst_offenders = points[worst]\n",
    "\n",
    "p1,p2,o,q = worst_offenders[0]\n",
    "\n",
    "\n",
    "plt.plot(*p1, \"o\", label=\"pivot 0\")\n",
    "plt.plot(*p2, \"o\", label=\"pivot 1\")\n",
    "plt.plot(*o, \"x\", label=\"object\")\n",
    "plt.plot(*q, \"+\", label=\"query\")\n",
    "\n",
    "plt.legend()"
   ]
  },
  {
   "cell_type": "code",
   "execution_count": null,
   "id": "a74dae54",
   "metadata": {},
   "outputs": [],
   "source": [
    "worst_offenders[0]"
   ]
  },
  {
   "cell_type": "code",
   "execution_count": null,
   "id": "ea0eec4a",
   "metadata": {},
   "outputs": [],
   "source": [
    "plt.hist(-dists_target + tet_ub, bins=100);\n",
    "plt.xlabel(\"upper bound - real distance\")\n",
    "plt.ylabel(\"counts\")"
   ]
  },
  {
   "cell_type": "code",
   "execution_count": null,
   "id": "164c40bb",
   "metadata": {},
   "outputs": [],
   "source": [
    "violations = (dists_target - tet_lb) / dists_target < -0.01\n",
    "sum(violations) / len(tet_lb)"
   ]
  },
  {
   "cell_type": "code",
   "execution_count": null,
   "id": "e502386d680a9270",
   "metadata": {},
   "outputs": [],
   "source": [
    "def violations(lb):\n",
    "    return (dists_target < lb).sum() / len(dists_target)\n",
    "violations_tet = violations(tet_lb)\n",
    "violations_pto = violations(pto_n)\n",
    "violations_tet, violations_pto"
   ]
  },
  {
   "cell_type": "code",
   "execution_count": null,
   "id": "793b64f9a0d8ac8",
   "metadata": {},
   "outputs": [],
   "source": [
    "plt.hist(pto_n - tet_lb, bins=100);"
   ]
  },
  {
   "cell_type": "code",
   "execution_count": null,
   "id": "466e0b22594256cc",
   "metadata": {},
   "outputs": [],
   "source": [
    "plt.hist(dists_target - tet_lb, histtype=\"step\", bins=100);\n",
    "#plt.hist(tet_ub - dists_target, histtype=\"step\");"
   ]
  },
  {
   "cell_type": "code",
   "execution_count": null,
   "id": "900f94a90925e8aa",
   "metadata": {},
   "outputs": [],
   "source": [
    "problems = np.abs(dists_target - my_lb_n) > 0.01\n",
    "ppoints = points[problems,:,:]\n",
    "\n",
    "plt.plot(*ppoints[0][:2].T)\n",
    "for p in ppoints[0]:\n",
    "    plt.plot(*p, \"o\")\n",
    "    \n",
    "plt.show()"
   ]
  },
  {
   "cell_type": "code",
   "execution_count": null,
   "id": "4965d5c3c2e6f420",
   "metadata": {},
   "outputs": [],
   "source": []
  }
 ],
 "metadata": {
  "language_info": {
   "name": "python"
  }
 },
 "nbformat": 4,
 "nbformat_minor": 5
}
