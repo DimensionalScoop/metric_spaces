{
 "cells": [
  {
   "cell_type": "code",
   "execution_count": 78,
   "id": "32f430b1a42f5aff",
   "metadata": {
    "ExecuteTime": {
     "end_time": "2024-04-09T12:26:13.499506Z",
     "start_time": "2024-04-09T12:26:13.493670Z"
    }
   },
   "outputs": [
    {
     "data": {
      "text/plain": [
       "'ba'"
      ]
     },
     "execution_count": 78,
     "metadata": {},
     "output_type": "execute_result"
    }
   ],
   "source": [
    "def single_pass_replacement(string, replacements:dict):\n",
    "    \"\"\"simultaneous letter-wise replacements\n",
    "    >>> single_pass_replacement(\"ab\", {\"a\":\"b\", \"b\":\"a\"})\n",
    "    'ba'\n",
    "    \"\"\"\n",
    "    rv = \"\"\n",
    "    for c in string:\n",
    "        if c in replacements:\n",
    "            rv += replacements[c]\n",
    "        else:\n",
    "            rv += c\n",
    "    return rv"
   ]
  },
  {
   "cell_type": "code",
   "execution_count": null,
   "id": "d2f766edfc403585",
   "metadata": {},
   "outputs": [],
   "source": [
    "import re\n",
    "\n",
    "def apply_function_to_matches(pattern, string, func):\n",
    "    \"\"\"\n",
    "    finds all substrings that match the pattern, applies func to the substring, and inserts the result into the string again.\n",
    "    >>> sort_letter_tuples(\"da * cd >= fe * g\")\n",
    "    'ad * cd >= ef * g'\n",
    "    \"\"\"\n",
    "    letter_tuples = re.finditer(pattern,string)\n",
    "    rv = list(string)\n",
    "    for tuple in letter_tuples:\n",
    "        idx_0, idx_1 = tuple.start(), tuple.end()\n",
    "        correct_order = sorted(tuple.group())\n",
    "        rv[idx_0:idx_1] = correct_order\n",
    "    return \"\".join(rv)"
   ]
  },
  {
   "cell_type": "code",
   "execution_count": 150,
   "id": "d0b2243a85c96ed3",
   "metadata": {
    "ExecuteTime": {
     "end_time": "2024-04-09T12:51:44.240238Z",
     "start_time": "2024-04-09T12:51:44.237120Z"
    }
   },
   "outputs": [
    {
     "data": {
      "text/plain": [
       "'ad * cd >= ef * g '"
      ]
     },
     "execution_count": 150,
     "metadata": {},
     "output_type": "execute_result"
    }
   ],
   "source": [
    "pattern = \"\\w+\"\n",
    "string = \"da * cd >= fe * g \"\n",
    "replacer = lambda x:\"\".join(sorted(x.group()))\n",
    "re.sub(pattern, replacer, string)"
   ]
  },
  {
   "cell_type": "code",
   "execution_count": 176,
   "id": "19927874a9580ff3",
   "metadata": {
    "ExecuteTime": {
     "end_time": "2024-04-09T13:03:22.963724Z",
     "start_time": "2024-04-09T13:03:22.955205Z"
    }
   },
   "outputs": [
    {
     "data": {
      "text/plain": [
       "'a+b=a*b+gf+k'"
      ]
     },
     "execution_count": 176,
     "metadata": {},
     "output_type": "execute_result"
    }
   ],
   "source": [
    "import re\n",
    "\n",
    "def sort_letter_tuples(string):\n",
    "    \"\"\"\n",
    "    >>> sort_letter_tuples(\"da * cd >= fe * g\")\n",
    "    'ad * cd >= ef * g'\n",
    "    \"\"\"\n",
    "    def sort(regex_result):\n",
    "        s = regex_result.group()\n",
    "        return \"\".join(sorted(s))\n",
    "    return re.sub(r\"\\w+\", sort, string)\n",
    "\n",
    "def sort_products(string):\n",
    "    \"\"\"\n",
    "    >>> sort_products(\"dc * ab\")\n",
    "    'ab * dc'\n",
    "    \"\"\"\n",
    "    product = r\"[\\w\\*\\s]+\"\n",
    "    string = string.replace(\" \",\"\")\n",
    "    \n",
    "    def sort(rr):\n",
    "        s = rr.group()\n",
    "        factors = s.split(\"*\")\n",
    "        return \"*\".join(sorted(factors))\n",
    "    \n",
    "    return re.sub(product, sort, string)\n",
    "\n",
    "def sort_summands(string):\n",
    "    sums = r\"[\\w\\*\\s\\+]+\"\n",
    "    string = string.replace(\" \",\"\")\n",
    "     \n",
    "    def sort(rr):\n",
    "        sum_ = rr.group()\n",
    "        summands = sum_.split(\"+\")\n",
    "        return \"+\".join(sorted(summands))\n",
    "    \n",
    "    return re.sub(sums, sort, string)\n",
    "\n",
    "def standardize(eq:str):\n",
    "    return sort_summands(sort_products(sort_letter_tuples(eq))) "
   ]
  },
  {
   "cell_type": "code",
   "execution_count": 189,
   "id": "f5940d7305c41356",
   "metadata": {
    "ExecuteTime": {
     "end_time": "2024-04-09T13:30:50.082073Z",
     "start_time": "2024-04-09T13:30:50.076498Z"
    }
   },
   "outputs": [],
   "source": [
    "def get_Pto(a,b,c,d):\n",
    "    replacements = {\n",
    "        \"a\":a,\n",
    "        \"b\":b,\n",
    "        \"c\":c,\n",
    "        \"d\":d\n",
    "    }\n",
    "    pto = \"ab * cd <= ac * bd + bc * ad\"\n",
    "    pto = single_pass_replacement(pto, replacements)\n",
    "    pto = sort_letter_tuples(pto)\n",
    "    return pto\n",
    "\n",
    "\n",
    "def get_four_point(a,b,c,d):\n",
    "    replacements = {\n",
    "        \"a\":a,\n",
    "        \"b\":b,\n",
    "        \"c\":c,\n",
    "        \"d\":d\n",
    "    }\n",
    "    pto = \"ab + cd <= ac + bd + ad + bc\"\n",
    "    pto = single_pass_replacement(pto, replacements)\n",
    "    pto = sort_letter_tuples(pto)\n",
    "    return pto\n"
   ]
  },
  {
   "cell_type": "code",
   "execution_count": 190,
   "id": "253978a34f86b7d7",
   "metadata": {
    "ExecuteTime": {
     "end_time": "2024-04-09T13:30:57.262166Z",
     "start_time": "2024-04-09T13:30:57.256030Z"
    }
   },
   "outputs": [
    {
     "data": {
      "text/plain": [
       "{'ab+cd<=ac+ad+bc+bd', 'ac+bd<=ab+ad+bc+cd', 'ad+bc<=ab+ac+bd+cd'}"
      ]
     },
     "execution_count": 190,
     "metadata": {},
     "output_type": "execute_result"
    }
   ],
   "source": [
    "from itertools import permutations\n",
    "symbols = [\"a\",\"b\",\"c\",\"d\"]\n",
    "\n",
    "pto_eqs = [get_four_point(*this_permutation) for this_permutation in permutations(symbols,4)]\n",
    "pto_eqs = [eq.replace(\" \",\"\") for eq in pto_eqs]\n",
    "\n",
    "len(set(pto_eqs))\n",
    "\n",
    "std_pto = [standardize(eq) for eq in pto_eqs]\n",
    "len(set(std_pto))\n",
    "set(std_pto)"
   ]
  }
 ],
 "metadata": {
  "kernelspec": {
   "display_name": "Python 3 (ipykernel)",
   "language": "python",
   "name": "python3"
  },
  "language_info": {
   "codemirror_mode": {
    "name": "ipython",
    "version": 3
   },
   "file_extension": ".py",
   "mimetype": "text/x-python",
   "name": "python",
   "nbconvert_exporter": "python",
   "pygments_lexer": "ipython3",
   "version": "3.12.4"
  }
 },
 "nbformat": 4,
 "nbformat_minor": 5
}
