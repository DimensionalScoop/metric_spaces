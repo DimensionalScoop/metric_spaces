{
 "cells": [
  {
   "cell_type": "code",
   "execution_count": 1,
   "id": "initial_id",
   "metadata": {
    "ExecuteTime": {
     "end_time": "2024-06-21T07:12:35.389955Z",
     "start_time": "2024-06-21T07:12:35.382762Z"
    }
   },
   "outputs": [
    {
     "data": {
      "text/plain": [
       "'Some important Ptolemaic metric spaces are 4-embeddable into R^3.\\nConnor mentions a tetrahedron lower bound: When all but one distances\\nbetween four points are known, the last one can be lower bounded as the\\nshortest side of a tetrahedron. This would be a degenerate tetrahedron,\\nwith the two known triangles sharing one side and lying in the same plane.\\n'"
      ]
     },
     "execution_count": 1,
     "metadata": {},
     "output_type": "execute_result"
    }
   ],
   "source": [
    "import scipy.spatial.distance\n",
    "\n",
    "\"\"\"Some important Ptolemaic metric spaces are 4-embeddable into R^3.\n",
    "Connor mentions a tetrahedron lower bound: When all but one distances\n",
    "between four points are known, the last one can be lower bounded as the\n",
    "shortest side of a tetrahedron. This would be a degenerate tetrahedron,\n",
    "with the two known triangles sharing one side and lying in the same plane.\n",
    "\"\"\""
   ]
  },
  {
   "cell_type": "code",
   "execution_count": 2,
   "id": "720e49f562f57972",
   "metadata": {
    "ExecuteTime": {
     "end_time": "2024-06-21T07:12:52.160600Z",
     "start_time": "2024-06-21T07:12:52.154982Z"
    }
   },
   "outputs": [
    {
     "data": {
      "text/latex": [
       "$\\displaystyle \\left( \\sqrt{s} \\sqrt{\\left(- a + s\\right) \\left(- b + s\\right) \\left(- c + s\\right)}, \\  \\left\\{ s : \\frac{a}{2} + \\frac{b}{2} + \\frac{c}{2}\\right\\}\\right)$"
      ],
      "text/plain": [
       "⎛     ____________________________  ⎧   a   b   c⎫⎞\n",
       "⎜√s⋅╲╱ (-a + s)⋅(-b + s)⋅(-c + s) , ⎨s: ─ + ─ + ─⎬⎟\n",
       "⎝                                   ⎩   2   2   2⎭⎠"
      ]
     },
     "execution_count": 2,
     "metadata": {},
     "output_type": "execute_result"
    }
   ],
   "source": [
    "import numpy as np\n",
    "from sympy import *\n",
    "#from algebra_with_sympy import *\n",
    "\n",
    "init_printing(use_latex='mathjax')\n",
    "\n",
    "dist_prop = dict(real=True, positive=True)\n",
    "# generic symbols\n",
    "A, s, a, b, c, h = symbols(\"A s a b c h\", **dist_prop)\n",
    "\n",
    "# Heron\n",
    "semiperimeter = {s: (a + b + c) / 2}\n",
    "area = sqrt(s * (s - a) * (s - b) * (s - c))\n",
    "\n",
    "height_over_a = 2 / a * area.subs(semiperimeter)\n",
    "\n",
    "area, semiperimeter"
   ]
  },
  {
   "cell_type": "markdown",
   "id": "5a1dddb385ed4598",
   "metadata": {},
   "source": [
    "![](img.png)"
   ]
  },
  {
   "cell_type": "markdown",
   "id": "20f357abe27eedc0",
   "metadata": {},
   "source": []
  },
  {
   "cell_type": "code",
   "execution_count": 3,
   "id": "9076f83df920d5c9",
   "metadata": {
    "ExecuteTime": {
     "end_time": "2024-06-21T07:45:17.105574Z",
     "start_time": "2024-06-21T07:45:17.031503Z"
    }
   },
   "outputs": [
    {
     "data": {
      "text/latex": [
       "$\\displaystyle \\frac{\\sqrt{- \\left(p - q_{0} - q_{1}\\right) \\left(p - q_{0} + q_{1}\\right) \\left(p + q_{0} - q_{1}\\right)} \\sqrt{p + q_{0} + q_{1}}}{2 p}$"
      ],
      "text/plain": [
       "  ____________________________________________   _____________\n",
       "╲╱ -(p - q₀ - q₁)⋅(p - q₀ + q₁)⋅(p + q₀ - q₁) ⋅╲╱ p + q₀ + q₁ \n",
       "──────────────────────────────────────────────────────────────\n",
       "                             2⋅p                              "
      ]
     },
     "execution_count": 3,
     "metadata": {},
     "output_type": "execute_result"
    }
   ],
   "source": [
    "# we have two pivots, a query (center) and an object\n",
    "# we want to lower bound d(q,o)\n",
    "# we know all other distances\n",
    "\n",
    "# the two resulting triangles have a shared base p0-p1 of length p\n",
    "p = symbols(\"p\", **dist_prop)\n",
    "\n",
    "# the query triangle has these other sides:\n",
    "q_0, q_1 = symbols(\"q:2\", **dist_prop)\n",
    "\n",
    "# dito for the object triangle\n",
    "o_0, o_1 = symbols(\"o:2\", **dist_prop)\n",
    "\n",
    "# these triangles have heights that we can infer via Heron\n",
    "h_q = height_over_a.subs({\n",
    "    a: p, b: q_0, c: q_1\n",
    "})\n",
    "h_o = height_over_a.subs({\n",
    "    a: p, b: o_0, c: o_1\n",
    "})\n",
    "\n",
    "def simplify_height(h):\n",
    "    h = simplify(h)\n",
    "    h = h.subs(h.args[2],\n",
    "                   (h.args[2]).factor()\n",
    "               )\n",
    "    return h\n",
    "\n",
    "# both formulas are the same!\n",
    "assert simplify(h_o.subs({o_1:q_1,o_0:q_0}) == h_q)\n",
    "\n",
    "h_q = simplify_height(h_q)\n",
    "h_o = simplify_height(h_o)\n",
    "h_q"
   ]
  },
  {
   "cell_type": "code",
   "execution_count": 4,
   "id": "e60ce441650bf0c1",
   "metadata": {
    "ExecuteTime": {
     "end_time": "2024-06-21T07:45:26.995738Z",
     "start_time": "2024-06-21T07:45:26.976011Z"
    }
   },
   "outputs": [
    {
     "data": {
      "text/latex": [
       "$\\displaystyle \\left( \\sqrt{q_{0}^{2} + \\frac{\\left(p - q_{0} - q_{1}\\right) \\left(p - q_{0} + q_{1}\\right) \\left(p + q_{0} - q_{1}\\right) \\left(p + q_{0} + q_{1}\\right)}{4 p^{2}}}, \\  \\sqrt{o_{0}^{2} + \\frac{\\left(- o_{0} - o_{1} + p\\right) \\left(- o_{0} + o_{1} + p\\right) \\left(o_{0} - o_{1} + p\\right) \\left(o_{0} + o_{1} + p\\right)}{4 p^{2}}}\\right)$"
      ],
      "text/plain": [
       "⎛     _______________________________________________________________       __________________________\n",
       "⎜    ╱   2   (p - q₀ - q₁)⋅(p - q₀ + q₁)⋅(p + q₀ - q₁)⋅(p + q₀ + q₁)       ╱   2   (-o₀ - o₁ + p)⋅(-o₀\n",
       "⎜   ╱  q₀  + ─────────────────────────────────────────────────────── ,    ╱  o₀  + ───────────────────\n",
       "⎜  ╱                                      2                              ╱                            \n",
       "⎝╲╱                                    4⋅p                             ╲╱                             \n",
       "\n",
       "_______________________________________⎞\n",
       " + o₁ + p)⋅(o₀ - o₁ + p)⋅(o₀ + o₁ + p) ⎟\n",
       "────────────────────────────────────── ⎟\n",
       "           2                           ⎟\n",
       "        4⋅p                            ⎠"
      ]
     },
     "execution_count": 4,
     "metadata": {},
     "output_type": "execute_result"
    }
   ],
   "source": [
    "# the height \"bisects\" the shared base at these lengths,\n",
    "# measured from one of the two possible vertices:\n",
    "m_q0 = sqrt(q_0**2 - h_q**2)\n",
    "m_o0 = sqrt(o_0**2 - h_o**2)\n",
    "\n",
    "m_q1 = sqrt(q_1**2 - h_q**2)\n",
    "m_o1 = sqrt(o_1**2 - h_o**2)\n",
    "\n",
    "m_q0, m_o0"
   ]
  },
  {
   "cell_type": "code",
   "execution_count": 5,
   "id": "f73699fb3c7543f1",
   "metadata": {
    "ExecuteTime": {
     "end_time": "2024-06-21T07:53:14.404209Z",
     "start_time": "2024-06-21T07:53:14.395593Z"
    }
   },
   "outputs": [
    {
     "data": {
      "text/latex": [
       "$\\displaystyle \\begin{cases} - \\sqrt{o_{0}^{2} + \\frac{\\left(- o_{0} - o_{1} + p\\right) \\left(- o_{0} + o_{1} + p\\right) \\left(o_{0} - o_{1} + p\\right) \\left(o_{0} + o_{1} + p\\right)}{4 p^{2}}} & \\text{for}\\: o_{1}^{2} > o_{0}^{2} + p^{2} \\\\\\sqrt{o_{0}^{2} + \\frac{\\left(- o_{0} - o_{1} + p\\right) \\left(- o_{0} + o_{1} + p\\right) \\left(o_{0} - o_{1} + p\\right) \\left(o_{0} + o_{1} + p\\right)}{4 p^{2}}} & \\text{otherwise} \\end{cases}$"
      ],
      "text/plain": [
       "⎧      _________________________________________________________________                    \n",
       "⎪     ╱   2   (-o₀ - o₁ + p)⋅(-o₀ + o₁ + p)⋅(o₀ - o₁ + p)⋅(o₀ + o₁ + p)         2     2    2\n",
       "⎪-   ╱  o₀  + ─────────────────────────────────────────────────────────   for o₁  > o₀  + p \n",
       "⎪   ╱                                       2                                               \n",
       "⎪ ╲╱                                     4⋅p                                                \n",
       "⎨                                                                                           \n",
       "⎪     _________________________________________________________________                     \n",
       "⎪    ╱   2   (-o₀ - o₁ + p)⋅(-o₀ + o₁ + p)⋅(o₀ - o₁ + p)⋅(o₀ + o₁ + p)                      \n",
       "⎪   ╱  o₀  + ─────────────────────────────────────────────────────────        otherwise     \n",
       "⎪  ╱                                       2                                                \n",
       "⎩╲╱                                     4⋅p                                                 "
      ]
     },
     "execution_count": 5,
     "metadata": {},
     "output_type": "execute_result"
    }
   ],
   "source": [
    "# We know the height of the triangle w.r.t. q.\n",
    "# Let's figure out the \"width\" or the \"x-position\" of the point q.\n",
    "\n",
    "# Let q_0 be on the left and q_1 be on the right.\n",
    "# If the triangle is acute:\n",
    "m_ac = m_q0\n",
    "\n",
    "# If the triangle is obtuse, we have two cases:\n",
    "# One where the point is to the left:\n",
    "m_ob_left = -m_q0\n",
    "# And one where the point is to the right:\n",
    "m_ob_right = m_q0 # which is identical to m_ac\n",
    "\n",
    "# left obtuse means that q_1 has to be the longest side and\n",
    "# that q_1**2 > p**2 + q_1**2\n",
    "m_q = Piecewise(\n",
    "    (m_ob_left,  q_1**2 > p**2 + q_0**2), # And(And(q_1 > p, q_1 > q_0) ,\n",
    "    (m_ac, True)\n",
    ")\n",
    "\n",
    "m_o = m_q.subs({m_q0:m_o0, q_0:o_0, q_1:o_1})\n",
    "m_o"
   ]
  },
  {
   "cell_type": "code",
   "execution_count": 6,
   "id": "1ceb6512-bca2-48ab-9e48-58044defab87",
   "metadata": {},
   "outputs": [
    {
     "name": "stdout",
     "output_type": "stream",
     "text": [
      "o0 = Symbol('o0')\n",
      "o1 = Symbol('o1')\n",
      "p = Symbol('p')\n",
      "e = Piecewise((-sqrt(o0**2 + (-o0 - o1 + p)*(-o0 + o1 + p)*(o0 - o1 + p)*(o0 + o1 + p)/(4*p**2)), o1**2 > o0**2 + p**2), (sqrt(o0**2 + (-o0 - o1 + p)*(-o0 + o1 + p)*(o0 - o1 + p)*(o0 + o1 + p)/(4*p**2)), true))\n"
     ]
    }
   ],
   "source": [
    "printing.print_python(m_o)"
   ]
  },
  {
   "cell_type": "code",
   "execution_count": 7,
   "id": "48a60543328b7139",
   "metadata": {
    "ExecuteTime": {
     "end_time": "2024-06-21T07:54:57.104882Z",
     "start_time": "2024-06-21T07:54:56.553211Z"
    }
   },
   "outputs": [
    {
     "data": {
      "text/latex": [
       "$\\displaystyle \\begin{cases} \\frac{\\left(\\sqrt{4 o_{0}^{2} p^{2} - \\left(- o_{0} + o_{1} + p\\right) \\left(o_{0} - o_{1} + p\\right) \\left(o_{0} + o_{1} - p\\right) \\left(o_{0} + o_{1} + p\\right)} - \\sqrt{4 p^{2} q_{0}^{2} - \\left(- p + q_{0} + q_{1}\\right) \\left(p - q_{0} + q_{1}\\right) \\left(p + q_{0} - q_{1}\\right) \\left(p + q_{0} + q_{1}\\right)}\\right)^{2}}{4 p^{2}} & \\text{for}\\: o_{1}^{2} > o_{0}^{2} + p^{2} \\wedge q_{1}^{2} > p^{2} + q_{0}^{2} \\\\\\frac{\\left(\\sqrt{4 o_{0}^{2} p^{2} - \\left(- o_{0} + o_{1} + p\\right) \\left(o_{0} - o_{1} + p\\right) \\left(o_{0} + o_{1} - p\\right) \\left(o_{0} + o_{1} + p\\right)} + \\sqrt{4 p^{2} q_{0}^{2} - \\left(- p + q_{0} + q_{1}\\right) \\left(p - q_{0} + q_{1}\\right) \\left(p + q_{0} - q_{1}\\right) \\left(p + q_{0} + q_{1}\\right)}\\right)^{2}}{4 p^{2}} & \\text{for}\\: o_{1}^{2} > o_{0}^{2} + p^{2} \\vee q_{1}^{2} > p^{2} + q_{0}^{2} \\\\\\frac{\\left(\\sqrt{4 o_{0}^{2} p^{2} - \\left(- o_{0} + o_{1} + p\\right) \\left(o_{0} - o_{1} + p\\right) \\left(o_{0} + o_{1} - p\\right) \\left(o_{0} + o_{1} + p\\right)} - \\sqrt{4 p^{2} q_{0}^{2} - \\left(- p + q_{0} + q_{1}\\right) \\left(p - q_{0} + q_{1}\\right) \\left(p + q_{0} - q_{1}\\right) \\left(p + q_{0} + q_{1}\\right)}\\right)^{2}}{4 p^{2}} & \\text{otherwise} \\end{cases}$"
      ],
      "text/plain": [
       "⎧                                                                                                     \n",
       "⎪⎛   _____________________________________________________________________      ______________________\n",
       "⎪⎜  ╱     2  2                                                                 ╱    2   2             \n",
       "⎪⎝╲╱  4⋅o₀ ⋅p  - (-o₀ + o₁ + p)⋅(o₀ - o₁ + p)⋅(o₀ + o₁ - p)⋅(o₀ + o₁ + p)  - ╲╱  4⋅p ⋅q₀  - (-p + q₀ +\n",
       "⎪─────────────────────────────────────────────────────────────────────────────────────────────────────\n",
       "⎪                                                                            2                        \n",
       "⎪                                                                         4⋅p                         \n",
       "⎪                                                                                                     \n",
       "⎪                                                                                                     \n",
       "⎪⎛   _____________________________________________________________________      ______________________\n",
       "⎪⎜  ╱     2  2                                                                 ╱    2   2             \n",
       "⎨⎝╲╱  4⋅o₀ ⋅p  - (-o₀ + o₁ + p)⋅(o₀ - o₁ + p)⋅(o₀ + o₁ - p)⋅(o₀ + o₁ + p)  + ╲╱  4⋅p ⋅q₀  - (-p + q₀ +\n",
       "⎪─────────────────────────────────────────────────────────────────────────────────────────────────────\n",
       "⎪                                                                            2                        \n",
       "⎪                                                                         4⋅p                         \n",
       "⎪                                                                                                     \n",
       "⎪                                                                                                     \n",
       "⎪⎛   _____________________________________________________________________      ______________________\n",
       "⎪⎜  ╱     2  2                                                                 ╱    2   2             \n",
       "⎪⎝╲╱  4⋅o₀ ⋅p  - (-o₀ + o₁ + p)⋅(o₀ - o₁ + p)⋅(o₀ + o₁ - p)⋅(o₀ + o₁ + p)  - ╲╱  4⋅p ⋅q₀  - (-p + q₀ +\n",
       "⎪─────────────────────────────────────────────────────────────────────────────────────────────────────\n",
       "⎪                                                                            2                        \n",
       "⎩                                                                         4⋅p                         \n",
       "\n",
       "                                                2                                     \n",
       "_______________________________________________⎞                                      \n",
       "                                               ⎟                                      \n",
       " q₁)⋅(p - q₀ + q₁)⋅(p + q₀ - q₁)⋅(p + q₀ + q₁) ⎠         2     2    2     2    2     2\n",
       "─────────────────────────────────────────────────  for o₁  > o₀  + p  ∧ q₁  > p  + q₀ \n",
       "                                                                                      \n",
       "                                                                                      \n",
       "                                                                                      \n",
       "                                                2                                     \n",
       "_______________________________________________⎞                                      \n",
       "                                               ⎟                                      \n",
       " q₁)⋅(p - q₀ + q₁)⋅(p + q₀ - q₁)⋅(p + q₀ + q₁) ⎠         2     2    2     2    2     2\n",
       "─────────────────────────────────────────────────  for o₁  > o₀  + p  ∨ q₁  > p  + q₀ \n",
       "                                                                                      \n",
       "                                                                                      \n",
       "                                                                                      \n",
       "                                                2                                     \n",
       "_______________________________________________⎞                                      \n",
       "                                               ⎟                                      \n",
       " q₁)⋅(p - q₀ + q₁)⋅(p + q₀ - q₁)⋅(p + q₀ + q₁) ⎠                                      \n",
       "─────────────────────────────────────────────────               otherwise             \n",
       "                                                                                      \n",
       "                                                                                      "
      ]
     },
     "execution_count": 7,
     "metadata": {},
     "output_type": "execute_result"
    }
   ],
   "source": [
    "simplify((-m_q + m_o)**2)"
   ]
  },
  {
   "cell_type": "code",
   "execution_count": 8,
   "id": "fe710660f1ea9725",
   "metadata": {
    "ExecuteTime": {
     "end_time": "2024-06-21T08:01:22.859593Z",
     "start_time": "2024-06-21T08:01:22.116293Z"
    }
   },
   "outputs": [
    {
     "data": {
      "text/latex": [
       "$\\displaystyle \\left( \\frac{\\sqrt{\\left(\\sqrt{\\left(- o_{0} + o_{1} + p\\right) \\left(o_{0} - o_{1} + p\\right) \\left(o_{0} + o_{1} - p\\right)} \\sqrt{o_{0} + o_{1} + p} - \\sqrt{\\left(- p + q_{0} + q_{1}\\right) \\left(p - q_{0} + q_{1}\\right) \\left(p + q_{0} - q_{1}\\right)} \\sqrt{p + q_{0} + q_{1}}\\right)^{2} + \\left(\\sqrt{4 o_{0}^{2} p^{2} - \\left(- o_{0} + o_{1} + p\\right) \\left(o_{0} - o_{1} + p\\right) \\left(o_{0} + o_{1} - p\\right) \\left(o_{0} + o_{1} + p\\right)} - \\sqrt{4 p^{2} q_{0}^{2} - \\left(- p + q_{0} + q_{1}\\right) \\left(p - q_{0} + q_{1}\\right) \\left(p + q_{0} - q_{1}\\right) \\left(p + q_{0} + q_{1}\\right)}\\right)^{2}}}{2 p}, \\  o_{1}^{2} > o_{0}^{2} + p^{2} \\wedge q_{1}^{2} > p^{2} + q_{0}^{2}\\right)$"
      ],
      "text/plain": [
       "⎛     ________________________________________________________________________________________________\n",
       "⎜    ╱                                                                                                \n",
       "⎜   ╱                                                                                                 \n",
       "⎜  ╱   ⎛  ____________________________________________   _____________     ___________________________\n",
       "⎜╲╱    ⎝╲╱ (-o₀ + o₁ + p)⋅(o₀ - o₁ + p)⋅(o₀ + o₁ - p) ⋅╲╱ o₀ + o₁ + p  - ╲╱ (-p + q₀ + q₁)⋅(p - q₀ + q\n",
       "⎜─────────────────────────────────────────────────────────────────────────────────────────────────────\n",
       "⎝                                                                                                     \n",
       "\n",
       "______________________________________________________________________________________________________\n",
       "                                                                                                      \n",
       "                                  2   ⎛   ____________________________________________________________\n",
       "_________________   _____________⎞    ⎜  ╱     2  2                                                   \n",
       "₁)⋅(p + q₀ - q₁) ⋅╲╱ p + q₀ + q₁ ⎠  + ⎝╲╱  4⋅o₀ ⋅p  - (-o₀ + o₁ + p)⋅(o₀ - o₁ + p)⋅(o₀ + o₁ - p)⋅(o₀ +\n",
       "──────────────────────────────────────────────────────────────────────────────────────────────────────\n",
       "                                          2⋅p                                                         \n",
       "\n",
       "_______________________________________________________________________________________               \n",
       "                                                                                     2                \n",
       "_________      _____________________________________________________________________⎞                 \n",
       "              ╱    2   2                                                            ⎟                 \n",
       " o₁ + p)  - ╲╱  4⋅p ⋅q₀  - (-p + q₀ + q₁)⋅(p - q₀ + q₁)⋅(p + q₀ - q₁)⋅(p + q₀ + q₁) ⎠      2     2    \n",
       "───────────────────────────────────────────────────────────────────────────────────────, o₁  > o₀  + p\n",
       "                                                                                                      \n",
       "\n",
       "                  ⎞\n",
       "                  ⎟\n",
       "                  ⎟\n",
       "                  ⎟\n",
       "2     2    2     2⎟\n",
       "  ∧ q₁  > p  + q₀ ⎟\n",
       "                  ⎠"
      ]
     },
     "execution_count": 8,
     "metadata": {},
     "output_type": "execute_result"
    }
   ],
   "source": [
    "# construct the right triangle which hypotenuse of length d connects q and o\n",
    "# from h and m s\n",
    "\n",
    "dist = (h_q - h_o) ** 2 + (m_q - m_o) ** 2 # = d**2\n",
    "dist = sqrt(dist)\n",
    "simplify(dist).args[0]"
   ]
  },
  {
   "cell_type": "code",
   "execution_count": 9,
   "id": "b4ca4dc821f1cc16",
   "metadata": {
    "ExecuteTime": {
     "end_time": "2024-06-21T07:58:20.876932Z",
     "start_time": "2024-06-21T07:58:20.170845Z"
    }
   },
   "outputs": [
    {
     "data": {
      "text/latex": [
       "$\\displaystyle \\frac{\\sqrt{\\left(\\sqrt{\\left(- o_{0} + o_{1} + p\\right) \\left(o_{0} - o_{1} + p\\right) \\left(o_{0} + o_{1} - p\\right)} \\sqrt{o_{0} + o_{1} + p} - \\sqrt{\\left(- p + q_{0} + q_{1}\\right) \\left(p - q_{0} + q_{1}\\right) \\left(p + q_{0} - q_{1}\\right)} \\sqrt{p + q_{0} + q_{1}}\\right)^{2} + \\left(\\sqrt{4 o_{0}^{2} p^{2} - \\left(- o_{0} + o_{1} + p\\right) \\left(o_{0} - o_{1} + p\\right) \\left(o_{0} + o_{1} - p\\right) \\left(o_{0} + o_{1} + p\\right)} - \\sqrt{4 p^{2} q_{0}^{2} - \\left(- p + q_{0} + q_{1}\\right) \\left(p - q_{0} + q_{1}\\right) \\left(p + q_{0} - q_{1}\\right) \\left(p + q_{0} + q_{1}\\right)}\\right)^{2}}}{2 p}$"
      ],
      "text/plain": [
       "     _________________________________________________________________________________________________\n",
       "    ╱                                                                                                 \n",
       "   ╱                                                                                                  \n",
       "  ╱   ⎛  ____________________________________________   _____________     ____________________________\n",
       "╲╱    ⎝╲╱ (-o₀ + o₁ + p)⋅(o₀ - o₁ + p)⋅(o₀ + o₁ - p) ⋅╲╱ o₀ + o₁ + p  - ╲╱ (-p + q₀ + q₁)⋅(p - q₀ + q₁\n",
       "──────────────────────────────────────────────────────────────────────────────────────────────────────\n",
       "                                                                                                      \n",
       "\n",
       "______________________________________________________________________________________________________\n",
       "                                                                                                      \n",
       "                                 2   ⎛   _____________________________________________________________\n",
       "________________   _____________⎞    ⎜  ╱     2  2                                                    \n",
       ")⋅(p + q₀ - q₁) ⋅╲╱ p + q₀ + q₁ ⎠  + ⎝╲╱  4⋅o₀ ⋅p  - (-o₀ + o₁ + p)⋅(o₀ - o₁ + p)⋅(o₀ + o₁ - p)⋅(o₀ + \n",
       "──────────────────────────────────────────────────────────────────────────────────────────────────────\n",
       "                                         2⋅p                                                          \n",
       "\n",
       "______________________________________________________________________________________\n",
       "                                                                                    2 \n",
       "________      _____________________________________________________________________⎞  \n",
       "             ╱    2   2                                                            ⎟  \n",
       "o₁ + p)  - ╲╱  4⋅p ⋅q₀  - (-p + q₀ + q₁)⋅(p - q₀ + q₁)⋅(p + q₀ - q₁)⋅(p + q₀ + q₁) ⎠  \n",
       "──────────────────────────────────────────────────────────────────────────────────────\n",
       "                                                                                      "
      ]
     },
     "execution_count": 9,
     "metadata": {},
     "output_type": "execute_result"
    }
   ],
   "source": [
    "term, condition = simplify(dist).args[0]\n",
    "term"
   ]
  },
  {
   "cell_type": "code",
   "execution_count": 10,
   "id": "9e8903ac0fd59e0b",
   "metadata": {
    "ExecuteTime": {
     "end_time": "2024-06-21T07:56:02.066720Z",
     "start_time": "2024-06-21T07:56:02.046148Z"
    }
   },
   "outputs": [
    {
     "data": {
      "text/latex": [
       "$\\displaystyle \\left( \\left(- \\frac{\\sqrt{- \\left(- o_{0} - o_{1} + p\\right) \\left(- o_{0} + o_{1} + p\\right) \\left(o_{0} - o_{1} + p\\right)} \\sqrt{o_{0} + o_{1} + p}}{2 p} + \\frac{\\sqrt{- \\left(p - q_{0} - q_{1}\\right) \\left(p - q_{0} + q_{1}\\right) \\left(p + q_{0} - q_{1}\\right)} \\sqrt{p + q_{0} + q_{1}}}{2 p}\\right)^{2} + \\left(- \\begin{cases} - \\sqrt{o_{0}^{2} + \\frac{\\left(- o_{0} - o_{1} + p\\right) \\left(- o_{0} + o_{1} + p\\right) \\left(o_{0} - o_{1} + p\\right) \\left(o_{0} + o_{1} + p\\right)}{4 p^{2}}} & \\text{for}\\: o_{1}^{2} > o_{0}^{2} + p^{2} \\\\\\sqrt{o_{0}^{2} + \\frac{\\left(- o_{0} - o_{1} + p\\right) \\left(- o_{0} + o_{1} + p\\right) \\left(o_{0} - o_{1} + p\\right) \\left(o_{0} + o_{1} + p\\right)}{4 p^{2}}} & \\text{otherwise} \\end{cases} + \\begin{cases} - \\sqrt{q_{0}^{2} + \\frac{\\left(p - q_{0} - q_{1}\\right) \\left(p - q_{0} + q_{1}\\right) \\left(p + q_{0} - q_{1}\\right) \\left(p + q_{0} + q_{1}\\right)}{4 p^{2}}} & \\text{for}\\: q_{1}^{2} > p^{2} + q_{0}^{2} \\\\\\sqrt{q_{0}^{2} + \\frac{\\left(p - q_{0} - q_{1}\\right) \\left(p - q_{0} + q_{1}\\right) \\left(p + q_{0} - q_{1}\\right) \\left(p + q_{0} + q_{1}\\right)}{4 p^{2}}} & \\text{otherwise} \\end{cases}\\right)^{2}, \\  \\frac{1}{2}\\right)$"
      ],
      "text/plain": [
       "⎛                                                                                                     \n",
       "⎜                                                                                                     \n",
       "⎜                                                                                                     \n",
       "⎜                                                                                                     \n",
       "⎜⎛    ______________________________________________   _____________     _____________________________\n",
       "⎜⎜  ╲╱ -(-o₀ - o₁ + p)⋅(-o₀ + o₁ + p)⋅(o₀ - o₁ + p) ⋅╲╱ o₀ + o₁ + p    ╲╱ -(p - q₀ - q₁)⋅(p - q₀ + q₁)\n",
       "⎜⎜- ──────────────────────────────────────────────────────────────── + ───────────────────────────────\n",
       "⎜⎝                                2⋅p                                                               2⋅\n",
       "⎜                                                                                                     \n",
       "⎜                                                                                                     \n",
       "⎜                                                                                                     \n",
       "⎝                                                                                                     \n",
       "\n",
       "                                                                                                      \n",
       "                                    ⎛  ⎛⎧      _______________________________________________________\n",
       "                                    ⎜  ⎜⎪     ╱   2   (-o₀ - o₁ + p)⋅(-o₀ + o₁ + p)⋅(o₀ - o₁ + p)⋅(o₀ \n",
       "                                2   ⎜  ⎜⎪-   ╱  o₀  + ────────────────────────────────────────────────\n",
       "_______________   _____________⎞    ⎜  ⎜⎪   ╱                                       2                 \n",
       "⋅(p + q₀ - q₁) ⋅╲╱ p + q₀ + q₁ ⎟    ⎜  ⎜⎪ ╲╱                                     4⋅p                  \n",
       "───────────────────────────────⎟  + ⎜- ⎜⎨                                                             \n",
       "p                              ⎠    ⎜  ⎜⎪     ________________________________________________________\n",
       "                                    ⎜  ⎜⎪    ╱   2   (-o₀ - o₁ + p)⋅(-o₀ + o₁ + p)⋅(o₀ - o₁ + p)⋅(o₀ +\n",
       "                                    ⎜  ⎜⎪   ╱  o₀  + ─────────────────────────────────────────────────\n",
       "                                    ⎜  ⎜⎪  ╱                                       2                  \n",
       "                                    ⎝  ⎝⎩╲╱                                     4⋅p                   \n",
       "\n",
       "                                                                                                      \n",
       "__________                    ⎞   ⎛⎧      ____________________________________________________________\n",
       "+ o₁ + p)         2     2    2⎟   ⎜⎪     ╱   2   (p - q₀ - q₁)⋅(p - q₀ + q₁)⋅(p + q₀ - q₁)⋅(p + q₀ + q\n",
       "─────────   for o₁  > o₀  + p ⎟   ⎜⎪-   ╱  q₀  + ─────────────────────────────────────────────────────\n",
       "                              ⎟   ⎜⎪   ╱                                      2                       \n",
       "                              ⎟   ⎜⎪ ╲╱                                    4⋅p                        \n",
       "                              ⎟ + ⎜⎨                                                                  \n",
       "_________                     ⎟   ⎜⎪     _____________________________________________________________\n",
       " o₁ + p)                      ⎟   ⎜⎪    ╱   2   (p - q₀ - q₁)⋅(p - q₀ + q₁)⋅(p + q₀ - q₁)⋅(p + q₀ + q₁\n",
       "────────        otherwise     ⎟   ⎜⎪   ╱  q₀  + ──────────────────────────────────────────────────────\n",
       "                              ⎟   ⎜⎪  ╱                                      2                        \n",
       "                              ⎠   ⎝⎩╲╱                                    4⋅p                         \n",
       "\n",
       "                         2     ⎞\n",
       "___                    ⎞⎞      ⎟\n",
       "₁)         2    2     2⎟⎟      ⎟\n",
       "──   for q₁  > p  + q₀ ⎟⎟      ⎟\n",
       "                       ⎟⎟      ⎟\n",
       "                       ⎟⎟      ⎟\n",
       "                       ⎟⎟ , 1/2⎟\n",
       "__                     ⎟⎟      ⎟\n",
       ")                      ⎟⎟      ⎟\n",
       "─        otherwise     ⎟⎟      ⎟\n",
       "                       ⎟⎟      ⎟\n",
       "                       ⎠⎠      ⎠"
      ]
     },
     "execution_count": 10,
     "metadata": {},
     "output_type": "execute_result"
    }
   ],
   "source": [
    "dist.args"
   ]
  },
  {
   "cell_type": "code",
   "execution_count": 11,
   "id": "b34d35f46299430b",
   "metadata": {
    "ExecuteTime": {
     "end_time": "2024-06-21T08:02:03.994042Z",
     "start_time": "2024-06-21T08:02:03.924471Z"
    }
   },
   "outputs": [
    {
     "data": {
      "text/latex": [
       "$\\displaystyle \\sqrt{\\left(\\frac{\\sqrt{- \\left(- o_{0} - o_{1} + p\\right) \\left(- o_{0} + o_{1} + p\\right) \\left(o_{0} - o_{1} + p\\right)} \\sqrt{o_{0} + o_{1} + p}}{2 p} + \\frac{\\sqrt{- \\left(p - q_{0} - q_{1}\\right) \\left(p - q_{0} + q_{1}\\right) \\left(p + q_{0} - q_{1}\\right)} \\sqrt{p + q_{0} + q_{1}}}{2 p}\\right)^{2} + \\left(- \\begin{cases} - \\sqrt{o_{0}^{2} + \\frac{\\left(- o_{0} - o_{1} + p\\right) \\left(- o_{0} + o_{1} + p\\right) \\left(o_{0} - o_{1} + p\\right) \\left(o_{0} + o_{1} + p\\right)}{4 p^{2}}} & \\text{for}\\: o_{1}^{2} > o_{0}^{2} + p^{2} \\\\\\sqrt{o_{0}^{2} + \\frac{\\left(- o_{0} - o_{1} + p\\right) \\left(- o_{0} + o_{1} + p\\right) \\left(o_{0} - o_{1} + p\\right) \\left(o_{0} + o_{1} + p\\right)}{4 p^{2}}} & \\text{otherwise} \\end{cases} + \\begin{cases} - \\sqrt{q_{0}^{2} + \\frac{\\left(p - q_{0} - q_{1}\\right) \\left(p - q_{0} + q_{1}\\right) \\left(p + q_{0} - q_{1}\\right) \\left(p + q_{0} + q_{1}\\right)}{4 p^{2}}} & \\text{for}\\: q_{1}^{2} > p^{2} + q_{0}^{2} \\\\\\sqrt{q_{0}^{2} + \\frac{\\left(p - q_{0} - q_{1}\\right) \\left(p - q_{0} + q_{1}\\right) \\left(p + q_{0} - q_{1}\\right) \\left(p + q_{0} + q_{1}\\right)}{4 p^{2}}} & \\text{otherwise} \\end{cases}\\right)^{2}}$"
      ],
      "text/plain": [
       "             _________________________________________________________________________________________\n",
       "            ╱                                                                                         \n",
       "           ╱                                                                                          \n",
       "          ╱                                                                                           \n",
       "         ╱                                                                                            \n",
       "        ╱     ⎛  ______________________________________________   _____________     __________________\n",
       "       ╱      ⎜╲╱ -(-o₀ - o₁ + p)⋅(-o₀ + o₁ + p)⋅(o₀ - o₁ + p) ⋅╲╱ o₀ + o₁ + p    ╲╱ -(p - q₀ - q₁)⋅(p\n",
       "      ╱       ⎜──────────────────────────────────────────────────────────────── + ────────────────────\n",
       "     ╱        ⎝                              2⋅p                                                      \n",
       "    ╱                                                                                                 \n",
       "   ╱                                                                                                  \n",
       "  ╱                                                                                                   \n",
       "╲╱                                                                                                    \n",
       "\n",
       "______________________________________________________________________________________________________\n",
       "                                                                                                      \n",
       "                                               ⎛  ⎛⎧      ____________________________________________\n",
       "                                               ⎜  ⎜⎪     ╱   2   (-o₀ - o₁ + p)⋅(-o₀ + o₁ + p)⋅(o₀ - o\n",
       "                                           2   ⎜  ⎜⎪-   ╱  o₀  + ─────────────────────────────────────\n",
       "__________________________   _____________⎞    ⎜  ⎜⎪   ╱                                       2      \n",
       " - q₀ + q₁)⋅(p + q₀ - q₁) ⋅╲╱ p + q₀ + q₁ ⎟    ⎜  ⎜⎪ ╲╱                                     4⋅p       \n",
       "──────────────────────────────────────────⎟  + ⎜- ⎜⎨                                                  \n",
       "         2⋅p                              ⎠    ⎜  ⎜⎪     _____________________________________________\n",
       "                                               ⎜  ⎜⎪    ╱   2   (-o₀ - o₁ + p)⋅(-o₀ + o₁ + p)⋅(o₀ - o₁\n",
       "                                               ⎜  ⎜⎪   ╱  o₀  + ──────────────────────────────────────\n",
       "                                               ⎜  ⎜⎪  ╱                                       2       \n",
       "                                               ⎝  ⎝⎩╲╱                                     4⋅p        \n",
       "\n",
       "______________________________________________________________________________________________________\n",
       "                                                                                                      \n",
       "_____________________                    ⎞   ⎛⎧      _________________________________________________\n",
       "₁ + p)⋅(o₀ + o₁ + p)         2     2    2⎟   ⎜⎪     ╱   2   (p - q₀ - q₁)⋅(p - q₀ + q₁)⋅(p + q₀ - q₁)⋅\n",
       "────────────────────   for o₁  > o₀  + p ⎟   ⎜⎪-   ╱  q₀  + ──────────────────────────────────────────\n",
       "                                         ⎟   ⎜⎪   ╱                                      2            \n",
       "                                         ⎟   ⎜⎪ ╲╱                                    4⋅p             \n",
       "                                         ⎟ + ⎜⎨                                                       \n",
       "____________________                     ⎟   ⎜⎪     __________________________________________________\n",
       " + p)⋅(o₀ + o₁ + p)                      ⎟   ⎜⎪    ╱   2   (p - q₀ - q₁)⋅(p - q₀ + q₁)⋅(p + q₀ - q₁)⋅(\n",
       "───────────────────        otherwise     ⎟   ⎜⎪   ╱  q₀  + ───────────────────────────────────────────\n",
       "                                         ⎟   ⎜⎪  ╱                                      2             \n",
       "                                         ⎠   ⎝⎩╲╱                                    4⋅p              \n",
       "\n",
       "______________________________________\n",
       "                                    2 \n",
       "______________                    ⎞⎞  \n",
       "(p + q₀ + q₁)         2    2     2⎟⎟  \n",
       "─────────────   for q₁  > p  + q₀ ⎟⎟  \n",
       "                                  ⎟⎟  \n",
       "                                  ⎟⎟  \n",
       "                                  ⎟⎟  \n",
       "_____________                     ⎟⎟  \n",
       "p + q₀ + q₁)                      ⎟⎟  \n",
       "────────────        otherwise     ⎟⎟  \n",
       "                                  ⎟⎟  \n",
       "                                  ⎠⎠  "
      ]
     },
     "execution_count": 11,
     "metadata": {},
     "output_type": "execute_result"
    }
   ],
   "source": [
    "# we can also find an upper bound this way:\n",
    "# arrange the triangles so that one height is positive and one is negative:\n",
    "dist_ub = (h_q + h_o)**2 + (m_q - m_o)**2\n",
    "dist_ub = sqrt(dist_ub)\n",
    "dist_ub"
   ]
  },
  {
   "cell_type": "code",
   "execution_count": 12,
   "id": "a283aa066acd3843",
   "metadata": {
    "ExecuteTime": {
     "end_time": "2024-06-21T08:02:04.665746Z",
     "start_time": "2024-06-21T08:02:04.663441Z"
    }
   },
   "outputs": [],
   "source": [
    "\n",
    "# geometrically, we know that\n",
    "# m_q0 + m_o0 == m_o1 + m_q1\n"
   ]
  },
  {
   "cell_type": "code",
   "execution_count": 13,
   "id": "50015228abfe3f66",
   "metadata": {
    "ExecuteTime": {
     "end_time": "2024-06-21T08:02:04.994500Z",
     "start_time": "2024-06-21T08:02:04.924265Z"
    }
   },
   "outputs": [],
   "source": [
    "# test with a simple triangle:\n",
    "tri0 = {\n",
    "    p:3,\n",
    "    q_0:7,\n",
    "    q_1:5,\n",
    "}\n",
    "tri1 = {\n",
    "    p:tri0[p],\n",
    "    o_0:10.77,\n",
    "    o_1:12.21,\n",
    "}\n",
    "\n",
    "height0 = 4.33\n",
    "m_base0 = 5.5\n",
    "precision = 0.02\n",
    "\n",
    "assert N(abs(h_q.subs(tri0) - height0)) < precision, \"wrong height!\"\n",
    "assert N(abs(m_q0.subs(tri0) - m_base0)) < precision, \"wrong intersect!\"\n",
    "\n",
    "dist_n = float(dist.subs(tri0).subs(tri1))\n",
    "assert np.allclose(dist_n, 11.06, atol=precision), dist_n"
   ]
  },
  {
   "cell_type": "code",
   "execution_count": 23,
   "id": "65e72db155a35063",
   "metadata": {
    "ExecuteTime": {
     "end_time": "2024-06-21T08:02:05.213149Z",
     "start_time": "2024-06-21T08:02:05.123383Z"
    }
   },
   "outputs": [],
   "source": [
    "# test with a \"hard\" triangle\n",
    "trih = {\n",
    "    p:32.44996148,\n",
    "    q_0:65.76473219,\n",
    "    q_1:38.83297568,\n",
    "    o_0:64.5368112 ,\n",
    "    o_1:36.22154055,\n",
    "}\n",
    "\n",
    "assert np.abs(h_q.subs(trih) - 27.74) < precision\n",
    "assert np.abs(h_o.subs(trih) - 23.3) < precision\n",
    "m_q0.subs(trih) - 32.45, m_o0.subs(trih) - 32.45\n",
    "\n",
    "assert np.allclose(float(dist.subs(trih)), 4.47, atol=precision)"
   ]
  },
  {
   "cell_type": "code",
   "execution_count": 24,
   "id": "42c76c93",
   "metadata": {},
   "outputs": [
    {
     "data": {
      "text/latex": [
       "$\\displaystyle 27.7350098178224$"
      ],
      "text/plain": [
       "27.7350098178224"
      ]
     },
     "execution_count": 24,
     "metadata": {},
     "output_type": "execute_result"
    }
   ],
   "source": [
    "h_q.subs(trih)"
   ]
  },
  {
   "cell_type": "code",
   "execution_count": 26,
   "id": "78caa217",
   "metadata": {},
   "outputs": [
    {
     "data": {
      "text/latex": [
       "$\\displaystyle 60.1849712904903$"
      ],
      "text/plain": [
       "60.1849712904903"
      ]
     },
     "execution_count": 26,
     "metadata": {},
     "output_type": "execute_result"
    }
   ],
   "source": [
    "m_o.subs(trih)"
   ]
  },
  {
   "cell_type": "code",
   "execution_count": 15,
   "id": "419b06d478f27e9f",
   "metadata": {
    "ExecuteTime": {
     "end_time": "2024-06-21T08:02:06.175379Z",
     "start_time": "2024-06-21T08:02:06.169600Z"
    }
   },
   "outputs": [
    {
     "data": {
      "text/latex": [
       "$\\displaystyle \\left( 12.3333333333333, \\  11.0730938046379\\right)$"
      ],
      "text/plain": [
       "(12.3333333333333, 11.0730938046379)"
      ]
     },
     "execution_count": 15,
     "metadata": {},
     "output_type": "execute_result"
    }
   ],
   "source": [
    "# from Connor's paper:\n",
    "# 1/d(p0,p1) * (d(q, p0)**2 + d(q, p0)**2) > 2*t\n",
    "# is a lower bound\n",
    "lb = 1/2/p * (q_0**2 + q_1**2)\n",
    "N(lb.subs(tri0)), N(dist_n)"
   ]
  },
  {
   "cell_type": "code",
   "execution_count": 16,
   "id": "8dafdf758354ff35",
   "metadata": {
    "ExecuteTime": {
     "end_time": "2024-06-21T08:02:08.687201Z",
     "start_time": "2024-06-21T08:02:06.640588Z"
    }
   },
   "outputs": [
    {
     "data": {
      "text/latex": [
       "$\\displaystyle \\sqrt{\\left(- \\frac{\\sqrt{- \\left(- o_{0} - o_{1} + p\\right) \\left(- o_{0} + o_{1} + p\\right) \\left(o_{0} - o_{1} + p\\right)} \\sqrt{o_{0} + o_{1} + p}}{2 p} + \\frac{\\sqrt{- \\left(p - q_{0} - q_{1}\\right) \\left(p - q_{0} + q_{1}\\right) \\left(p + q_{0} - q_{1}\\right)} \\sqrt{p + q_{0} + q_{1}}}{2 p}\\right)^{2} + \\left(- \\begin{cases} - \\sqrt{o_{0}^{2} + \\frac{\\left(- o_{0} - o_{1} + p\\right) \\left(- o_{0} + o_{1} + p\\right) \\left(o_{0} - o_{1} + p\\right) \\left(o_{0} + o_{1} + p\\right)}{4 p^{2}}} & \\text{for}\\: o_{1}^{2} > o_{0}^{2} + p^{2} \\\\\\sqrt{o_{0}^{2} + \\frac{\\left(- o_{0} - o_{1} + p\\right) \\left(- o_{0} + o_{1} + p\\right) \\left(o_{0} - o_{1} + p\\right) \\left(o_{0} + o_{1} + p\\right)}{4 p^{2}}} & \\text{otherwise} \\end{cases} + \\begin{cases} - \\sqrt{q_{0}^{2} + \\frac{\\left(p - q_{0} - q_{1}\\right) \\left(p - q_{0} + q_{1}\\right) \\left(p + q_{0} - q_{1}\\right) \\left(p + q_{0} + q_{1}\\right)}{4 p^{2}}} & \\text{for}\\: q_{1}^{2} > p^{2} + q_{0}^{2} \\\\\\sqrt{q_{0}^{2} + \\frac{\\left(p - q_{0} - q_{1}\\right) \\left(p - q_{0} + q_{1}\\right) \\left(p + q_{0} - q_{1}\\right) \\left(p + q_{0} + q_{1}\\right)}{4 p^{2}}} & \\text{otherwise} \\end{cases}\\right)^{2}} < \\frac{0.5 \\left(q_{0}^{2} + q_{1}^{2}\\right)}{p}$"
      ],
      "text/plain": [
       "             _________________________________________________________________________________________\n",
       "            ╱                                                                                         \n",
       "           ╱                                                                                          \n",
       "          ╱                                                                                           \n",
       "         ╱                                                                                            \n",
       "        ╱     ⎛    ______________________________________________   _____________     ________________\n",
       "       ╱      ⎜  ╲╱ -(-o₀ - o₁ + p)⋅(-o₀ + o₁ + p)⋅(o₀ - o₁ + p) ⋅╲╱ o₀ + o₁ + p    ╲╱ -(p - q₀ - q₁)⋅\n",
       "      ╱       ⎜- ──────────────────────────────────────────────────────────────── + ──────────────────\n",
       "     ╱        ⎝                                2⋅p                                                    \n",
       "    ╱                                                                                                 \n",
       "   ╱                                                                                                  \n",
       "  ╱                                                                                                   \n",
       "╲╱                                                                                                    \n",
       "\n",
       "______________________________________________________________________________________________________\n",
       "                                                                                                      \n",
       "                                                 ⎛  ⎛⎧      __________________________________________\n",
       "                                                 ⎜  ⎜⎪     ╱   2   (-o₀ - o₁ + p)⋅(-o₀ + o₁ + p)⋅(o₀ -\n",
       "                                             2   ⎜  ⎜⎪-   ╱  o₀  + ───────────────────────────────────\n",
       "____________________________   _____________⎞    ⎜  ⎜⎪   ╱                                       2    \n",
       "(p - q₀ + q₁)⋅(p + q₀ - q₁) ⋅╲╱ p + q₀ + q₁ ⎟    ⎜  ⎜⎪ ╲╱                                     4⋅p     \n",
       "────────────────────────────────────────────⎟  + ⎜- ⎜⎨                                                \n",
       "           2⋅p                              ⎠    ⎜  ⎜⎪     ___________________________________________\n",
       "                                                 ⎜  ⎜⎪    ╱   2   (-o₀ - o₁ + p)⋅(-o₀ + o₁ + p)⋅(o₀ - \n",
       "                                                 ⎜  ⎜⎪   ╱  o₀  + ────────────────────────────────────\n",
       "                                                 ⎜  ⎜⎪  ╱                                       2     \n",
       "                                                 ⎝  ⎝⎩╲╱                                     4⋅p      \n",
       "\n",
       "______________________________________________________________________________________________________\n",
       "                                                                                                      \n",
       "_______________________                    ⎞   ⎛⎧      _______________________________________________\n",
       " o₁ + p)⋅(o₀ + o₁ + p)         2     2    2⎟   ⎜⎪     ╱   2   (p - q₀ - q₁)⋅(p - q₀ + q₁)⋅(p + q₀ - q₁\n",
       "──────────────────────   for o₁  > o₀  + p ⎟   ⎜⎪-   ╱  q₀  + ────────────────────────────────────────\n",
       "                                           ⎟   ⎜⎪   ╱                                      2          \n",
       "                                           ⎟   ⎜⎪ ╲╱                                    4⋅p           \n",
       "                                           ⎟ + ⎜⎨                                                     \n",
       "______________________                     ⎟   ⎜⎪     ________________________________________________\n",
       "o₁ + p)⋅(o₀ + o₁ + p)                      ⎟   ⎜⎪    ╱   2   (p - q₀ - q₁)⋅(p - q₀ + q₁)⋅(p + q₀ - q₁)\n",
       "─────────────────────        otherwise     ⎟   ⎜⎪   ╱  q₀  + ─────────────────────────────────────────\n",
       "                                           ⎟   ⎜⎪  ╱                                      2           \n",
       "                                           ⎠   ⎝⎩╲╱                                    4⋅p            \n",
       "\n",
       "________________________________________                  \n",
       "                                      2                   \n",
       "________________                    ⎞⎞                    \n",
       ")⋅(p + q₀ + q₁)         2    2     2⎟⎟                    \n",
       "───────────────   for q₁  > p  + q₀ ⎟⎟                    \n",
       "                                    ⎟⎟         ⎛  2     2⎞\n",
       "                                    ⎟⎟     0.5⋅⎝q₀  + q₁ ⎠\n",
       "                                    ⎟⎟   < ───────────────\n",
       "_______________                     ⎟⎟            p       \n",
       "⋅(p + q₀ + q₁)                      ⎟⎟                    \n",
       "──────────────        otherwise     ⎟⎟                    \n",
       "                                    ⎟⎟                    \n",
       "                                    ⎠⎠                    "
      ]
     },
     "execution_count": 16,
     "metadata": {},
     "output_type": "execute_result"
    }
   ],
   "source": [
    "simplify(dist < lb)\n"
   ]
  },
  {
   "cell_type": "code",
   "execution_count": 17,
   "id": "82d6ecf0187b168f",
   "metadata": {
    "ExecuteTime": {
     "end_time": "2024-06-21T08:02:11.741919Z",
     "start_time": "2024-06-21T08:02:11.731259Z"
    }
   },
   "outputs": [
    {
     "ename": "NameError",
     "evalue": "name 'nsolveset' is not defined",
     "output_type": "error",
     "traceback": [
      "\u001b[0;31m---------------------------------------------------------------------------\u001b[0m",
      "\u001b[0;31mNameError\u001b[0m                                 Traceback (most recent call last)",
      "Cell \u001b[0;32mIn[17], line 1\u001b[0m\n\u001b[0;32m----> 1\u001b[0m \u001b[43mnsolveset\u001b[49m(dist \u001b[38;5;241m-\u001b[39m \u001b[38;5;241m3\u001b[39m,o_0, domain\u001b[38;5;241m=\u001b[39mS\u001b[38;5;241m.\u001b[39mReals)\n",
      "\u001b[0;31mNameError\u001b[0m: name 'nsolveset' is not defined"
     ]
    }
   ],
   "source": [
    "nsolveset(dist - 3,o_0, domain=S.Reals)"
   ]
  },
  {
   "cell_type": "code",
   "execution_count": 18,
   "id": "8cc28028b301d02d",
   "metadata": {
    "ExecuteTime": {
     "end_time": "2024-06-21T08:02:12.999158Z",
     "start_time": "2024-06-21T08:02:12.992394Z"
    }
   },
   "outputs": [
    {
     "name": "stdout",
     "output_type": "stream",
     "text": [
      "o0 = Symbol('o0')\n",
      "o1 = Symbol('o1')\n",
      "p = Symbol('p')\n",
      "q0 = Symbol('q0')\n",
      "q1 = Symbol('q1')\n",
      "e = sqrt((sqrt(-(-o0 - o1 + p)*(-o0 + o1 + p)*(o0 - o1 + p))*sqrt(o0 + o1 + p)/(2*p) + sqrt(-(p - q0 - q1)*(p - q0 + q1)*(p + q0 - q1))*sqrt(p + q0 + q1)/(2*p))**2 + (-Piecewise((-sqrt(o0**2 + (-o0 - o1 + p)*(-o0 + o1 + p)*(o0 - o1 + p)*(o0 + o1 + p)/(4*p**2)), o1**2 > o0**2 + p**2), (sqrt(o0**2 + (-o0 - o1 + p)*(-o0 + o1 + p)*(o0 - o1 + p)*(o0 + o1 + p)/(4*p**2)), true)) + Piecewise((-sqrt(q0**2 + (p - q0 - q1)*(p - q0 + q1)*(p + q0 - q1)*(p + q0 + q1)/(4*p**2)), q1**2 > p**2 + q0**2), (sqrt(q0**2 + (p - q0 - q1)*(p - q0 + q1)*(p + q0 - q1)*(p + q0 + q1)/(4*p**2)), true)))**2)\n"
     ]
    }
   ],
   "source": [
    "printing.print_python(dist_ub)"
   ]
  },
  {
   "cell_type": "code",
   "execution_count": 19,
   "id": "91ca7b51da76afc",
   "metadata": {
    "ExecuteTime": {
     "end_time": "2024-06-21T08:02:25.622350Z",
     "start_time": "2024-06-21T08:02:25.590914Z"
    }
   },
   "outputs": [],
   "source": [
    "connor_diff = lambdify([p,q_0, q_1, o_0, o_1], lb - dist, \"numpy\")\n",
    "tetrahedron_lb = lambdify([p,q_0, q_1, o_0, o_1], dist, \"numpy\")\n",
    "tetrahedron_ub = lambdify([p,q_0, q_1, o_0, o_1], dist_ub, \"numpy\")\n",
    "\n",
    "def ptolemy_lb(p, q_0, q_1, o_0, o_1):\n",
    "    diff = np.abs(q_0 * o_1 - q_1 * o_0)\n",
    "    return diff / p"
   ]
  },
  {
   "cell_type": "code",
   "execution_count": 20,
   "id": "13dd010cdf03803f",
   "metadata": {
    "ExecuteTime": {
     "end_time": "2024-06-21T08:02:28.762451Z",
     "start_time": "2024-06-21T08:02:28.750105Z"
    }
   },
   "outputs": [],
   "source": [
    "from tqdm import tqdm\n",
    "\n",
    "def _stable_tetrahedron_lb(p_n, q_0_n, q_1_n, o_0_n, o_1_n):\n",
    "    for i in tqdm(range(len(p_n))):\n",
    "        yield dist.subs({\n",
    "            p:p_n[i],\n",
    "            q_0:q_0_n[i],\n",
    "            q_1:q_1_n[i],\n",
    "            o_0:o_0_n[i],\n",
    "            o_1:o_1_n[i],\n",
    "        }).evalf()\n",
    "\n",
    "def stable_tetrahedron_lb(p_n, q_0_n, q_1_n, o_0_n, o_1_n):\n",
    "    return np.asarray(list(_stable_tetrahedron_lb(p_n, q_0_n, q_1_n, o_0_n, o_1_n)), dtype=float)"
   ]
  },
  {
   "cell_type": "code",
   "execution_count": 21,
   "id": "454c474f35bd008a",
   "metadata": {
    "ExecuteTime": {
     "end_time": "2024-06-21T08:06:07.944965Z",
     "start_time": "2024-06-21T08:06:07.941248Z"
    }
   },
   "outputs": [
    {
     "ename": "NameError",
     "evalue": "name 'points' is not defined",
     "output_type": "error",
     "traceback": [
      "\u001b[0;31m---------------------------------------------------------------------------\u001b[0m",
      "\u001b[0;31mNameError\u001b[0m                                 Traceback (most recent call last)",
      "Cell \u001b[0;32mIn[21], line 1\u001b[0m\n\u001b[0;32m----> 1\u001b[0m \u001b[43mpoints\u001b[49m[:,p0,:]\u001b[38;5;241m.\u001b[39mshape\n",
      "\u001b[0;31mNameError\u001b[0m: name 'points' is not defined"
     ]
    }
   ],
   "source": [
    "points[:,p0,:].shape"
   ]
  },
  {
   "cell_type": "code",
   "execution_count": 22,
   "id": "727cf0e718b6b726",
   "metadata": {
    "ExecuteTime": {
     "end_time": "2024-06-21T08:10:00.367109Z",
     "start_time": "2024-06-21T08:10:00.159525Z"
    }
   },
   "outputs": [
    {
     "ename": "NameError",
     "evalue": "name 'connor_lb' is not defined",
     "output_type": "error",
     "traceback": [
      "\u001b[0;31m---------------------------------------------------------------------------\u001b[0m",
      "\u001b[0;31mNameError\u001b[0m                                 Traceback (most recent call last)",
      "Cell \u001b[0;32mIn[22], line 23\u001b[0m\n\u001b[1;32m     21\u001b[0m tet_ub \u001b[38;5;241m=\u001b[39m tetrahedron_ub(\u001b[38;5;241m*\u001b[39margs)\n\u001b[1;32m     22\u001b[0m pto_n \u001b[38;5;241m=\u001b[39m ptolemy_lb(\u001b[38;5;241m*\u001b[39margs)\n\u001b[0;32m---> 23\u001b[0m connors_lb_n \u001b[38;5;241m=\u001b[39m \u001b[43mconnor_lb\u001b[49m(\u001b[38;5;241m*\u001b[39margs)\n\u001b[1;32m     24\u001b[0m connors_lb_n \u001b[38;5;241m=\u001b[39m np\u001b[38;5;241m.\u001b[39mclip(connors_lb_n, \u001b[38;5;241m-\u001b[39m\u001b[38;5;241m10\u001b[39m, \u001b[38;5;241m200\u001b[39m)\n\u001b[1;32m     26\u001b[0m bins \u001b[38;5;241m=\u001b[39m \u001b[38;5;241m100\u001b[39m\n",
      "\u001b[0;31mNameError\u001b[0m: name 'connor_lb' is not defined"
     ]
    }
   ],
   "source": [
    "# simulate triangles\n",
    "import numpy as np\n",
    "import matplotlib.pyplot as plt\n",
    "from scipy import spatial\n",
    "rng = np.random.default_rng()\n",
    "\n",
    "dist_func = lambda x,y: spatial.minkowski_distance(x,y,5)# np.linalg.norm(x-y, axis=-1)\n",
    "n_samples= 100000\n",
    "dim = 3\n",
    "points = rng.integers(-37,38, size=[n_samples, 4, dim])\n",
    "p0,p1,q,o = 0,1,2,3\n",
    "dists_p = dist_func(points[:,p0,:], points[:,p1,:])\n",
    "dists_q0 = dist_func(points[:,p0,:], points[:,q,:])\n",
    "dists_q1 = dist_func(points[:,p1,:], points[:,q,:])\n",
    "dists_o0 = dist_func(points[:,p0,:], points[:,o,:])\n",
    "dists_o1 = dist_func(points[:,p1,:], points[:,o,:])\n",
    "dists_target = dist_func(points[:,q,:], points[:,o,:])\n",
    "\n",
    "args = np.vstack((dists_p, dists_q0, dists_q1, dists_o0, dists_o1))\n",
    "tet_lb = tetrahedron_lb(*args)\n",
    "tet_ub = tetrahedron_ub(*args)\n",
    "pto_n = ptolemy_lb(*args)\n",
    "connors_lb_n = connor_lb(*args)\n",
    "connors_lb_n = np.clip(connors_lb_n, -10, 200)\n",
    "\n",
    "bins = 100\n",
    "plt.hist(dists_target,  bins=bins, label=\"actual\")\n",
    "plt.hist(tet_lb, bins=bins, histtype=\"step\", label=\"tetrahedron lb\")\n",
    "plt.hist(tet_ub, bins=bins, histtype=\"step\", label=\"tetrahedron ub\")\n",
    "plt.hist(pto_n, bins=bins, histtype=\"step\", label=\"Ptolemy\")\n",
    "#plt.hist(connors_lb_n, bins=bins, histtype=\"step\", label=\"connor\")\n",
    "\n",
    "plt.title(\"differences between lower bound functions\")\n",
    "plt.xlabel(\"distance\")\n",
    "plt.ylabel(\"freq\")\n",
    "plt.legend()\n",
    "plt.show()"
   ]
  },
  {
   "cell_type": "code",
   "execution_count": null,
   "id": "e502386d680a9270",
   "metadata": {
    "ExecuteTime": {
     "end_time": "2024-06-21T08:10:01.335549Z",
     "start_time": "2024-06-21T08:10:01.330931Z"
    }
   },
   "outputs": [],
   "source": [
    "def violations(lb):\n",
    "    return (dists_target < lb).sum() / len(dists_target)\n",
    "violations_tet = violations(tet_lb)\n",
    "violations_pto = violations(pto_n)\n",
    "violations_tet, violations_pto"
   ]
  },
  {
   "cell_type": "code",
   "execution_count": null,
   "id": "793b64f9a0d8ac8",
   "metadata": {
    "ExecuteTime": {
     "end_time": "2024-06-21T08:07:51.536414Z",
     "start_time": "2024-06-21T08:07:51.424206Z"
    }
   },
   "outputs": [],
   "source": [
    "plt.hist(pto_n - tet_lb, bins=100);"
   ]
  },
  {
   "cell_type": "code",
   "execution_count": null,
   "id": "466e0b22594256cc",
   "metadata": {
    "ExecuteTime": {
     "end_time": "2024-06-21T08:07:53.544777Z",
     "start_time": "2024-06-21T08:07:53.459272Z"
    }
   },
   "outputs": [],
   "source": [
    "plt.hist(dists_target - tet_lb, histtype=\"step\");\n",
    "plt.hist(tet_ub - dists_target, histtype=\"step\");"
   ]
  },
  {
   "cell_type": "code",
   "execution_count": null,
   "id": "900f94a90925e8aa",
   "metadata": {
    "ExecuteTime": {
     "end_time": "2024-04-15T07:22:04.568722Z",
     "start_time": "2024-04-15T07:22:04.436088Z"
    }
   },
   "outputs": [],
   "source": [
    "problems = np.abs(dists_target - my_lb_n) > 0.01\n",
    "ppoints = points[problems,:,:]\n",
    "\n",
    "plt.plot(*ppoints[0][:2].T)\n",
    "for p in ppoints[0]:\n",
    "    plt.plot(*p, \"o\")\n",
    "    \n",
    "plt.show()"
   ]
  },
  {
   "cell_type": "code",
   "execution_count": null,
   "id": "4965d5c3c2e6f420",
   "metadata": {},
   "outputs": [],
   "source": []
  }
 ],
 "metadata": {
  "kernelspec": {
   "display_name": "Python 3 (ipykernel)",
   "language": "python",
   "name": "python3"
  },
  "language_info": {
   "codemirror_mode": {
    "name": "ipython",
    "version": 3
   },
   "file_extension": ".py",
   "mimetype": "text/x-python",
   "name": "python",
   "nbconvert_exporter": "python",
   "pygments_lexer": "ipython3",
   "version": "3.12.4"
  }
 },
 "nbformat": 4,
 "nbformat_minor": 5
}
