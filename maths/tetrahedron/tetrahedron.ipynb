{
 "cells": [
  {
   "cell_type": "code",
   "execution_count": 1,
   "id": "initial_id",
   "metadata": {
    "ExecuteTime": {
     "end_time": "2024-06-21T07:12:35.389955Z",
     "start_time": "2024-06-21T07:12:35.382762Z"
    }
   },
   "outputs": [
    {
     "data": {
      "text/plain": [
       "'Some important Ptolemaic metric spaces are 4-embeddable into R^3.\\nConnor mentions a tetrahedron lower bound: When all but one distances\\nbetween four points are known, the last one can be lower bounded as the\\nshortest side of a tetrahedron. This would be a degenerate tetrahedron,\\nwith the two known triangles sharing one side and lying in the same plane.\\n'"
      ]
     },
     "execution_count": 1,
     "metadata": {},
     "output_type": "execute_result"
    }
   ],
   "source": [
    "import scipy.spatial.distance\n",
    "\n",
    "\"\"\"Some important Ptolemaic metric spaces are 4-embeddable into R^3.\n",
    "Connor mentions a tetrahedron lower bound: When all but one distances\n",
    "between four points are known, the last one can be lower bounded as the\n",
    "shortest side of a tetrahedron. This would be a degenerate tetrahedron,\n",
    "with the two known triangles sharing one side and lying in the same plane.\n",
    "\"\"\""
   ]
  },
  {
   "cell_type": "code",
   "execution_count": 2,
   "id": "720e49f562f57972",
   "metadata": {
    "ExecuteTime": {
     "end_time": "2024-06-21T07:12:52.160600Z",
     "start_time": "2024-06-21T07:12:52.154982Z"
    }
   },
   "outputs": [
    {
     "data": {
      "text/latex": [
       "$\\displaystyle \\left( \\sqrt{s} \\sqrt{\\left(- a + s\\right) \\left(- b + s\\right) \\left(- c + s\\right)}, \\  \\left\\{ s : \\frac{a}{2} + \\frac{b}{2} + \\frac{c}{2}\\right\\}\\right)$"
      ],
      "text/plain": [
       "⎛     ____________________________  ⎧   a   b   c⎫⎞\n",
       "⎜√s⋅╲╱ (-a + s)⋅(-b + s)⋅(-c + s) , ⎨s: ─ + ─ + ─⎬⎟\n",
       "⎝                                   ⎩   2   2   2⎭⎠"
      ]
     },
     "execution_count": 2,
     "metadata": {},
     "output_type": "execute_result"
    }
   ],
   "source": [
    "import numpy as np\n",
    "from sympy import *\n",
    "#from algebra_with_sympy import *\n",
    "\n",
    "init_printing(use_latex='mathjax')\n",
    "\n",
    "dist_prop = dict(real=True, positive=True)\n",
    "# generic symbols\n",
    "A, s, a, b, c, h = symbols(\"A s a b c h\", **dist_prop)\n",
    "\n",
    "# Heron\n",
    "semiperimeter = {s: (a + b + c) / 2}\n",
    "area = sqrt(s * (s - a) * (s - b) * (s - c))\n",
    "\n",
    "height_over_a = 2 / a * area.subs(semiperimeter)\n",
    "\n",
    "area, semiperimeter"
   ]
  },
  {
   "cell_type": "markdown",
   "id": "5a1dddb385ed4598",
   "metadata": {},
   "source": [
    "![](img.png)"
   ]
  },
  {
   "cell_type": "code",
   "execution_count": 3,
   "id": "9076f83df920d5c9",
   "metadata": {
    "ExecuteTime": {
     "end_time": "2024-06-21T07:45:17.105574Z",
     "start_time": "2024-06-21T07:45:17.031503Z"
    }
   },
   "outputs": [],
   "source": [
    "# we have two pivots, a query (center) and an object\n",
    "# we want to lower bound d(q,o)\n",
    "# we know all other distances\n",
    "\n",
    "# the two resulting triangles have a shared base p0-p1 of length p\n",
    "p = symbols(\"p\", **dist_prop)\n",
    "\n",
    "# the query triangle has these other sides:\n",
    "q0, q1 = symbols(\"q:2\", **dist_prop)\n",
    "\n",
    "# dito for the object triangle\n",
    "o0, o1 = symbols(\"o:2\", **dist_prop)\n",
    "\n",
    "# we are repeating a lot of steps for both triangles\n",
    "def q2o(term):\n",
    "    subs = {q0:o0, q1:o1}\n",
    "    return term.subs(subs)"
   ]
  },
  {
   "cell_type": "code",
   "execution_count": 4,
   "id": "0789be43",
   "metadata": {},
   "outputs": [
    {
     "data": {
      "text/latex": [
       "$\\displaystyle \\frac{\\sqrt{- \\left(p - q_{0} - q_{1}\\right) \\left(p - q_{0} + q_{1}\\right) \\left(p + q_{0} - q_{1}\\right)} \\sqrt{p + q_{0} + q_{1}}}{2 p}$"
      ],
      "text/plain": [
       "  ____________________________________________   _____________\n",
       "╲╱ -(p - q₀ - q₁)⋅(p - q₀ + q₁)⋅(p + q₀ - q₁) ⋅╲╱ p + q₀ + q₁ \n",
       "──────────────────────────────────────────────────────────────\n",
       "                             2⋅p                              "
      ]
     },
     "execution_count": 4,
     "metadata": {},
     "output_type": "execute_result"
    }
   ],
   "source": [
    "# these triangles have heights that we can infer via Heron\n",
    "hq = height_over_a.subs({\n",
    "    a: p, b: q0, c: q1\n",
    "})\n",
    "hq = factor(hq)\n",
    "ho = q2o(hq)\n",
    "\n",
    "hq"
   ]
  },
  {
   "cell_type": "code",
   "execution_count": 5,
   "id": "e60ce441650bf0c1",
   "metadata": {
    "ExecuteTime": {
     "end_time": "2024-06-21T07:45:26.995738Z",
     "start_time": "2024-06-21T07:45:26.976011Z"
    }
   },
   "outputs": [
    {
     "data": {
      "text/latex": [
       "$\\displaystyle \\frac{\\left|{o_{0}^{2} - o_{1}^{2} + p^{2}}\\right|}{2 p}$"
      ],
      "text/plain": [
       "│  2     2    2│\n",
       "│o₀  - o₁  + p │\n",
       "────────────────\n",
       "      2⋅p       "
      ]
     },
     "execution_count": 5,
     "metadata": {},
     "output_type": "execute_result"
    }
   ],
   "source": [
    "# the height \"bisects\" the shared base at these lengths,\n",
    "# measured from one of the two possible vertices:\n",
    "mq0 = factor(sqrt(q0**2 - hq**2))\n",
    "mo0 = q2o(mq0)\n",
    "\n",
    "mo0"
   ]
  },
  {
   "cell_type": "code",
   "execution_count": 72,
   "id": "f73699fb3c7543f1",
   "metadata": {
    "ExecuteTime": {
     "end_time": "2024-06-21T07:53:14.404209Z",
     "start_time": "2024-06-21T07:53:14.395593Z"
    }
   },
   "outputs": [
    {
     "data": {
      "text/latex": [
       "$\\displaystyle \\begin{cases} - \\frac{\\left|{p^{2} + q_{0}^{2} - q_{1}^{2}}\\right|}{2 p} & \\text{for}\\: q_{1}^{2} > p^{2} + q_{0}^{2} \\\\\\frac{\\left|{p^{2} + q_{0}^{2} - q_{1}^{2}}\\right|}{2 p} & \\text{otherwise} \\end{cases}$"
      ],
      "text/plain": [
       "⎧ │ 2     2     2│                     \n",
       "⎪-│p  + q₀  - q₁ │         2    2     2\n",
       "⎪──────────────────  for q₁  > p  + q₀ \n",
       "⎪       2⋅p                            \n",
       "⎨                                      \n",
       "⎪ │ 2     2     2│                     \n",
       "⎪ │p  + q₀  - q₁ │                     \n",
       "⎪ ────────────────       otherwise     \n",
       "⎩       2⋅p                            "
      ]
     },
     "execution_count": 72,
     "metadata": {},
     "output_type": "execute_result"
    }
   ],
   "source": [
    "# We know the height of the triangle w.r.t. q.\n",
    "# Let's figure out the \"width\" or the \"x-position\" of the point q.\n",
    "\n",
    "# Let q0 be on the left and q1 be on the right.\n",
    "# If the triangle is acute:\n",
    "m_ac = mq0\n",
    "\n",
    "# If the triangle is obtuse, we have two cases:\n",
    "# One where the point is to the left:\n",
    "mob_left = -mq0\n",
    "# And one where the point is to the right:\n",
    "mob_right = mq0 # which is identical to m_ac\n",
    "\n",
    "# left obtuse means that q1 has to be the longest side and\n",
    "# that q1**2 > p**2 + q1**2\n",
    "mq = Piecewise(\n",
    "    (mob_left,  q1**2 > p**2 + q0**2), # And(And(q1 > p, q1 > q0) ,\n",
    "    (m_ac, True)\n",
    ")\n",
    "\n",
    "mq"
   ]
  },
  {
   "cell_type": "code",
   "execution_count": 73,
   "id": "2608a65a",
   "metadata": {},
   "outputs": [
    {
     "data": {
      "text/latex": [
       "$\\displaystyle \\frac{p^{2} + q_{0}^{2} - q_{1}^{2}}{2 p}$"
      ],
      "text/plain": [
       " 2     2     2\n",
       "p  + q₀  - q₁ \n",
       "──────────────\n",
       "     2⋅p      "
      ]
     },
     "execution_count": 73,
     "metadata": {},
     "output_type": "execute_result"
    }
   ],
   "source": [
    "# but this is just the same formula with the abs() removed\n",
    "mq = mq.args[1][0].replace(Abs, lambda x:x)\n",
    "mo = q2o(mq)\n",
    "mq"
   ]
  },
  {
   "cell_type": "code",
   "execution_count": 74,
   "id": "fe710660f1ea9725",
   "metadata": {
    "ExecuteTime": {
     "end_time": "2024-06-21T08:01:22.859593Z",
     "start_time": "2024-06-21T08:01:22.116293Z"
    }
   },
   "outputs": [
    {
     "data": {
      "text/latex": [
       "$\\displaystyle \\frac{\\left(\\sqrt{\\left(- o_{0} + o_{1} + p\\right) \\left(o_{0} - o_{1} + p\\right) \\left(o_{0} + o_{1} - p\\right)} \\sqrt{o_{0} + o_{1} + p} - \\sqrt{\\left(- p + q_{0} + q_{1}\\right) \\left(p - q_{0} + q_{1}\\right) \\left(p + q_{0} - q_{1}\\right)} \\sqrt{p + q_{0} + q_{1}}\\right)^{2} + \\left(o_{0}^{2} - o_{1}^{2} - q_{0}^{2} + q_{1}^{2}\\right)^{2}}{4 p^{2}}$"
      ],
      "text/plain": [
       "                                                                                                                                 2                          2\n",
       "⎛  ____________________________________________   _____________     ____________________________________________   _____________⎞    ⎛  2     2     2     2⎞ \n",
       "⎝╲╱ (-o₀ + o₁ + p)⋅(o₀ - o₁ + p)⋅(o₀ + o₁ - p) ⋅╲╱ o₀ + o₁ + p  - ╲╱ (-p + q₀ + q₁)⋅(p - q₀ + q₁)⋅(p + q₀ - q₁) ⋅╲╱ p + q₀ + q₁ ⎠  + ⎝o₀  - o₁  - q₀  + q₁ ⎠ \n",
       "─────────────────────────────────────────────────────────────────────────────────────────────────────────────────────────────────────────────────────────────\n",
       "                                                                                2                                                                            \n",
       "                                                                             4⋅p                                                                             "
      ]
     },
     "execution_count": 74,
     "metadata": {},
     "output_type": "execute_result"
    }
   ],
   "source": [
    "# construct the right triangle which hypotenuse of length d connects q and o\n",
    "# from h and m s\n",
    "\n",
    "lb2 = (hq - ho) ** 2 + (mq - mo) ** 2\n",
    "\n",
    "lb2 = simplify(lb2)\n",
    "dist = simplify(sqrt(lb2))\n",
    "lb2 # Mathematica can't simplify this any further"
   ]
  },
  {
   "cell_type": "code",
   "execution_count": 75,
   "id": "c9f1bd5f",
   "metadata": {},
   "outputs": [
    {
     "data": {
      "text/latex": [
       "$\\displaystyle \\frac{\\left(\\sqrt{\\left(- o_{0} + o_{1} + p\\right) \\left(o_{0} - o_{1} + p\\right) \\left(o_{0} + o_{1} - p\\right)} \\sqrt{o_{0} + o_{1} + p} + \\sqrt{\\left(- p + q_{0} + q_{1}\\right) \\left(p - q_{0} + q_{1}\\right) \\left(p + q_{0} - q_{1}\\right)} \\sqrt{p + q_{0} + q_{1}}\\right)^{2} + \\left(o_{0}^{2} - o_{1}^{2} - q_{0}^{2} + q_{1}^{2}\\right)^{2}}{4 p^{2}}$"
      ],
      "text/plain": [
       "                                                                                                                                 2                          2\n",
       "⎛  ____________________________________________   _____________     ____________________________________________   _____________⎞    ⎛  2     2     2     2⎞ \n",
       "⎝╲╱ (-o₀ + o₁ + p)⋅(o₀ - o₁ + p)⋅(o₀ + o₁ - p) ⋅╲╱ o₀ + o₁ + p  + ╲╱ (-p + q₀ + q₁)⋅(p - q₀ + q₁)⋅(p + q₀ - q₁) ⋅╲╱ p + q₀ + q₁ ⎠  + ⎝o₀  - o₁  - q₀  + q₁ ⎠ \n",
       "─────────────────────────────────────────────────────────────────────────────────────────────────────────────────────────────────────────────────────────────\n",
       "                                                                                2                                                                            \n",
       "                                                                             4⋅p                                                                             "
      ]
     },
     "execution_count": 75,
     "metadata": {},
     "output_type": "execute_result"
    }
   ],
   "source": [
    "# we can also find an upper bound this way:\n",
    "# arrange the triangles so that one height is positive and one is negative:\n",
    "ub2 = (hq + ho)**2 + (mq - mo)**2\n",
    "ub2 = simplify(ub2)\n",
    "ub2"
   ]
  },
  {
   "cell_type": "code",
   "execution_count": 76,
   "id": "2a2e9660",
   "metadata": {
    "scrolled": true
   },
   "outputs": [],
   "source": [
    "# test with a simple triangle:\n",
    "tri0 = {\n",
    "    p:3,\n",
    "    q0:7,\n",
    "    q1:5,\n",
    "}\n",
    "tri1 = {\n",
    "    p:tri0[p],\n",
    "    o0:10.77,\n",
    "    o1:12.21,\n",
    "}\n",
    "\n",
    "height0 = 4.33\n",
    "m_base0 = 5.5\n",
    "precision = 0.02\n",
    "\n",
    "assert N(abs(hq.subs(tri0) - height0)) < precision, \"wrong height!\"\n",
    "assert N(abs(mq0.subs(tri0) - m_base0)) < precision, \"wrong intersect!\"\n",
    "\n",
    "true_dist = 11.06\n",
    "this_lb = N(sqrt(lb2).subs(tri0).subs(tri1))\n",
    "assert np.allclose(true_dist, float(this_lb), atol=precision), old_lb"
   ]
  },
  {
   "cell_type": "code",
   "execution_count": 77,
   "id": "14377415",
   "metadata": {},
   "outputs": [],
   "source": [
    "# test with a \"hard\" triangle\n",
    "trih = {\n",
    "    p:32.44996148,\n",
    "    q0:65.76473219,\n",
    "    q1:38.83297568,\n",
    "    o0:64.5368112 ,\n",
    "    o1:36.22154055,\n",
    "}\n",
    "\n",
    "assert np.abs(hq.subs(trih) - 27.74) < precision\n",
    "assert np.abs(ho.subs(trih) - 23.3) < precision\n",
    "mq0.subs(trih) - 32.45, mo0.subs(trih) - 32.45\n",
    "\n",
    "assert np.allclose(float(sqrt(lb2).subs(trih)), 4.47, atol=precision)"
   ]
  },
  {
   "cell_type": "code",
   "execution_count": 79,
   "id": "91f8cadd",
   "metadata": {},
   "outputs": [
    {
     "data": {
      "text/latex": [
       "$\\displaystyle \\left( \\left[ \\left( x_{0}, \\  \\left(o_{0}^{2} - o_{1}^{2} - q_{0}^{2} + q_{1}^{2}\\right)^{2}\\right), \\  \\left( x_{1}, \\  o_{0} + o_{1}\\right), \\  \\left( x_{2}, \\  - p\\right), \\  \\left( x_{3}, \\  \\sqrt{\\left(x_{1} + x_{2}\\right) \\left(- o_{0} + o_{1} + p\\right) \\left(o_{0} - o_{1} + p\\right)} \\sqrt{p + x_{1}}\\right), \\  \\left( x_{4}, \\  p + q_{0}\\right), \\  \\left( x_{5}, \\  \\sqrt{\\left(- q_{1} + x_{4}\\right) \\left(p - q_{0} + q_{1}\\right) \\left(q_{0} + q_{1} + x_{2}\\right)} \\sqrt{q_{1} + x_{4}}\\right), \\  \\left( x_{6}, \\  \\frac{1}{4 p^{2}}\\right)\\right], \\  \\left[ x_{6} \\left(x_{0} + \\left(x_{3} - x_{5}\\right)^{2}\\right), \\  x_{6} \\left(x_{0} + \\left(x_{3} + x_{5}\\right)^{2}\\right)\\right]\\right)$"
      ],
      "text/plain": [
       "⎛⎡⎛                           2⎞                                                                                                                                                                               ⎤ \n",
       "⎜⎢⎜    ⎛  2     2     2     2⎞ ⎟                           ⎛      ________________________________________   ________⎞                ⎛      _________________________________________   _________⎞  ⎛     1  ⎞⎥ \n",
       "⎜⎢⎝x₀, ⎝o₀  - o₁  - q₀  + q₁ ⎠ ⎠, (x₁, o₀ + o₁), (x₂, -p), ⎝x₃, ╲╱ (x₁ + x₂)⋅(-o₀ + o₁ + p)⋅(o₀ - o₁ + p) ⋅╲╱ p + x₁ ⎠, (x₄, p + q₀), ⎝x₅, ╲╱ (-q₁ + x₄)⋅(p - q₀ + q₁)⋅(q₀ + q₁ + x₂) ⋅╲╱ q₁ + x₄ ⎠, ⎜x₆, ────⎟⎥,\n",
       "⎜⎢                                                                                                                                                                                                   ⎜       2⎟⎥ \n",
       "⎝⎣                                                                                                                                                                                                   ⎝    4⋅p ⎠⎦ \n",
       "\n",
       "                                             ⎞\n",
       " ⎡   ⎛              2⎞     ⎛              2⎞⎤⎟\n",
       " ⎣x₆⋅⎝x₀ + (x₃ - x₅) ⎠, x₆⋅⎝x₀ + (x₃ + x₅) ⎠⎦⎟\n",
       "                                             ⎟\n",
       "                                             ⎠"
      ]
     },
     "execution_count": 79,
     "metadata": {},
     "output_type": "execute_result"
    }
   ],
   "source": [
    "cse([lb2,ub2])"
   ]
  },
  {
   "cell_type": "code",
   "execution_count": 80,
   "id": "6f377812",
   "metadata": {},
   "outputs": [
    {
     "data": {
      "text/latex": [
       "$\\displaystyle \\left[ \\frac{x_{0} + \\left(x_{3} - x_{5}\\right)^{2}}{4 p^{2}}, \\  \\frac{x_{0} + \\left(x_{3} + x_{5}\\right)^{2}}{4 p^{2}}\\right]$"
      ],
      "text/plain": [
       "⎡              2                2⎤\n",
       "⎢x₀ + (x₃ - x₅)   x₀ + (x₃ + x₅) ⎥\n",
       "⎢───────────────, ───────────────⎥\n",
       "⎢         2                2     ⎥\n",
       "⎣      4⋅p              4⋅p      ⎦"
      ]
     },
     "execution_count": 80,
     "metadata": {},
     "output_type": "execute_result"
    }
   ],
   "source": [
    "# some mappings are too simple to be worth the rewriting\n",
    "def eliminate_mappings(mappings, expressions, ignore_idx):\n",
    "    ignore = [mappings[i] for i in ignore_idx]\n",
    "    mappings = [i for i in mappings if i not in ignore]\n",
    "\n",
    "    ignore = [(m[0],m[1].subs(ignore)) for m in ignore]\n",
    "    mappings = [(m[0], m[1].subs(ignore)) for m in mappings]\n",
    "    expressions = [e.subs(ignore) for e in expressions]\n",
    "    return mappings, expressions\n",
    "\n",
    "\n",
    "ignore_idx = [2, 6]\n",
    "mappings, expressions = eliminate_mappings(*cse([lb2,ub2]), ignore_idx)\n",
    "expressions "
   ]
  },
  {
   "cell_type": "code",
   "execution_count": null,
   "id": "b20f3057",
   "metadata": {},
   "outputs": [],
   "source": []
  },
  {
   "cell_type": "code",
   "execution_count": null,
   "id": "0f888f79",
   "metadata": {},
   "outputs": [],
   "source": [
    "# TODO: refactor me\n",
    "def piecewise_to_maca(term:Piecewise, pretty=False):\n",
    "    \"\"\"Return Mathematica code for Piecewise objects.\n",
    "    \n",
    "    mathematica_code(term) cannot handle Piecewise objects.\n",
    "    \"\"\"\n",
    "    pieces = []\n",
    "\n",
    "    def to_maca(term):\n",
    "        return mathematica_code(term)\n",
    "\n",
    "    for term, condition in term.args:\n",
    "        pieces.append(\n",
    "            \"{\" + to_maca(term) + \",\" + to_maca(condition) + \"}\"\n",
    "        )\n",
    "    \n",
    "    if not pretty:\n",
    "        args = \",\".join(pieces)\n",
    "    else:\n",
    "        args = \",\\n\".join(pieces)\n",
    "        args = \"\\n\" + args + \"\\n\"\n",
    "        \n",
    "    return \"Piecewise[{\"+args+\"}]\""
   ]
  },
  {
   "cell_type": "code",
   "execution_count": null,
   "id": "59630c78",
   "metadata": {},
   "outputs": [],
   "source": [
    "from sympy.parsing.mathematica import parse_mathematica\n",
    "\n",
    "def from_maca(string, free_symbols):\n",
    "    term = parse_mathematica(string)\n",
    "    term = term.replace(Function(\"Abs\"), abs)\n",
    "    # symbols don't get matched automatically\n",
    "    for s in free_symbols:\n",
    "        term = term.replace(symbols(str(s)),s)\n",
    "    return term\n",
    "\n",
    "string = \"\"\"\n",
    "(1/(4 p^2))((Sqrt[(o0 + o1 - p) (o0 - o1 + p) (-o0 + o1 + p) (o0 + \n",
    "       o1 + p)] - \n",
    "    Sqrt[(p + q0 - q1) (p - q0 + q1) (-p + q0 + q1) (p + q0 + \n",
    "       q1)])^2 + (Abs[o0^2 - o1^2 + p^2] - Abs[p^2 + q0^2 - q1^2])^2)\n",
    "\"\"\"\n",
    "free_symbols = [p,q0, q1, o0, o1]\n",
    "mdist = from_maca(string, free_symbols)\n",
    "\n",
    "mdist"
   ]
  },
  {
   "cell_type": "code",
   "execution_count": null,
   "id": "50015228abfe3f66",
   "metadata": {
    "ExecuteTime": {
     "end_time": "2024-06-21T08:02:04.994500Z",
     "start_time": "2024-06-21T08:02:04.924265Z"
    }
   },
   "outputs": [],
   "source": []
  },
  {
   "cell_type": "code",
   "execution_count": null,
   "id": "65e72db155a35063",
   "metadata": {
    "ExecuteTime": {
     "end_time": "2024-06-21T08:02:05.213149Z",
     "start_time": "2024-06-21T08:02:05.123383Z"
    }
   },
   "outputs": [],
   "source": []
  },
  {
   "cell_type": "code",
   "execution_count": null,
   "id": "d4a15385",
   "metadata": {},
   "outputs": [],
   "source": []
  },
  {
   "cell_type": "code",
   "execution_count": 135,
   "id": "91ca7b51da76afc",
   "metadata": {
    "ExecuteTime": {
     "end_time": "2024-06-21T08:02:25.622350Z",
     "start_time": "2024-06-21T08:02:25.590914Z"
    }
   },
   "outputs": [],
   "source": [
    "#connor_diff = lambdify([p,q0, q1, o0, o1], lb - dist, \"numpy\")\n",
    "tetrahedron_lb = lambdify([p,q0, q1, o0, o1], sqrt(lb2), \"numpy\")\n",
    "tetrahedron_ub = lambdify([p,q0, q1, o0, o1], sqrt(ub2), \"numpy\")\n",
    "\n",
    "def ptolemy_lb(p, q0, q1, o0, o1):\n",
    "    diff = np.abs(q0 * o1 - q1 * o0)\n",
    "    return diff / p\n",
    "\n",
    "def ptolemy_ub(p, q0, q1, o0, o1):\n",
    "    diff = np.abs(q0 * o1 + q1 * o0)\n",
    "    return diff / p"
   ]
  },
  {
   "cell_type": "code",
   "execution_count": 136,
   "id": "13dd010cdf03803f",
   "metadata": {
    "ExecuteTime": {
     "end_time": "2024-06-21T08:02:28.762451Z",
     "start_time": "2024-06-21T08:02:28.750105Z"
    }
   },
   "outputs": [],
   "source": [
    "from tqdm import tqdm\n",
    "\n",
    "def _stable_tetrahedron_lb(p_n, q0_n, q1_n, o0_n, o1_n):\n",
    "    for i in tqdm(range(len(p_n))):\n",
    "        yield dist.subs({\n",
    "            p:p_n[i],\n",
    "            q0:q0_n[i],\n",
    "            q1:q1_n[i],\n",
    "            o0:o0_n[i],\n",
    "            o1:o1_n[i],\n",
    "        }).evalf()\n",
    "\n",
    "def stable_tetrahedron_lb(p_n, q0_n, q1_n, o0_n, o1_n):\n",
    "    return np.asarray(list(_stable_tetrahedron_lb(p_n, q0_n, q1_n, o0_n, o1_n)), dtype=float)"
   ]
  },
  {
   "cell_type": "code",
   "execution_count": 211,
   "id": "727cf0e718b6b726",
   "metadata": {
    "ExecuteTime": {
     "end_time": "2024-06-21T08:10:00.367109Z",
     "start_time": "2024-06-21T08:10:00.159525Z"
    }
   },
   "outputs": [
    {
     "data": {
      "image/png": "[encoded data removed]",
      "text/plain": [
       "<Figure size 640x480 with 1 Axes>"
      ]
     },
     "metadata": {},
     "output_type": "display_data"
    }
   ],
   "source": [
    "# simulate triangles\n",
    "import numpy as np\n",
    "import matplotlib.pyplot as plt\n",
    "from scipy import spatial\n",
    "rng = np.random.default_rng()\n",
    "\n",
    "dist_func = lambda x,y: spatial.minkowski_distance(x,y,2)\n",
    "n_samples= 100000\n",
    "dim = 200\n",
    "points = rng.integers(-37,38, size=[n_samples, 4, dim])\n",
    "p0,p1,q,o = 0,1,2,3\n",
    "dists_p = dist_func(points[:,p0,:], points[:,p1,:])\n",
    "dists_q0 = dist_func(points[:,p0,:], points[:,q,:])\n",
    "dists_q1 = dist_func(points[:,p1,:], points[:,q,:])\n",
    "dists_o0 = dist_func(points[:,p0,:], points[:,o,:])\n",
    "dists_o1 = dist_func(points[:,p1,:], points[:,o,:])\n",
    "dists_target = dist_func(points[:,q,:], points[:,o,:])\n",
    "\n",
    "args = np.vstack((dists_p, dists_q0, dists_q1, dists_o0, dists_o1))\n",
    "tet_lb = tetrahedron_lb(*args)\n",
    "tet_ub = tetrahedron_ub(*args)\n",
    "pto_lb = ptolemy_lb(*args)\n",
    "pto_ub = ptolemy_ub(*args)\n",
    "\n",
    "bins = 100\n",
    "plt.hist(dists_target,  bins=bins, label=\"actual\")\n",
    "plt.hist(tet_lb, bins=bins, histtype=\"step\", label=\"tetrahedron lb\")\n",
    "plt.hist(tet_ub, bins=bins, histtype=\"step\", label=\"tetrahedron ub\")\n",
    "plt.hist(pto_lb, bins=bins, histtype=\"step\", label=\"Ptolemy LB\")\n",
    "plt.hist(pto_ub, bins=bins, histtype=\"step\", label=\"Ptolemy UB\")\n",
    "\n",
    "plt.title(\"differences between lower bound functions\")\n",
    "plt.xlabel(\"distance\")\n",
    "plt.ylabel(\"freq\")\n",
    "plt.legend()\n",
    "plt.show()"
   ]
  },
  {
   "cell_type": "code",
   "execution_count": 212,
   "id": "5338ae20",
   "metadata": {},
   "outputs": [],
   "source": [
    "from uncertainties import ufloat"
   ]
  },
  {
   "cell_type": "code",
   "execution_count": 213,
   "id": "150a65a4",
   "metadata": {},
   "outputs": [],
   "source": [
    "def compare_estimator(estimator):\n",
    "    plt.subplot(2,1,1)\n",
    "    plt.hist(estimator, bins=100, label=\"estimation\");\n",
    "    plt.hist(dists_target, bins=100, histtype=\"step\", label=\"actual\");\n",
    "    plt.xlabel(\"distance\")\n",
    "    plt.legend()\n",
    "    plt.subplot(2,1,2)\n",
    "    error = estimator - dists_target\n",
    "    plt.hist(error, bins=100);\n",
    "    plt.xlabel(\"error\")\n",
    "    plt.tight_layout()\n",
    "    \n",
    "    print(\"Error:\",ufloat(error.mean(), error.std()))\n",
    "    print(\"Relative Error:\",error.std()/dists_target.mean())"
   ]
  },
  {
   "cell_type": "code",
   "execution_count": 215,
   "id": "e7cd8511",
   "metadata": {},
   "outputs": [
    {
     "name": "stdout",
     "output_type": "stream",
     "text": [
      "Error: -0+/-20\n",
      "Relative Error: 0.0472127797732371\n"
     ]
    },
    {
     "data": {
      "image/png": "[encoded data removed]",
      "text/plain": [
       "<Figure size 640x480 with 2 Axes>"
      ]
     },
     "metadata": {},
     "output_type": "display_data"
    }
   ],
   "source": [
    "estimator = (tet_lb + tet_ub)/2+42\n",
    "\n",
    "compare_estimator(estimator)"
   ]
  },
  {
   "cell_type": "code",
   "execution_count": 190,
   "id": "e3be7800",
   "metadata": {},
   "outputs": [
    {
     "name": "stdout",
     "output_type": "stream",
     "text": [
      "Error: 13+/-28\n"
     ]
    },
    {
     "data": {
      "image/png": "[encoded data removed]",
      "text/plain": [
       "<Figure size 640x480 with 2 Axes>"
      ]
     },
     "metadata": {},
     "output_type": "display_data"
    }
   ],
   "source": [
    "estimator = (pto_lb + pto_ub)/2\n",
    "compare_estimator(estimator)"
   ]
  },
  {
   "cell_type": "code",
   "execution_count": 193,
   "id": "a5614256",
   "metadata": {},
   "outputs": [
    {
     "name": "stdout",
     "output_type": "stream",
     "text": [
      "Error: 0+/-23\n"
     ]
    },
    {
     "data": {
      "image/png": "[encoded data removed]",
      "text/plain": [
       "<Figure size 640x480 with 2 Axes>"
      ]
     },
     "metadata": {},
     "output_type": "display_data"
    }
   ],
   "source": [
    "estimator = (tet_lb + tet_ub + pto_lb + pto_ub)/4 +4\n",
    "compare_estimator(estimator)"
   ]
  },
  {
   "cell_type": "code",
   "execution_count": null,
   "id": "df530304",
   "metadata": {},
   "outputs": [],
   "source": []
  },
  {
   "cell_type": "code",
   "execution_count": 127,
   "id": "aaaac486",
   "metadata": {},
   "outputs": [
    {
     "data": {
      "text/plain": [
       "Text(0, 0.5, 'counts')"
      ]
     },
     "execution_count": 127,
     "metadata": {},
     "output_type": "execute_result"
    },
    {
     "data": {
      "image/png": "[encoded data removed]",
      "text/plain": [
       "<Figure size 640x480 with 1 Axes>"
      ]
     },
     "metadata": {},
     "output_type": "display_data"
    }
   ],
   "source": [
    "plt.hist(dists_target - tet_lb, bins=100);\n",
    "plt.xlabel(\"real distance - lower bound\")\n",
    "plt.ylabel(\"counts\")"
   ]
  },
  {
   "cell_type": "code",
   "execution_count": 119,
   "id": "28c9df78",
   "metadata": {},
   "outputs": [],
   "source": [
    "def plt_circle(center, radius):\n",
    "    circle = plt.Circle(center, radius, edgecolor='blue', facecolor='none')\n",
    "    plt.gca().add_patch(circle)"
   ]
  },
  {
   "cell_type": "code",
   "execution_count": 125,
   "id": "ec381c7c",
   "metadata": {},
   "outputs": [
    {
     "data": {
      "text/plain": [
       "<matplotlib.legend.Legend at 0x7eca9c3fb050>"
      ]
     },
     "execution_count": 125,
     "metadata": {},
     "output_type": "execute_result"
    },
    {
     "data": {
      "image/png": "[encoded data removed]",
      "text/plain": [
       "<Figure size 640x480 with 1 Axes>"
      ]
     },
     "metadata": {},
     "output_type": "display_data"
    }
   ],
   "source": [
    "worst = (dists_target - tet_lb) > 20\n",
    "worst_offenders = points[worst]\n",
    "\n",
    "p1,p2,o,q = worst_offenders[0]\n",
    "\n",
    "\n",
    "plt.plot(*p1, \"o\", label=\"pivot 0\")\n",
    "plt.plot(*p2, \"o\", label=\"pivot 1\")\n",
    "plt.plot(*o, \"x\", label=\"object\")\n",
    "plt.plot(*q, \"+\", label=\"query\")\n",
    "\n",
    "plt.legend()"
   ]
  },
  {
   "cell_type": "code",
   "execution_count": 111,
   "id": "a74dae54",
   "metadata": {},
   "outputs": [
    {
     "data": {
      "text/plain": [
       "array([[-19,  24],\n",
       "       [-34,  12],\n",
       "       [-16, -30],\n",
       "       [ 23, -17]])"
      ]
     },
     "execution_count": 111,
     "metadata": {},
     "output_type": "execute_result"
    }
   ],
   "source": [
    "worst_offenders[0]"
   ]
  },
  {
   "cell_type": "code",
   "execution_count": 99,
   "id": "ea0eec4a",
   "metadata": {},
   "outputs": [
    {
     "data": {
      "text/plain": [
       "Text(0, 0.5, 'counts')"
      ]
     },
     "execution_count": 99,
     "metadata": {},
     "output_type": "execute_result"
    },
    {
     "data": {
      "image/png": "[encoded data removed]",
      "text/plain": [
       "<Figure size 640x480 with 1 Axes>"
      ]
     },
     "metadata": {},
     "output_type": "display_data"
    }
   ],
   "source": [
    "plt.hist(-dists_target + tet_ub, bins=100);\n",
    "plt.xlabel(\"upper bound - real distance\")\n",
    "plt.ylabel(\"counts\")"
   ]
  },
  {
   "cell_type": "code",
   "execution_count": 87,
   "id": "164c40bb",
   "metadata": {},
   "outputs": [
    {
     "data": {
      "text/latex": [
       "$\\displaystyle 0.14445$"
      ],
      "text/plain": [
       "np.float64(0.14445)"
      ]
     },
     "execution_count": 87,
     "metadata": {},
     "output_type": "execute_result"
    }
   ],
   "source": [
    "violations = (dists_target - tet_lb) / dists_target < -0.01\n",
    "sum(violations) / len(tet_lb)"
   ]
  },
  {
   "cell_type": "code",
   "execution_count": 31,
   "id": "e502386d680a9270",
   "metadata": {
    "ExecuteTime": {
     "end_time": "2024-06-21T08:10:01.335549Z",
     "start_time": "2024-06-21T08:10:01.330931Z"
    }
   },
   "outputs": [
    {
     "data": {
      "text/latex": [
       "$\\displaystyle \\left( 0.11566, \\  0.07082\\right)$"
      ],
      "text/plain": [
       "(0.11566, 0.07082)"
      ]
     },
     "execution_count": 31,
     "metadata": {},
     "output_type": "execute_result"
    }
   ],
   "source": [
    "def violations(lb):\n",
    "    return (dists_target < lb).sum() / len(dists_target)\n",
    "violations_tet = violations(tet_lb)\n",
    "violations_pto = violations(pto_n)\n",
    "violations_tet, violations_pto"
   ]
  },
  {
   "cell_type": "code",
   "execution_count": null,
   "id": "793b64f9a0d8ac8",
   "metadata": {
    "ExecuteTime": {
     "end_time": "2024-06-21T08:07:51.536414Z",
     "start_time": "2024-06-21T08:07:51.424206Z"
    }
   },
   "outputs": [],
   "source": [
    "plt.hist(pto_n - tet_lb, bins=100);"
   ]
  },
  {
   "cell_type": "code",
   "execution_count": null,
   "id": "466e0b22594256cc",
   "metadata": {
    "ExecuteTime": {
     "end_time": "2024-06-21T08:07:53.544777Z",
     "start_time": "2024-06-21T08:07:53.459272Z"
    }
   },
   "outputs": [],
   "source": [
    "plt.hist(dists_target - tet_lb, histtype=\"step\", bins=100);\n",
    "#plt.hist(tet_ub - dists_target, histtype=\"step\");"
   ]
  },
  {
   "cell_type": "code",
   "execution_count": null,
   "id": "900f94a90925e8aa",
   "metadata": {
    "ExecuteTime": {
     "end_time": "2024-04-15T07:22:04.568722Z",
     "start_time": "2024-04-15T07:22:04.436088Z"
    }
   },
   "outputs": [],
   "source": [
    "problems = np.abs(dists_target - my_lb_n) > 0.01\n",
    "ppoints = points[problems,:,:]\n",
    "\n",
    "plt.plot(*ppoints[0][:2].T)\n",
    "for p in ppoints[0]:\n",
    "    plt.plot(*p, \"o\")\n",
    "    \n",
    "plt.show()"
   ]
  },
  {
   "cell_type": "code",
   "execution_count": null,
   "id": "4965d5c3c2e6f420",
   "metadata": {},
   "outputs": [],
   "source": []
  }
 ],
 "metadata": {
  "kernelspec": {
   "display_name": "Python 3 (ipykernel)",
   "language": "python",
   "name": "python3"
  },
  "language_info": {
   "codemirror_mode": {
    "name": "ipython",
    "version": 3
   },
   "file_extension": ".py",
   "mimetype": "text/x-python",
   "name": "python",
   "nbconvert_exporter": "python",
   "pygments_lexer": "ipython3",
   "version": "3.12.4"
  }
 },
 "nbformat": 4,
 "nbformat_minor": 5
}
