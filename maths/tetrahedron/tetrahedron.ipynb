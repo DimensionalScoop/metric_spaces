{
 "cells": [
  {
   "cell_type": "code",
   "execution_count": 77,
   "id": "initial_id",
   "metadata": {
    "ExecuteTime": {
     "end_time": "2024-06-21T07:12:35.389955Z",
     "start_time": "2024-06-21T07:12:35.382762Z"
    }
   },
   "outputs": [
    {
     "data": {
      "text/plain": [
       "'Some important Ptolemaic metric spaces are 4-embeddable into R^3.\\nConnor mentions a tetrahedron lower bound: When all but one distances\\nbetween four points are known, the last one can be lower bounded as the\\nshortest side of a tetrahedron. This would be a degenerate tetrahedron,\\nwith the two known triangles sharing one side and lying in the same plane.\\n'"
      ]
     },
     "execution_count": 77,
     "metadata": {},
     "output_type": "execute_result"
    }
   ],
   "source": [
    "import scipy.spatial.distance\n",
    "\n",
    "\"\"\"Some important Ptolemaic metric spaces are 4-embeddable into R^3.\n",
    "Connor mentions a tetrahedron lower bound: When all but one distances\n",
    "between four points are known, the last one can be lower bounded as the\n",
    "shortest side of a tetrahedron. This would be a degenerate tetrahedron,\n",
    "with the two known triangles sharing one side and lying in the same plane.\n",
    "\"\"\""
   ]
  },
  {
   "cell_type": "code",
   "execution_count": 78,
   "id": "720e49f562f57972",
   "metadata": {
    "ExecuteTime": {
     "end_time": "2024-06-21T07:12:52.160600Z",
     "start_time": "2024-06-21T07:12:52.154982Z"
    }
   },
   "outputs": [
    {
     "data": {
      "text/latex": [
       "$\\displaystyle \\left( \\sqrt{s} \\sqrt{\\left(- a + s\\right) \\left(- b + s\\right) \\left(- c + s\\right)}, \\  \\left\\{ s : \\frac{a}{2} + \\frac{b}{2} + \\frac{c}{2}\\right\\}\\right)$"
      ],
      "text/plain": [
       "⎛     ____________________________  ⎧   a   b   c⎫⎞\n",
       "⎜√s⋅╲╱ (-a + s)⋅(-b + s)⋅(-c + s) , ⎨s: ─ + ─ + ─⎬⎟\n",
       "⎝                                   ⎩   2   2   2⎭⎠"
      ]
     },
     "execution_count": 78,
     "metadata": {},
     "output_type": "execute_result"
    }
   ],
   "source": [
    "import numpy as np\n",
    "from sympy import *\n",
    "#from algebra_with_sympy import *\n",
    "\n",
    "init_printing(use_latex='mathjax')\n",
    "\n",
    "dist_prop = dict(real=True, positive=True)\n",
    "# generic symbols\n",
    "A, s, a, b, c, h = symbols(\"A s a b c h\", **dist_prop)\n",
    "\n",
    "# Heron\n",
    "semiperimeter = {s: (a + b + c) / 2}\n",
    "area = sqrt(s * (s - a) * (s - b) * (s - c))\n",
    "\n",
    "height_over_a = 2 / a * area.subs(semiperimeter)\n",
    "\n",
    "area, semiperimeter"
   ]
  },
  {
   "cell_type": "markdown",
   "id": "5a1dddb385ed4598",
   "metadata": {},
   "source": [
    "![](img.png)"
   ]
  },
  {
   "cell_type": "code",
   "execution_count": 79,
   "id": "9076f83df920d5c9",
   "metadata": {
    "ExecuteTime": {
     "end_time": "2024-06-21T07:45:17.105574Z",
     "start_time": "2024-06-21T07:45:17.031503Z"
    }
   },
   "outputs": [
    {
     "data": {
      "text/latex": [
       "$\\displaystyle \\frac{\\sqrt{- \\left(p - q_{0} - q_{1}\\right) \\left(p - q_{0} + q_{1}\\right) \\left(p + q_{0} - q_{1}\\right)} \\sqrt{p + q_{0} + q_{1}}}{2 p}$"
      ],
      "text/plain": [
       "  ____________________________________________   _____________\n",
       "╲╱ -(p - q₀ - q₁)⋅(p - q₀ + q₁)⋅(p + q₀ - q₁) ⋅╲╱ p + q₀ + q₁ \n",
       "──────────────────────────────────────────────────────────────\n",
       "                             2⋅p                              "
      ]
     },
     "execution_count": 79,
     "metadata": {},
     "output_type": "execute_result"
    }
   ],
   "source": [
    "# we have two pivots, a query (center) and an object\n",
    "# we want to lower bound d(q,o)\n",
    "# we know all other distances\n",
    "\n",
    "# the two resulting triangles have a shared base p0-p1 of length p\n",
    "p = symbols(\"p\", **dist_prop)\n",
    "\n",
    "# the query triangle has these other sides:\n",
    "q0, q1 = symbols(\"q:2\", **dist_prop)\n",
    "\n",
    "# dito for the object triangle\n",
    "o0, o1 = symbols(\"o:2\", **dist_prop)\n",
    "\n",
    "# these triangles have heights that we can infer via Heron\n",
    "hq = height_over_a.subs({\n",
    "    a: p, b: q0, c: q1\n",
    "})\n",
    "ho = height_over_a.subs({\n",
    "    a: p, b: o0, c: o1\n",
    "})\n",
    "\n",
    "def simplify_height(h):\n",
    "    h = simplify(h)\n",
    "    h = h.subs(h.args[2],\n",
    "                   (h.args[2]).factor()\n",
    "               )\n",
    "    return h\n",
    "\n",
    "# both formulas are the same!\n",
    "assert simplify(ho.subs({o1:q1,o0:q0}) == hq)\n",
    "\n",
    "hq = simplify_height(hq)\n",
    "ho = simplify_height(ho)\n",
    "hq"
   ]
  },
  {
   "cell_type": "code",
   "execution_count": 80,
   "id": "e60ce441650bf0c1",
   "metadata": {
    "ExecuteTime": {
     "end_time": "2024-06-21T07:45:26.995738Z",
     "start_time": "2024-06-21T07:45:26.976011Z"
    }
   },
   "outputs": [
    {
     "data": {
      "text/latex": [
       "$\\displaystyle \\left( \\sqrt{q_{0}^{2} + \\frac{\\left(p - q_{0} - q_{1}\\right) \\left(p - q_{0} + q_{1}\\right) \\left(p + q_{0} - q_{1}\\right) \\left(p + q_{0} + q_{1}\\right)}{4 p^{2}}}, \\  \\sqrt{o_{0}^{2} + \\frac{\\left(- o_{0} - o_{1} + p\\right) \\left(- o_{0} + o_{1} + p\\right) \\left(o_{0} - o_{1} + p\\right) \\left(o_{0} + o_{1} + p\\right)}{4 p^{2}}}\\right)$"
      ],
      "text/plain": [
       "⎛     _______________________________________________________________       _________________________________________________________________⎞\n",
       "⎜    ╱   2   (p - q₀ - q₁)⋅(p - q₀ + q₁)⋅(p + q₀ - q₁)⋅(p + q₀ + q₁)       ╱   2   (-o₀ - o₁ + p)⋅(-o₀ + o₁ + p)⋅(o₀ - o₁ + p)⋅(o₀ + o₁ + p) ⎟\n",
       "⎜   ╱  q₀  + ─────────────────────────────────────────────────────── ,    ╱  o₀  + ───────────────────────────────────────────────────────── ⎟\n",
       "⎜  ╱                                      2                              ╱                                       2                           ⎟\n",
       "⎝╲╱                                    4⋅p                             ╲╱                                     4⋅p                            ⎠"
      ]
     },
     "execution_count": 80,
     "metadata": {},
     "output_type": "execute_result"
    }
   ],
   "source": [
    "# the height \"bisects\" the shared base at these lengths,\n",
    "# measured from one of the two possible vertices:\n",
    "mq0 = sqrt(q0**2 - hq**2)\n",
    "mo0 = sqrt(o0**2 - ho**2)\n",
    "\n",
    "mq1 = sqrt(q1**2 - hq**2)\n",
    "mo1 = sqrt(o1**2 - ho**2)\n",
    "\n",
    "mq0, mo0"
   ]
  },
  {
   "cell_type": "code",
   "execution_count": 81,
   "id": "f73699fb3c7543f1",
   "metadata": {
    "ExecuteTime": {
     "end_time": "2024-06-21T07:53:14.404209Z",
     "start_time": "2024-06-21T07:53:14.395593Z"
    }
   },
   "outputs": [
    {
     "data": {
      "text/latex": [
       "$\\displaystyle \\begin{cases} - \\sqrt{o_{0}^{2} + \\frac{\\left(- o_{0} - o_{1} + p\\right) \\left(- o_{0} + o_{1} + p\\right) \\left(o_{0} - o_{1} + p\\right) \\left(o_{0} + o_{1} + p\\right)}{4 p^{2}}} & \\text{for}\\: o_{1}^{2} > o_{0}^{2} + p^{2} \\\\\\sqrt{o_{0}^{2} + \\frac{\\left(- o_{0} - o_{1} + p\\right) \\left(- o_{0} + o_{1} + p\\right) \\left(o_{0} - o_{1} + p\\right) \\left(o_{0} + o_{1} + p\\right)}{4 p^{2}}} & \\text{otherwise} \\end{cases}$"
      ],
      "text/plain": [
       "⎧      _________________________________________________________________                    \n",
       "⎪     ╱   2   (-o₀ - o₁ + p)⋅(-o₀ + o₁ + p)⋅(o₀ - o₁ + p)⋅(o₀ + o₁ + p)         2     2    2\n",
       "⎪-   ╱  o₀  + ─────────────────────────────────────────────────────────   for o₁  > o₀  + p \n",
       "⎪   ╱                                       2                                               \n",
       "⎪ ╲╱                                     4⋅p                                                \n",
       "⎨                                                                                           \n",
       "⎪     _________________________________________________________________                     \n",
       "⎪    ╱   2   (-o₀ - o₁ + p)⋅(-o₀ + o₁ + p)⋅(o₀ - o₁ + p)⋅(o₀ + o₁ + p)                      \n",
       "⎪   ╱  o₀  + ─────────────────────────────────────────────────────────        otherwise     \n",
       "⎪  ╱                                       2                                                \n",
       "⎩╲╱                                     4⋅p                                                 "
      ]
     },
     "execution_count": 81,
     "metadata": {},
     "output_type": "execute_result"
    }
   ],
   "source": [
    "# We know the height of the triangle w.r.t. q.\n",
    "# Let's figure out the \"width\" or the \"x-position\" of the point q.\n",
    "\n",
    "# Let q0 be on the left and q1 be on the right.\n",
    "# If the triangle is acute:\n",
    "m_ac = mq0\n",
    "\n",
    "# If the triangle is obtuse, we have two cases:\n",
    "# One where the point is to the left:\n",
    "mob_left = -mq0\n",
    "# And one where the point is to the right:\n",
    "mob_right = mq0 # which is identical to m_ac\n",
    "\n",
    "# left obtuse means that q1 has to be the longest side and\n",
    "# that q1**2 > p**2 + q1**2\n",
    "mq = Piecewise(\n",
    "    (mob_left,  q1**2 > p**2 + q0**2), # And(And(q1 > p, q1 > q0) ,\n",
    "    (m_ac, True)\n",
    ")\n",
    "\n",
    "mo = mq.subs({mq0:mo0, q0:o0, q1:o1})\n",
    "mo"
   ]
  },
  {
   "cell_type": "code",
   "execution_count": 168,
   "id": "578175c2",
   "metadata": {},
   "outputs": [
    {
     "name": "stdout",
     "output_type": "stream",
     "text": [
      "o0 = Symbol('o0')\n",
      "o1 = Symbol('o1')\n",
      "p = Symbol('p')\n",
      "e = (o0**2 - o1**2 + p**2)/(2*p)\n"
     ]
    }
   ],
   "source": [
    "print_python(from_maca(\"(p^2 + o0^2 - o1^2)/(2 p)\", free_symbols))"
   ]
  },
  {
   "cell_type": "code",
   "execution_count": 141,
   "id": "fe710660f1ea9725",
   "metadata": {
    "ExecuteTime": {
     "end_time": "2024-06-21T08:01:22.859593Z",
     "start_time": "2024-06-21T08:01:22.116293Z"
    }
   },
   "outputs": [
    {
     "data": {
      "text/latex": [
       "$\\displaystyle \\begin{cases} \\frac{\\sqrt{\\left(\\sqrt{\\left(- o_{0} + o_{1} + p\\right) \\left(o_{0} - o_{1} + p\\right) \\left(o_{0} + o_{1} - p\\right)} \\sqrt{o_{0} + o_{1} + p} - \\sqrt{\\left(- p + q_{0} + q_{1}\\right) \\left(p - q_{0} + q_{1}\\right) \\left(p + q_{0} - q_{1}\\right)} \\sqrt{p + q_{0} + q_{1}}\\right)^{2} + \\left(\\sqrt{4 o_{0}^{2} p^{2} - \\left(- o_{0} + o_{1} + p\\right) \\left(o_{0} - o_{1} + p\\right) \\left(o_{0} + o_{1} - p\\right) \\left(o_{0} + o_{1} + p\\right)} - \\sqrt{4 p^{2} q_{0}^{2} - \\left(- p + q_{0} + q_{1}\\right) \\left(p - q_{0} + q_{1}\\right) \\left(p + q_{0} - q_{1}\\right) \\left(p + q_{0} + q_{1}\\right)}\\right)^{2}}}{2 p} & \\text{for}\\: o_{1}^{2} > o_{0}^{2} + p^{2} \\wedge q_{1}^{2} > p^{2} + q_{0}^{2} \\\\\\frac{\\sqrt{\\left(\\sqrt{\\left(- o_{0} + o_{1} + p\\right) \\left(o_{0} - o_{1} + p\\right) \\left(o_{0} + o_{1} - p\\right)} \\sqrt{o_{0} + o_{1} + p} - \\sqrt{\\left(- p + q_{0} + q_{1}\\right) \\left(p - q_{0} + q_{1}\\right) \\left(p + q_{0} - q_{1}\\right)} \\sqrt{p + q_{0} + q_{1}}\\right)^{2} + \\left(\\sqrt{4 o_{0}^{2} p^{2} - \\left(- o_{0} + o_{1} + p\\right) \\left(o_{0} - o_{1} + p\\right) \\left(o_{0} + o_{1} - p\\right) \\left(o_{0} + o_{1} + p\\right)} + \\sqrt{4 p^{2} q_{0}^{2} - \\left(- p + q_{0} + q_{1}\\right) \\left(p - q_{0} + q_{1}\\right) \\left(p + q_{0} - q_{1}\\right) \\left(p + q_{0} + q_{1}\\right)}\\right)^{2}}}{2 p} & \\text{for}\\: o_{1}^{2} > o_{0}^{2} + p^{2} \\vee q_{1}^{2} > p^{2} + q_{0}^{2} \\\\\\frac{\\sqrt{\\left(\\sqrt{\\left(- o_{0} + o_{1} + p\\right) \\left(o_{0} - o_{1} + p\\right) \\left(o_{0} + o_{1} - p\\right)} \\sqrt{o_{0} + o_{1} + p} - \\sqrt{\\left(- p + q_{0} + q_{1}\\right) \\left(p - q_{0} + q_{1}\\right) \\left(p + q_{0} - q_{1}\\right)} \\sqrt{p + q_{0} + q_{1}}\\right)^{2} + \\left(\\sqrt{4 o_{0}^{2} p^{2} - \\left(- o_{0} + o_{1} + p\\right) \\left(o_{0} - o_{1} + p\\right) \\left(o_{0} + o_{1} - p\\right) \\left(o_{0} + o_{1} + p\\right)} - \\sqrt{4 p^{2} q_{0}^{2} - \\left(- p + q_{0} + q_{1}\\right) \\left(p - q_{0} + q_{1}\\right) \\left(p + q_{0} - q_{1}\\right) \\left(p + q_{0} + q_{1}\\right)}\\right)^{2}}}{2 p} & \\text{otherwise} \\end{cases}$"
      ],
      "text/plain": [
       "⎧     ___________________________________________________________________________________________________________________________________________________________________________________________________________\n",
       "⎪    ╱                                                                                                                                                                                                           \n",
       "⎪   ╱                                                                                                                                   2   ⎛   _________________________________________________________________\n",
       "⎪  ╱   ⎛  ____________________________________________   _____________     ____________________________________________   _____________⎞    ⎜  ╱     2  2                                                        \n",
       "⎪╲╱    ⎝╲╱ (-o₀ + o₁ + p)⋅(o₀ - o₁ + p)⋅(o₀ + o₁ - p) ⋅╲╱ o₀ + o₁ + p  - ╲╱ (-p + q₀ + q₁)⋅(p - q₀ + q₁)⋅(p + q₀ - q₁) ⋅╲╱ p + q₀ + q₁ ⎠  + ⎝╲╱  4⋅o₀ ⋅p  - (-o₀ + o₁ + p)⋅(o₀ - o₁ + p)⋅(o₀ + o₁ - p)⋅(o₀ + o₁ +\n",
       "⎪────────────────────────────────────────────────────────────────────────────────────────────────────────────────────────────────────────────────────────────────────────────────────────────────────────────────\n",
       "⎪                                                                                                                                               2⋅p                                                              \n",
       "⎪                                                                                                                                                                                                                \n",
       "⎪     ___________________________________________________________________________________________________________________________________________________________________________________________________________\n",
       "⎪    ╱                                                                                                                                                                                                           \n",
       "⎪   ╱                                                                                                                                   2   ⎛   _________________________________________________________________\n",
       "⎨  ╱   ⎛  ____________________________________________   _____________     ____________________________________________   _____________⎞    ⎜  ╱     2  2                                                        \n",
       "⎪╲╱    ⎝╲╱ (-o₀ + o₁ + p)⋅(o₀ - o₁ + p)⋅(o₀ + o₁ - p) ⋅╲╱ o₀ + o₁ + p  - ╲╱ (-p + q₀ + q₁)⋅(p - q₀ + q₁)⋅(p + q₀ - q₁) ⋅╲╱ p + q₀ + q₁ ⎠  + ⎝╲╱  4⋅o₀ ⋅p  - (-o₀ + o₁ + p)⋅(o₀ - o₁ + p)⋅(o₀ + o₁ - p)⋅(o₀ + o₁ +\n",
       "⎪────────────────────────────────────────────────────────────────────────────────────────────────────────────────────────────────────────────────────────────────────────────────────────────────────────────────\n",
       "⎪                                                                                                                                               2⋅p                                                              \n",
       "⎪                                                                                                                                                                                                                \n",
       "⎪     ___________________________________________________________________________________________________________________________________________________________________________________________________________\n",
       "⎪    ╱                                                                                                                                                                                                           \n",
       "⎪   ╱                                                                                                                                   2   ⎛   _________________________________________________________________\n",
       "⎪  ╱   ⎛  ____________________________________________   _____________     ____________________________________________   _____________⎞    ⎜  ╱     2  2                                                        \n",
       "⎪╲╱    ⎝╲╱ (-o₀ + o₁ + p)⋅(o₀ - o₁ + p)⋅(o₀ + o₁ - p) ⋅╲╱ o₀ + o₁ + p  - ╲╱ (-p + q₀ + q₁)⋅(p - q₀ + q₁)⋅(p + q₀ - q₁) ⋅╲╱ p + q₀ + q₁ ⎠  + ⎝╲╱  4⋅o₀ ⋅p  - (-o₀ + o₁ + p)⋅(o₀ - o₁ + p)⋅(o₀ + o₁ - p)⋅(o₀ + o₁ +\n",
       "⎪────────────────────────────────────────────────────────────────────────────────────────────────────────────────────────────────────────────────────────────────────────────────────────────────────────────────\n",
       "⎩                                                                                                                                               2⋅p                                                              \n",
       "\n",
       "__________________________________________________________________________________                                     \n",
       "                                                                                2                                      \n",
       "____      _____________________________________________________________________⎞                                       \n",
       "         ╱    2   2                                                            ⎟                                       \n",
       " p)  - ╲╱  4⋅p ⋅q₀  - (-p + q₀ + q₁)⋅(p - q₀ + q₁)⋅(p + q₀ - q₁)⋅(p + q₀ + q₁) ⎠          2     2    2     2    2     2\n",
       "──────────────────────────────────────────────────────────────────────────────────  for o₁  > o₀  + p  ∧ q₁  > p  + q₀ \n",
       "                                                                                                                       \n",
       "                                                                                                                       \n",
       "__________________________________________________________________________________                                     \n",
       "                                                                                2                                      \n",
       "____      _____________________________________________________________________⎞                                       \n",
       "         ╱    2   2                                                            ⎟                                       \n",
       " p)  + ╲╱  4⋅p ⋅q₀  - (-p + q₀ + q₁)⋅(p - q₀ + q₁)⋅(p + q₀ - q₁)⋅(p + q₀ + q₁) ⎠          2     2    2     2    2     2\n",
       "──────────────────────────────────────────────────────────────────────────────────  for o₁  > o₀  + p  ∨ q₁  > p  + q₀ \n",
       "                                                                                                                       \n",
       "                                                                                                                       \n",
       "__________________________________________________________________________________                                     \n",
       "                                                                                2                                      \n",
       "____      _____________________________________________________________________⎞                                       \n",
       "         ╱    2   2                                                            ⎟                                       \n",
       " p)  - ╲╱  4⋅p ⋅q₀  - (-p + q₀ + q₁)⋅(p - q₀ + q₁)⋅(p + q₀ - q₁)⋅(p + q₀ + q₁) ⎠                                       \n",
       "──────────────────────────────────────────────────────────────────────────────────               otherwise             \n",
       "                                                                                                                       "
      ]
     },
     "execution_count": 141,
     "metadata": {},
     "output_type": "execute_result"
    }
   ],
   "source": [
    "# construct the right triangle which hypotenuse of length d connects q and o\n",
    "# from h and m s\n",
    "\n",
    "dist = (hq - ho) ** 2 + (mq - mo) ** 2 # = d**2\n",
    "dist = sqrt(dist)\n",
    "dist = simplify(dist)\n",
    "dist"
   ]
  },
  {
   "cell_type": "code",
   "execution_count": 148,
   "id": "ce0904ad",
   "metadata": {},
   "outputs": [
    {
     "data": {
      "text/latex": [
       "$\\displaystyle \\begin{cases} \\frac{\\sqrt{\\left(\\sqrt{\\left(- o_{0} + o_{1} + p\\right) \\left(o_{0} - o_{1} + p\\right) \\left(o_{0} + o_{1} - p\\right)} \\sqrt{o_{0} + o_{1} + p} + \\sqrt{\\left(- p + q_{0} + q_{1}\\right) \\left(p - q_{0} + q_{1}\\right) \\left(p + q_{0} - q_{1}\\right)} \\sqrt{p + q_{0} + q_{1}}\\right)^{2} + \\left(\\sqrt{4 o_{0}^{2} p^{2} - \\left(- o_{0} + o_{1} + p\\right) \\left(o_{0} - o_{1} + p\\right) \\left(o_{0} + o_{1} - p\\right) \\left(o_{0} + o_{1} + p\\right)} - \\sqrt{4 p^{2} q_{0}^{2} - \\left(- p + q_{0} + q_{1}\\right) \\left(p - q_{0} + q_{1}\\right) \\left(p + q_{0} - q_{1}\\right) \\left(p + q_{0} + q_{1}\\right)}\\right)^{2}}}{2 p} & \\text{for}\\: o_{1}^{2} > o_{0}^{2} + p^{2} \\wedge q_{1}^{2} > p^{2} + q_{0}^{2} \\\\\\frac{\\sqrt{\\left(\\sqrt{\\left(- o_{0} + o_{1} + p\\right) \\left(o_{0} - o_{1} + p\\right) \\left(o_{0} + o_{1} - p\\right)} \\sqrt{o_{0} + o_{1} + p} + \\sqrt{\\left(- p + q_{0} + q_{1}\\right) \\left(p - q_{0} + q_{1}\\right) \\left(p + q_{0} - q_{1}\\right)} \\sqrt{p + q_{0} + q_{1}}\\right)^{2} + \\left(\\sqrt{4 o_{0}^{2} p^{2} - \\left(- o_{0} + o_{1} + p\\right) \\left(o_{0} - o_{1} + p\\right) \\left(o_{0} + o_{1} - p\\right) \\left(o_{0} + o_{1} + p\\right)} + \\sqrt{4 p^{2} q_{0}^{2} - \\left(- p + q_{0} + q_{1}\\right) \\left(p - q_{0} + q_{1}\\right) \\left(p + q_{0} - q_{1}\\right) \\left(p + q_{0} + q_{1}\\right)}\\right)^{2}}}{2 p} & \\text{for}\\: o_{1}^{2} > o_{0}^{2} + p^{2} \\vee q_{1}^{2} > p^{2} + q_{0}^{2} \\\\\\frac{\\sqrt{\\left(\\sqrt{\\left(- o_{0} + o_{1} + p\\right) \\left(o_{0} - o_{1} + p\\right) \\left(o_{0} + o_{1} - p\\right)} \\sqrt{o_{0} + o_{1} + p} + \\sqrt{\\left(- p + q_{0} + q_{1}\\right) \\left(p - q_{0} + q_{1}\\right) \\left(p + q_{0} - q_{1}\\right)} \\sqrt{p + q_{0} + q_{1}}\\right)^{2} + \\left(\\sqrt{4 o_{0}^{2} p^{2} - \\left(- o_{0} + o_{1} + p\\right) \\left(o_{0} - o_{1} + p\\right) \\left(o_{0} + o_{1} - p\\right) \\left(o_{0} + o_{1} + p\\right)} - \\sqrt{4 p^{2} q_{0}^{2} - \\left(- p + q_{0} + q_{1}\\right) \\left(p - q_{0} + q_{1}\\right) \\left(p + q_{0} - q_{1}\\right) \\left(p + q_{0} + q_{1}\\right)}\\right)^{2}}}{2 p} & \\text{otherwise} \\end{cases}$"
      ],
      "text/plain": [
       "⎧     ___________________________________________________________________________________________________________________________________________________________________________________________________________\n",
       "⎪    ╱                                                                                                                                                                                                           \n",
       "⎪   ╱                                                                                                                                   2   ⎛   _________________________________________________________________\n",
       "⎪  ╱   ⎛  ____________________________________________   _____________     ____________________________________________   _____________⎞    ⎜  ╱     2  2                                                        \n",
       "⎪╲╱    ⎝╲╱ (-o₀ + o₁ + p)⋅(o₀ - o₁ + p)⋅(o₀ + o₁ - p) ⋅╲╱ o₀ + o₁ + p  + ╲╱ (-p + q₀ + q₁)⋅(p - q₀ + q₁)⋅(p + q₀ - q₁) ⋅╲╱ p + q₀ + q₁ ⎠  + ⎝╲╱  4⋅o₀ ⋅p  - (-o₀ + o₁ + p)⋅(o₀ - o₁ + p)⋅(o₀ + o₁ - p)⋅(o₀ + o₁ +\n",
       "⎪────────────────────────────────────────────────────────────────────────────────────────────────────────────────────────────────────────────────────────────────────────────────────────────────────────────────\n",
       "⎪                                                                                                                                               2⋅p                                                              \n",
       "⎪                                                                                                                                                                                                                \n",
       "⎪     ___________________________________________________________________________________________________________________________________________________________________________________________________________\n",
       "⎪    ╱                                                                                                                                                                                                           \n",
       "⎪   ╱                                                                                                                                   2   ⎛   _________________________________________________________________\n",
       "⎨  ╱   ⎛  ____________________________________________   _____________     ____________________________________________   _____________⎞    ⎜  ╱     2  2                                                        \n",
       "⎪╲╱    ⎝╲╱ (-o₀ + o₁ + p)⋅(o₀ - o₁ + p)⋅(o₀ + o₁ - p) ⋅╲╱ o₀ + o₁ + p  + ╲╱ (-p + q₀ + q₁)⋅(p - q₀ + q₁)⋅(p + q₀ - q₁) ⋅╲╱ p + q₀ + q₁ ⎠  + ⎝╲╱  4⋅o₀ ⋅p  - (-o₀ + o₁ + p)⋅(o₀ - o₁ + p)⋅(o₀ + o₁ - p)⋅(o₀ + o₁ +\n",
       "⎪────────────────────────────────────────────────────────────────────────────────────────────────────────────────────────────────────────────────────────────────────────────────────────────────────────────────\n",
       "⎪                                                                                                                                               2⋅p                                                              \n",
       "⎪                                                                                                                                                                                                                \n",
       "⎪     ___________________________________________________________________________________________________________________________________________________________________________________________________________\n",
       "⎪    ╱                                                                                                                                                                                                           \n",
       "⎪   ╱                                                                                                                                   2   ⎛   _________________________________________________________________\n",
       "⎪  ╱   ⎛  ____________________________________________   _____________     ____________________________________________   _____________⎞    ⎜  ╱     2  2                                                        \n",
       "⎪╲╱    ⎝╲╱ (-o₀ + o₁ + p)⋅(o₀ - o₁ + p)⋅(o₀ + o₁ - p) ⋅╲╱ o₀ + o₁ + p  + ╲╱ (-p + q₀ + q₁)⋅(p - q₀ + q₁)⋅(p + q₀ - q₁) ⋅╲╱ p + q₀ + q₁ ⎠  + ⎝╲╱  4⋅o₀ ⋅p  - (-o₀ + o₁ + p)⋅(o₀ - o₁ + p)⋅(o₀ + o₁ - p)⋅(o₀ + o₁ +\n",
       "⎪────────────────────────────────────────────────────────────────────────────────────────────────────────────────────────────────────────────────────────────────────────────────────────────────────────────────\n",
       "⎩                                                                                                                                               2⋅p                                                              \n",
       "\n",
       "__________________________________________________________________________________                                     \n",
       "                                                                                2                                      \n",
       "____      _____________________________________________________________________⎞                                       \n",
       "         ╱    2   2                                                            ⎟                                       \n",
       " p)  - ╲╱  4⋅p ⋅q₀  - (-p + q₀ + q₁)⋅(p - q₀ + q₁)⋅(p + q₀ - q₁)⋅(p + q₀ + q₁) ⎠          2     2    2     2    2     2\n",
       "──────────────────────────────────────────────────────────────────────────────────  for o₁  > o₀  + p  ∧ q₁  > p  + q₀ \n",
       "                                                                                                                       \n",
       "                                                                                                                       \n",
       "__________________________________________________________________________________                                     \n",
       "                                                                                2                                      \n",
       "____      _____________________________________________________________________⎞                                       \n",
       "         ╱    2   2                                                            ⎟                                       \n",
       " p)  + ╲╱  4⋅p ⋅q₀  - (-p + q₀ + q₁)⋅(p - q₀ + q₁)⋅(p + q₀ - q₁)⋅(p + q₀ + q₁) ⎠          2     2    2     2    2     2\n",
       "──────────────────────────────────────────────────────────────────────────────────  for o₁  > o₀  + p  ∨ q₁  > p  + q₀ \n",
       "                                                                                                                       \n",
       "                                                                                                                       \n",
       "__________________________________________________________________________________                                     \n",
       "                                                                                2                                      \n",
       "____      _____________________________________________________________________⎞                                       \n",
       "         ╱    2   2                                                            ⎟                                       \n",
       " p)  - ╲╱  4⋅p ⋅q₀  - (-p + q₀ + q₁)⋅(p - q₀ + q₁)⋅(p + q₀ - q₁)⋅(p + q₀ + q₁) ⎠                                       \n",
       "──────────────────────────────────────────────────────────────────────────────────               otherwise             \n",
       "                                                                                                                       "
      ]
     },
     "execution_count": 148,
     "metadata": {},
     "output_type": "execute_result"
    }
   ],
   "source": [
    "# we can also find an upper bound this way:\n",
    "# arrange the triangles so that one height is positive and one is negative:\n",
    "dist_ub = (hq + ho)**2 + (mq - mo)**2\n",
    "dist_ub = simplify(sqrt(dist_ub))\n",
    "dist_ub"
   ]
  },
  {
   "cell_type": "code",
   "execution_count": 149,
   "id": "0f888f79",
   "metadata": {},
   "outputs": [],
   "source": [
    "# TODO: refactor me\n",
    "def piecewise_to_maca(term:Piecewise, pretty=False):\n",
    "    \"\"\"Return Mathematica code for Piecewise objects.\n",
    "    \n",
    "    mathematica_code(term) cannot handle Piecewise objects.\n",
    "    \"\"\"\n",
    "    pieces = []\n",
    "\n",
    "    def to_maca(term):\n",
    "        return mathematica_code(term)\n",
    "\n",
    "    for term, condition in term.args:\n",
    "        pieces.append(\n",
    "            \"{\" + to_maca(term) + \",\" + to_maca(condition) + \"}\"\n",
    "        )\n",
    "    \n",
    "    if not pretty:\n",
    "        args = \",\".join(pieces)\n",
    "    else:\n",
    "        args = \",\\n\".join(pieces)\n",
    "        args = \"\\n\" + args + \"\\n\"\n",
    "        \n",
    "    return \"Piecewise[{\"+args+\"}]\""
   ]
  },
  {
   "cell_type": "code",
   "execution_count": 153,
   "id": "775e09a9",
   "metadata": {},
   "outputs": [
    {
     "name": "stdout",
     "output_type": "stream",
     "text": [
      "Piecewise[{\n",
      "{(1/2)*((((-o0 + o1 + p)*(o0 - o1 + p)*(o0 + o1 - p))^(1/2)*(o0 + o1 + p)^(1/2) + ((-p + q0 + q1)*(p - q0 + q1)*(p + q0 - q1))^(1/2)*(p + q0 + q1)^(1/2))^2 + ((4*o0^2*p^2 - (-o0 + o1 + p)*(o0 - o1 + p)*(o0 + o1 - p)*(o0 + o1 + p))^(1/2) - (4*p^2*q0^2 - (-p + q0 + q1)*(p - q0 + q1)*(p + q0 - q1)*(p + q0 + q1))^(1/2))^2)^(1/2)/p,o1^2 > o0^2 + p^2 && q1^2 > p^2 + q0^2},\n",
      "{(1/2)*((((-o0 + o1 + p)*(o0 - o1 + p)*(o0 + o1 - p))^(1/2)*(o0 + o1 + p)^(1/2) + ((-p + q0 + q1)*(p - q0 + q1)*(p + q0 - q1))^(1/2)*(p + q0 + q1)^(1/2))^2 + ((4*o0^2*p^2 - (-o0 + o1 + p)*(o0 - o1 + p)*(o0 + o1 - p)*(o0 + o1 + p))^(1/2) + (4*p^2*q0^2 - (-p + q0 + q1)*(p - q0 + q1)*(p + q0 - q1)*(p + q0 + q1))^(1/2))^2)^(1/2)/p,o1^2 > o0^2 + p^2 || q1^2 > p^2 + q0^2},\n",
      "{(1/2)*((((-o0 + o1 + p)*(o0 - o1 + p)*(o0 + o1 - p))^(1/2)*(o0 + o1 + p)^(1/2) + ((-p + q0 + q1)*(p - q0 + q1)*(p + q0 - q1))^(1/2)*(p + q0 + q1)^(1/2))^2 + ((4*o0^2*p^2 - (-o0 + o1 + p)*(o0 - o1 + p)*(o0 + o1 - p)*(o0 + o1 + p))^(1/2) - (4*p^2*q0^2 - (-p + q0 + q1)*(p - q0 + q1)*(p + q0 - q1)*(p + q0 + q1))^(1/2))^2)^(1/2)/p,True}\n",
      "}]\n"
     ]
    }
   ],
   "source": [
    "print(piecewise_to_maca(dist_ub, True))"
   ]
  },
  {
   "cell_type": "code",
   "execution_count": 27,
   "id": "b34d35f46299430b",
   "metadata": {
    "ExecuteTime": {
     "end_time": "2024-06-21T08:02:03.994042Z",
     "start_time": "2024-06-21T08:02:03.924471Z"
    }
   },
   "outputs": [
    {
     "data": {
      "text/latex": [
       "$\\displaystyle \\sqrt{\\left(\\frac{\\sqrt{- \\left(- o_{0} - o_{1} + p\\right) \\left(- o_{0} + o_{1} + p\\right) \\left(o_{0} - o_{1} + p\\right)} \\sqrt{o_{0} + o_{1} + p}}{2 p} + \\frac{\\sqrt{- \\left(p - q_{0} - q_{1}\\right) \\left(p - q_{0} + q_{1}\\right) \\left(p + q_{0} - q_{1}\\right)} \\sqrt{p + q_{0} + q_{1}}}{2 p}\\right)^{2} + \\left(- \\begin{cases} - \\sqrt{o_{0}^{2} + \\frac{\\left(- o_{0} - o_{1} + p\\right) \\left(- o_{0} + o_{1} + p\\right) \\left(o_{0} - o_{1} + p\\right) \\left(o_{0} + o_{1} + p\\right)}{4 p^{2}}} & \\text{for}\\: o_{1}^{2} > o_{0}^{2} + p^{2} \\\\\\sqrt{o_{0}^{2} + \\frac{\\left(- o_{0} - o_{1} + p\\right) \\left(- o_{0} + o_{1} + p\\right) \\left(o_{0} - o_{1} + p\\right) \\left(o_{0} + o_{1} + p\\right)}{4 p^{2}}} & \\text{otherwise} \\end{cases} + \\begin{cases} - \\sqrt{q_{0}^{2} + \\frac{\\left(p - q_{0} - q_{1}\\right) \\left(p - q_{0} + q_{1}\\right) \\left(p + q_{0} - q_{1}\\right) \\left(p + q_{0} + q_{1}\\right)}{4 p^{2}}} & \\text{for}\\: q_{1}^{2} > p^{2} + q_{0}^{2} \\\\\\sqrt{q_{0}^{2} + \\frac{\\left(p - q_{0} - q_{1}\\right) \\left(p - q_{0} + q_{1}\\right) \\left(p + q_{0} - q_{1}\\right) \\left(p + q_{0} + q_{1}\\right)}{4 p^{2}}} & \\text{otherwise} \\end{cases}\\right)^{2}}$"
      ],
      "text/plain": [
       "             ____________________________________________________________________________________________________________________________________________________________________________________________________\n",
       "            ╱                                                                                                                                                                                                    \n",
       "           ╱                                                                                                                                         ⎛  ⎛⎧      _________________________________________________\n",
       "          ╱                                                                                                                                          ⎜  ⎜⎪     ╱   2   (-o₀ - o₁ + p)⋅(-o₀ + o₁ + p)⋅(o₀ - o₁ + p\n",
       "         ╱                                                                                                                                       2   ⎜  ⎜⎪-   ╱  o₀  + ──────────────────────────────────────────\n",
       "        ╱     ⎛  ______________________________________________   _____________     ____________________________________________   _____________⎞    ⎜  ⎜⎪   ╱                                       2           \n",
       "       ╱      ⎜╲╱ -(-o₀ - o₁ + p)⋅(-o₀ + o₁ + p)⋅(o₀ - o₁ + p) ⋅╲╱ o₀ + o₁ + p    ╲╱ -(p - q₀ - q₁)⋅(p - q₀ + q₁)⋅(p + q₀ - q₁) ⋅╲╱ p + q₀ + q₁ ⎟    ⎜  ⎜⎪ ╲╱                                     4⋅p            \n",
       "      ╱       ⎜──────────────────────────────────────────────────────────────── + ──────────────────────────────────────────────────────────────⎟  + ⎜- ⎜⎨                                                       \n",
       "     ╱        ⎝                              2⋅p                                                               2⋅p                              ⎠    ⎜  ⎜⎪     __________________________________________________\n",
       "    ╱                                                                                                                                                ⎜  ⎜⎪    ╱   2   (-o₀ - o₁ + p)⋅(-o₀ + o₁ + p)⋅(o₀ - o₁ + p)\n",
       "   ╱                                                                                                                                                 ⎜  ⎜⎪   ╱  o₀  + ───────────────────────────────────────────\n",
       "  ╱                                                                                                                                                  ⎜  ⎜⎪  ╱                                       2            \n",
       "╲╱                                                                                                                                                   ⎝  ⎝⎩╲╱                                     4⋅p             \n",
       "\n",
       "_______________________________________________________________________________________________________________________________________\n",
       "                                                                                                                                     2 \n",
       "________________                    ⎞   ⎛⎧      _______________________________________________________________                    ⎞⎞  \n",
       ")⋅(o₀ + o₁ + p)         2     2    2⎟   ⎜⎪     ╱   2   (p - q₀ - q₁)⋅(p - q₀ + q₁)⋅(p + q₀ - q₁)⋅(p + q₀ + q₁)         2    2     2⎟⎟  \n",
       "───────────────   for o₁  > o₀  + p ⎟   ⎜⎪-   ╱  q₀  + ───────────────────────────────────────────────────────   for q₁  > p  + q₀ ⎟⎟  \n",
       "                                    ⎟   ⎜⎪   ╱                                      2                                              ⎟⎟  \n",
       "                                    ⎟   ⎜⎪ ╲╱                                    4⋅p                                               ⎟⎟  \n",
       "                                    ⎟ + ⎜⎨                                                                                         ⎟⎟  \n",
       "_______________                     ⎟   ⎜⎪     _______________________________________________________________                     ⎟⎟  \n",
       "⋅(o₀ + o₁ + p)                      ⎟   ⎜⎪    ╱   2   (p - q₀ - q₁)⋅(p - q₀ + q₁)⋅(p + q₀ - q₁)⋅(p + q₀ + q₁)                      ⎟⎟  \n",
       "──────────────        otherwise     ⎟   ⎜⎪   ╱  q₀  + ───────────────────────────────────────────────────────        otherwise     ⎟⎟  \n",
       "                                    ⎟   ⎜⎪  ╱                                      2                                               ⎟⎟  \n",
       "                                    ⎠   ⎝⎩╲╱                                    4⋅p                                                ⎠⎠  "
      ]
     },
     "execution_count": 27,
     "metadata": {},
     "output_type": "execute_result"
    }
   ],
   "source": []
  },
  {
   "cell_type": "code",
   "execution_count": 61,
   "id": "c905698c",
   "metadata": {},
   "outputs": [
    {
     "name": "stdout",
     "output_type": "stream",
     "text": [
      "Piecewise[{\n",
      "{(1/2)*((((-o0 + o1 + p)*(o0 - o1 + p)*(o0 + o1 - p))^(1/2)*(o0 + o1 + p)^(1/2) - ((-p + q0 + q1)*(p - q0 + q1)*(p + q0 - q1))^(1/2)*(p + q0 + q1)^(1/2))^2 + ((4*o0^2*p^2 - (-o0 + o1 + p)*(o0 - o1 + p)*(o0 + o1 - p)*(o0 + o1 + p))^(1/2) - (4*p^2*q0^2 - (-p + q0 + q1)*(p - q0 + q1)*(p + q0 - q1)*(p + q0 + q1))^(1/2))^2)^(1/2)/p,o1^2 > o0^2 + p^2 && q1^2 > p^2 + q0^2},\n",
      "{(1/2)*((((-o0 + o1 + p)*(o0 - o1 + p)*(o0 + o1 - p))^(1/2)*(o0 + o1 + p)^(1/2) - ((-p + q0 + q1)*(p - q0 + q1)*(p + q0 - q1))^(1/2)*(p + q0 + q1)^(1/2))^2 + ((4*o0^2*p^2 - (-o0 + o1 + p)*(o0 - o1 + p)*(o0 + o1 - p)*(o0 + o1 + p))^(1/2) + (4*p^2*q0^2 - (-p + q0 + q1)*(p - q0 + q1)*(p + q0 - q1)*(p + q0 + q1))^(1/2))^2)^(1/2)/p,o1^2 > o0^2 + p^2 || q1^2 > p^2 + q0^2},\n",
      "{(1/2)*((((-o0 + o1 + p)*(o0 - o1 + p)*(o0 + o1 - p))^(1/2)*(o0 + o1 + p)^(1/2) - ((-p + q0 + q1)*(p - q0 + q1)*(p + q0 - q1))^(1/2)*(p + q0 + q1)^(1/2))^2 + ((4*o0^2*p^2 - (-o0 + o1 + p)*(o0 - o1 + p)*(o0 + o1 - p)*(o0 + o1 + p))^(1/2) - (4*p^2*q0^2 - (-p + q0 + q1)*(p - q0 + q1)*(p + q0 - q1)*(p + q0 + q1))^(1/2))^2)^(1/2)/p,True}\n",
      "}]\n"
     ]
    }
   ],
   "source": [
    "print(piecewise_to_maca(dist_ub, True))"
   ]
  },
  {
   "cell_type": "code",
   "execution_count": 14,
   "id": "a283aa066acd3843",
   "metadata": {
    "ExecuteTime": {
     "end_time": "2024-06-21T08:02:04.665746Z",
     "start_time": "2024-06-21T08:02:04.663441Z"
    }
   },
   "outputs": [],
   "source": [
    "\n",
    "# geometrically, we know that\n",
    "# mq0 + mo0 == mo1 + mq1\n"
   ]
  },
  {
   "cell_type": "code",
   "execution_count": 110,
   "id": "ccd3aecf",
   "metadata": {},
   "outputs": [
    {
     "data": {
      "text/plain": [
       "'q0'"
      ]
     },
     "execution_count": 110,
     "metadata": {},
     "output_type": "execute_result"
    }
   ],
   "source": [
    "str(q0)"
   ]
  },
  {
   "cell_type": "code",
   "execution_count": 162,
   "id": "59630c78",
   "metadata": {},
   "outputs": [
    {
     "data": {
      "text/latex": [
       "$\\displaystyle \\frac{\\sqrt{\\left(\\sqrt{- \\left(o_{0} - o_{1} - p\\right) \\left(o_{0} - o_{1} + p\\right) \\left(o_{0} + o_{1} - p\\right)} \\sqrt{o_{0} + o_{1} + p} - \\sqrt{- \\left(p - q_{0} - q_{1}\\right) \\left(p - q_{0} + q_{1}\\right) \\left(p + q_{0} - q_{1}\\right)} \\sqrt{p + q_{0} + q_{1}}\\right)^{2} + \\left(o_{0}^{2} - o_{1}^{2} - q_{0}^{2} + q_{1}^{2}\\right)^{2}}}{2 p}$"
      ],
      "text/plain": [
       "    _______________________________________________________________________________________________________________________________________________________________\n",
       "   ╱                                                                                                                                  2                          2 \n",
       "  ╱  ⎛  ____________________________________________   _____________     ____________________________________________   _____________⎞    ⎛  2     2     2     2⎞  \n",
       "╲╱   ⎝╲╱ -(o₀ - o₁ - p)⋅(o₀ - o₁ + p)⋅(o₀ + o₁ - p) ⋅╲╱ o₀ + o₁ + p  - ╲╱ -(p - q₀ - q₁)⋅(p - q₀ + q₁)⋅(p + q₀ - q₁) ⋅╲╱ p + q₀ + q₁ ⎠  + ⎝o₀  - o₁  - q₀  + q₁ ⎠  \n",
       "───────────────────────────────────────────────────────────────────────────────────────────────────────────────────────────────────────────────────────────────────\n",
       "                                                                                2⋅p                                                                                "
      ]
     },
     "execution_count": 162,
     "metadata": {},
     "output_type": "execute_result"
    }
   ],
   "source": [
    "from sympy.parsing.mathematica import parse_mathematica\n",
    "\n",
    "def from_maca(string, free_symbols):\n",
    "    term = parse_mathematica(string)\n",
    "    # symbols don't get matched automatically\n",
    "    for s in free_symbols:\n",
    "        term = term.replace(symbols(str(s)),s)\n",
    "    return term\n",
    "\n",
    "string = \"((o0^2-o1^2-q0^2+q1^2)^2+(Sqrt[-((o0-o1-p) (o0+o1-p) (o0-o1+p) (o0+o1+p))]-Sqrt[-((p-q0-q1) (p+q0-q1) (p-q0+q1) (p+q0+q1))])^2)/(4 p^2)\"\n",
    "free_symbols = [p,q0, q1, o0, o1]\n",
    "mdist = from_maca(string, free_symbols)\n",
    "mdist = sqrt(mdist)\n",
    "\n",
    "mdist"
   ]
  },
  {
   "cell_type": "code",
   "execution_count": 163,
   "id": "8aad8e93",
   "metadata": {},
   "outputs": [
    {
     "name": "stdout",
     "output_type": "stream",
     "text": [
      "o0 = Symbol('o0')\n",
      "o1 = Symbol('o1')\n",
      "p = Symbol('p')\n",
      "q0 = Symbol('q0')\n",
      "q1 = Symbol('q1')\n",
      "e = sqrt((sqrt(-(o0 - o1 - p)*(o0 - o1 + p)*(o0 + o1 - p))*sqrt(o0 + o1 + p) - sqrt(-(p - q0 - q1)*(p - q0 + q1)*(p + q0 - q1))*sqrt(p + q0 + q1))**2 + (o0**2 - o1**2 - q0**2 + q1**2)**2)/(2*p)\n"
     ]
    }
   ],
   "source": [
    "print_python(mdist)"
   ]
  },
  {
   "cell_type": "code",
   "execution_count": 165,
   "id": "5720376f",
   "metadata": {},
   "outputs": [
    {
     "name": "stdout",
     "output_type": "stream",
     "text": [
      "o0 = Symbol('o0')\n",
      "p = Symbol('p')\n",
      "q0 = Symbol('q0')\n",
      "o1 = Symbol('o1')\n",
      "q1 = Symbol('q1')\n",
      "e = (o0**2*p**2 + p**2*q0**2 + sqrt((-o0 + o1 + p)*(o0 - o1 + p)*(o0 + o1 - p))*sqrt((-p + q0 + q1)*(p - q0 + q1)*(p + q0 - q1))*sqrt(o0 + o1 + p)*sqrt(p + q0 + q1)/2 - (o0**2 - o1**2 + p**2)*(p**2 + q0**2 - q1**2)/2)**Rational(1, 4)/sqrt(p)\n"
     ]
    }
   ],
   "source": [
    "mdist_ub = sqrt(from_maca(\n",
    "\"\"\"Sqrt[o0^2 p^2 + p^2 q0^2 + \n",
    " 1/2 Sqrt[(o0 + o1 - p) (o0 - o1 + p) (-o0 + o1 + p) (o0 + o1 + p)]\n",
    "   Sqrt[(p + q0 - q1) (p - q0 + q1) (-p + q0 + q1) (p + q0 + q1)] - \n",
    " 1/2 (o0^2 - o1^2 + p^2) (p^2 + q0^2 - q1^2)]/p\"\"\",\n",
    "    free_symbols\n",
    "))\n",
    "print_python(mdist_ub)"
   ]
  },
  {
   "cell_type": "code",
   "execution_count": 122,
   "id": "50015228abfe3f66",
   "metadata": {
    "ExecuteTime": {
     "end_time": "2024-06-21T08:02:04.994500Z",
     "start_time": "2024-06-21T08:02:04.924265Z"
    }
   },
   "outputs": [],
   "source": [
    "# test with a simple triangle:\n",
    "tri0 = {\n",
    "    p:3,\n",
    "    q0:7,\n",
    "    q1:5,\n",
    "}\n",
    "tri1 = {\n",
    "    p:tri0[p],\n",
    "    o0:10.77,\n",
    "    o1:12.21,\n",
    "}\n",
    "\n",
    "height0 = 4.33\n",
    "m_base0 = 5.5\n",
    "precision = 0.02\n",
    "\n",
    "assert N(abs(hq.subs(tri0) - height0)) < precision, \"wrong height!\"\n",
    "assert N(abs(mq0.subs(tri0) - m_base0)) < precision, \"wrong intersect!\"\n",
    "\n",
    "dist_n = float(mdist.subs(tri0).subs(tri1))\n",
    "assert np.allclose(dist_n, 11.06, atol=precision), dist_n"
   ]
  },
  {
   "cell_type": "code",
   "execution_count": 123,
   "id": "65e72db155a35063",
   "metadata": {
    "ExecuteTime": {
     "end_time": "2024-06-21T08:02:05.213149Z",
     "start_time": "2024-06-21T08:02:05.123383Z"
    }
   },
   "outputs": [],
   "source": [
    "# test with a \"hard\" triangle\n",
    "trih = {\n",
    "    p:32.44996148,\n",
    "    q0:65.76473219,\n",
    "    q1:38.83297568,\n",
    "    o0:64.5368112 ,\n",
    "    o1:36.22154055,\n",
    "}\n",
    "\n",
    "assert np.abs(hq.subs(trih) - 27.74) < precision\n",
    "assert np.abs(ho.subs(trih) - 23.3) < precision\n",
    "mq0.subs(trih) - 32.45, mo0.subs(trih) - 32.45\n",
    "\n",
    "assert np.allclose(float(mdist.subs(trih)), 4.47, atol=precision)"
   ]
  },
  {
   "cell_type": "code",
   "execution_count": 140,
   "id": "dc63de60",
   "metadata": {},
   "outputs": [
    {
     "name": "stderr",
     "output_type": "stream",
     "text": [
      "<lambdifygenerated-15>:2: RuntimeWarning: invalid value encountered in sqrt\n",
      "  return select([logical_and.reduce((greater(o1**2, o0**2 + p**2),greater(q1**2, p**2 + q0**2))),logical_or.reduce((greater(o1**2, o0**2 + p**2),greater(q1**2, p**2 + q0**2))),True], [(1/2)*(sqrt((sqrt((-o0 + o1 + p)*(o0 - o1 + p)*(o0 + o1 - p))*sqrt(o0 + o1 + p) - sqrt((-p + q0 + q1)*(p - q0 + q1)*(p + q0 - q1))*sqrt(p + q0 + q1))**2 + (sqrt(4*o0**2*p**2 - (-o0 + o1 + p)*(o0 - o1 + p)*(o0 + o1 - p)*(o0 + o1 + p)) - sqrt(4*p**2*q0**2 - (-p + q0 + q1)*(p - q0 + q1)*(p + q0 - q1)*(p + q0 + q1)))**2) - sqrt((sqrt((-o0 + o1 + p)*(o0 - o1 + p)*(o0 + o1 - p))*sqrt(o0 + o1 + p) - sqrt((-p + q0 + q1)*(p - q0 + q1)*(p + q0 - q1))*sqrt(p + q0 + q1))**2 + (o0**2 - o1**2 - q0**2 + q1**2)**2))/p,(1/2)*(sqrt((sqrt((-o0 + o1 + p)*(o0 - o1 + p)*(o0 + o1 - p))*sqrt(o0 + o1 + p) - sqrt((-p + q0 + q1)*(p - q0 + q1)*(p + q0 - q1))*sqrt(p + q0 + q1))**2 + (sqrt(4*o0**2*p**2 - (-o0 + o1 + p)*(o0 - o1 + p)*(o0 + o1 - p)*(o0 + o1 + p)) + sqrt(4*p**2*q0**2 - (-p + q0 + q1)*(p - q0 + q1)*(p + q0 - q1)*(p + q0 + q1)))**2) - sqrt((sqrt((-o0 + o1 + p)*(o0 - o1 + p)*(o0 + o1 - p))*sqrt(o0 + o1 + p) - sqrt((-p + q0 + q1)*(p - q0 + q1)*(p + q0 - q1))*sqrt(p + q0 + q1))**2 + (o0**2 - o1**2 - q0**2 + q1**2)**2))/p,(1/2)*(sqrt((sqrt((-o0 + o1 + p)*(o0 - o1 + p)*(o0 + o1 - p))*sqrt(o0 + o1 + p) - sqrt((-p + q0 + q1)*(p - q0 + q1)*(p + q0 - q1))*sqrt(p + q0 + q1))**2 + (sqrt(4*o0**2*p**2 - (-o0 + o1 + p)*(o0 - o1 + p)*(o0 + o1 - p)*(o0 + o1 + p)) - sqrt(4*p**2*q0**2 - (-p + q0 + q1)*(p - q0 + q1)*(p + q0 - q1)*(p + q0 + q1)))**2) - sqrt((sqrt((-o0 + o1 + p)*(o0 - o1 + p)*(o0 + o1 - p))*sqrt(o0 + o1 + p) - sqrt((-p + q0 + q1)*(p - q0 + q1)*(p + q0 - q1))*sqrt(p + q0 + q1))**2 + (o0**2 - o1**2 - q0**2 + q1**2)**2))/p], default=nan)\n"
     ]
    }
   ],
   "source": [
    "# numerical test simplify(dist - mdist)\n",
    "is_equal = lambdify(free_symbols, simplify(dist - mdist), \"numpy\")\n",
    "\n",
    "results = abs(is_equal(*np.random.rand(len(free_symbols),10000)))\n",
    "assert all(results[~np.isnan(results)] < 0.001)"
   ]
  },
  {
   "cell_type": "code",
   "execution_count": 133,
   "id": "1836b092",
   "metadata": {},
   "outputs": [
    {
     "data": {
      "text/latex": [
       "$\\displaystyle - 13.6818666666667 \\sqrt{0.53351789479596 \\left(1 - 0.250161319810253 \\sqrt{3}\\right)^{2} + 0.483665527367826} + 9.99355136875775 \\sqrt{\\left(1 - 0.250161319810253 \\sqrt{3}\\right)^{2} + 0.906559146535845}$"
      ],
      "text/plain": [
       "                      __________________________________________________________________                       _________________________________________________\n",
       "                     ╱                                            2                                           ╱                           2                     \n",
       "- 13.6818666666667⋅╲╱  0.53351789479596⋅(1 - 0.250161319810253⋅√3)  + 0.483665527367826  + 9.99355136875775⋅╲╱  (1 - 0.250161319810253⋅√3)  + 0.906559146535845 "
      ]
     },
     "execution_count": 133,
     "metadata": {},
     "output_type": "execute_result"
    }
   ],
   "source": [
    "simplify(dist - mdist).subs(tri1).subs(tri0)"
   ]
  },
  {
   "cell_type": "code",
   "execution_count": null,
   "id": "42c76c93",
   "metadata": {},
   "outputs": [],
   "source": [
    "hq.subs(trih)"
   ]
  },
  {
   "cell_type": "code",
   "execution_count": null,
   "id": "78caa217",
   "metadata": {},
   "outputs": [],
   "source": [
    "mo.subs(trih)"
   ]
  },
  {
   "cell_type": "code",
   "execution_count": null,
   "id": "419b06d478f27e9f",
   "metadata": {
    "ExecuteTime": {
     "end_time": "2024-06-21T08:02:06.175379Z",
     "start_time": "2024-06-21T08:02:06.169600Z"
    }
   },
   "outputs": [],
   "source": [
    "# from Connor's paper:\n",
    "# 1/d(p0,p1) * (d(q, p0)**2 + d(q, p0)**2) > 2*t\n",
    "# is a lower bound\n",
    "lb = 1/2/p * (q0**2 + q1**2)\n",
    "N(lb.subs(tri0)), N(dist_n)"
   ]
  },
  {
   "cell_type": "code",
   "execution_count": null,
   "id": "8dafdf758354ff35",
   "metadata": {
    "ExecuteTime": {
     "end_time": "2024-06-21T08:02:08.687201Z",
     "start_time": "2024-06-21T08:02:06.640588Z"
    }
   },
   "outputs": [],
   "source": [
    "simplify(dist < lb)\n"
   ]
  },
  {
   "cell_type": "code",
   "execution_count": null,
   "id": "82d6ecf0187b168f",
   "metadata": {
    "ExecuteTime": {
     "end_time": "2024-06-21T08:02:11.741919Z",
     "start_time": "2024-06-21T08:02:11.731259Z"
    }
   },
   "outputs": [],
   "source": [
    "nsolveset(dist - 3,o0, domain=S.Reals)"
   ]
  },
  {
   "cell_type": "code",
   "execution_count": null,
   "id": "8cc28028b301d02d",
   "metadata": {
    "ExecuteTime": {
     "end_time": "2024-06-21T08:02:12.999158Z",
     "start_time": "2024-06-21T08:02:12.992394Z"
    }
   },
   "outputs": [],
   "source": [
    "printing.print_python(dist_ub)"
   ]
  },
  {
   "cell_type": "code",
   "execution_count": null,
   "id": "8fbec9c8",
   "metadata": {},
   "outputs": [],
   "source": [
    "printing.print_maple_code(dist)"
   ]
  },
  {
   "cell_type": "code",
   "execution_count": null,
   "id": "d4a15385",
   "metadata": {},
   "outputs": [],
   "source": []
  },
  {
   "cell_type": "code",
   "execution_count": 157,
   "id": "91ca7b51da76afc",
   "metadata": {
    "ExecuteTime": {
     "end_time": "2024-06-21T08:02:25.622350Z",
     "start_time": "2024-06-21T08:02:25.590914Z"
    }
   },
   "outputs": [],
   "source": [
    "#connor_diff = lambdify([p,q0, q1, o0, o1], lb - dist, \"numpy\")\n",
    "tetrahedron_lb = lambdify([p,q0, q1, o0, o1], mdist, \"numpy\")\n",
    "tetrahedron_ub = lambdify([p,q0, q1, o0, o1], dist_ub, \"numpy\")\n",
    "\n",
    "def ptolemy_lb(p, q0, q1, o0, o1):\n",
    "    diff = np.abs(q0 * o1 - q1 * o0)\n",
    "    return diff / p"
   ]
  },
  {
   "cell_type": "code",
   "execution_count": 158,
   "id": "13dd010cdf03803f",
   "metadata": {
    "ExecuteTime": {
     "end_time": "2024-06-21T08:02:28.762451Z",
     "start_time": "2024-06-21T08:02:28.750105Z"
    }
   },
   "outputs": [],
   "source": [
    "from tqdm import tqdm\n",
    "\n",
    "def _stable_tetrahedron_lb(p_n, q0_n, q1_n, o0_n, o1_n):\n",
    "    for i in tqdm(range(len(p_n))):\n",
    "        yield dist.subs({\n",
    "            p:p_n[i],\n",
    "            q0:q0_n[i],\n",
    "            q1:q1_n[i],\n",
    "            o0:o0_n[i],\n",
    "            o1:o1_n[i],\n",
    "        }).evalf()\n",
    "\n",
    "def stable_tetrahedron_lb(p_n, q0_n, q1_n, o0_n, o1_n):\n",
    "    return np.asarray(list(_stable_tetrahedron_lb(p_n, q0_n, q1_n, o0_n, o1_n)), dtype=float)"
   ]
  },
  {
   "cell_type": "code",
   "execution_count": 161,
   "id": "727cf0e718b6b726",
   "metadata": {
    "ExecuteTime": {
     "end_time": "2024-06-21T08:10:00.367109Z",
     "start_time": "2024-06-21T08:10:00.159525Z"
    }
   },
   "outputs": [
    {
     "data": {
      "image/png": "[encoded data removed]",
      "text/plain": [
       "<Figure size 640x480 with 1 Axes>"
      ]
     },
     "metadata": {},
     "output_type": "display_data"
    }
   ],
   "source": [
    "# simulate triangles\n",
    "import numpy as np\n",
    "import matplotlib.pyplot as plt\n",
    "from scipy import spatial\n",
    "rng = np.random.default_rng()\n",
    "\n",
    "dist_func = lambda x,y: spatial.minkowski_distance(x,y,5)# np.linalg.norm(x-y, axis=-1)\n",
    "n_samples= 100000\n",
    "dim = 8\n",
    "points = rng.integers(-37,38, size=[n_samples, 4, dim])\n",
    "p0,p1,q,o = 0,1,2,3\n",
    "dists_p = dist_func(points[:,p0,:], points[:,p1,:])\n",
    "dists_q0 = dist_func(points[:,p0,:], points[:,q,:])\n",
    "dists_q1 = dist_func(points[:,p1,:], points[:,q,:])\n",
    "dists_o0 = dist_func(points[:,p0,:], points[:,o,:])\n",
    "dists_o1 = dist_func(points[:,p1,:], points[:,o,:])\n",
    "dists_target = dist_func(points[:,q,:], points[:,o,:])\n",
    "\n",
    "args = np.vstack((dists_p, dists_q0, dists_q1, dists_o0, dists_o1))\n",
    "tet_lb = tetrahedron_lb(*args)\n",
    "tet_ub = tetrahedron_ub(*args)\n",
    "pto_n = ptolemy_lb(*args)\n",
    "#connors_lb_n = connor_lb(*args)\n",
    "#connors_lb_n = np.clip(connors_lb_n, -10, 200)\n",
    "\n",
    "bins = 100\n",
    "plt.hist(dists_target,  bins=bins, label=\"actual\")\n",
    "plt.hist(tet_lb, bins=bins, histtype=\"step\", label=\"tetrahedron lb\")\n",
    "plt.hist(tet_ub, bins=bins, histtype=\"step\", label=\"tetrahedron ub\")\n",
    "plt.hist(pto_n, bins=bins, histtype=\"step\", label=\"Ptolemy\")\n",
    "#plt.hist(connors_lb_n, bins=bins, histtype=\"step\", label=\"connor\")\n",
    "\n",
    "plt.title(\"differences between lower bound functions\")\n",
    "plt.xlabel(\"distance\")\n",
    "plt.ylabel(\"freq\")\n",
    "plt.legend()\n",
    "plt.show()"
   ]
  },
  {
   "cell_type": "code",
   "execution_count": null,
   "id": "e502386d680a9270",
   "metadata": {
    "ExecuteTime": {
     "end_time": "2024-06-21T08:10:01.335549Z",
     "start_time": "2024-06-21T08:10:01.330931Z"
    }
   },
   "outputs": [],
   "source": [
    "def violations(lb):\n",
    "    return (dists_target < lb).sum() / len(dists_target)\n",
    "violations_tet = violations(tet_lb)\n",
    "violations_pto = violations(pto_n)\n",
    "violations_tet, violations_pto"
   ]
  },
  {
   "cell_type": "code",
   "execution_count": null,
   "id": "793b64f9a0d8ac8",
   "metadata": {
    "ExecuteTime": {
     "end_time": "2024-06-21T08:07:51.536414Z",
     "start_time": "2024-06-21T08:07:51.424206Z"
    }
   },
   "outputs": [],
   "source": [
    "plt.hist(pto_n - tet_lb, bins=100);"
   ]
  },
  {
   "cell_type": "code",
   "execution_count": null,
   "id": "466e0b22594256cc",
   "metadata": {
    "ExecuteTime": {
     "end_time": "2024-06-21T08:07:53.544777Z",
     "start_time": "2024-06-21T08:07:53.459272Z"
    }
   },
   "outputs": [],
   "source": [
    "plt.hist(dists_target - tet_lb, histtype=\"step\", bins=100);\n",
    "#plt.hist(tet_ub - dists_target, histtype=\"step\");"
   ]
  },
  {
   "cell_type": "code",
   "execution_count": null,
   "id": "900f94a90925e8aa",
   "metadata": {
    "ExecuteTime": {
     "end_time": "2024-04-15T07:22:04.568722Z",
     "start_time": "2024-04-15T07:22:04.436088Z"
    }
   },
   "outputs": [],
   "source": [
    "problems = np.abs(dists_target - my_lb_n) > 0.01\n",
    "ppoints = points[problems,:,:]\n",
    "\n",
    "plt.plot(*ppoints[0][:2].T)\n",
    "for p in ppoints[0]:\n",
    "    plt.plot(*p, \"o\")\n",
    "    \n",
    "plt.show()"
   ]
  },
  {
   "cell_type": "code",
   "execution_count": null,
   "id": "4965d5c3c2e6f420",
   "metadata": {},
   "outputs": [],
   "source": []
  }
 ],
 "metadata": {
  "kernelspec": {
   "display_name": "Python 3 (ipykernel)",
   "language": "python",
   "name": "python3"
  },
  "language_info": {
   "codemirror_mode": {
    "name": "ipython",
    "version": 3
   },
   "file_extension": ".py",
   "mimetype": "text/x-python",
   "name": "python",
   "nbconvert_exporter": "python",
   "pygments_lexer": "ipython3",
   "version": "3.12.4"
  }
 },
 "nbformat": 4,
 "nbformat_minor": 5
}
