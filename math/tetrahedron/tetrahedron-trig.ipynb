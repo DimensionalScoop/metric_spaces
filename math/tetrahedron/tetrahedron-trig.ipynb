{
 "cells": [
  {
   "cell_type": "code",
   "id": "initial_id",
   "metadata": {
    "collapsed": true,
    "ExecuteTime": {
     "end_time": "2024-04-11T12:31:47.392754Z",
     "start_time": "2024-04-11T12:31:47.390031Z"
    }
   },
   "source": [
    "import numpy as np\n",
    "from sympy import *\n",
    "#from algebra_with_sympy import *\n",
    "\n",
    "init_printing(use_latex='mathjax')\n",
    "\n",
    "dist_prop = dict(real=True, positive=True)\n",
    "# generic symbols\n",
    "A, s, a, b, c, h = symbols(\"A s a b c h\", **dist_prop)"
   ],
   "outputs": [],
   "execution_count": 2
  },
  {
   "metadata": {
    "ExecuteTime": {
     "end_time": "2024-04-11T12:32:18.177573Z",
     "start_time": "2024-04-11T12:32:18.173648Z"
    }
   },
   "cell_type": "code",
   "source": [
    "# the two resulting triangles have a shared base p0-p1 of length p\n",
    "p = symbols(\"p\", **dist_prop)\n",
    "\n",
    "# the query triangle has these other sides:\n",
    "q_0, q_1 = symbols(\"q:2\", **dist_prop)\n",
    "\n",
    "# dito for the object triangle\n",
    "o_0, o_1 = symbols(\"o:2\", **dist_prop)"
   ],
   "id": "6e33b2369f2a766e",
   "outputs": [],
   "execution_count": 3
  },
  {
   "metadata": {
    "ExecuteTime": {
     "end_time": "2024-04-11T12:49:40.213020Z",
     "start_time": "2024-04-11T12:49:40.119458Z"
    }
   },
   "cell_type": "code",
   "source": [
    "angle_q0_p = asin((q_0**2 + p**2 - q_1**2)/2/q_1/p)\n",
    "angle_o0_p = angle_q0_p.subs({q_0:o_0, q_1:o_1})\n",
    "\n",
    "point_q_x = q_0 * sin(angle_q0_p) - o_0 * sin(angle_o0_p)\n",
    "point_q_y = q_0 * cos(angle_q0_p) - o_0 * cos(angle_o0_p)\n",
    "dist = sqrt(point_q_x**2 + point_q_y**2)\n",
    "dist = simplify(dist)"
   ],
   "id": "7cf02758f54f2573",
   "outputs": [],
   "execution_count": 26
  },
  {
   "metadata": {
    "ExecuteTime": {
     "end_time": "2024-04-11T12:49:43.510456Z",
     "start_time": "2024-04-11T12:49:43.496342Z"
    }
   },
   "cell_type": "code",
   "source": "angle_q0_p.subs(trih)",
   "id": "6e6be11ead81da0",
   "outputs": [
    {
     "data": {
      "text/plain": [
       "1.5707963267949 - 0.993571429294217⋅ⅈ"
      ],
      "text/latex": "$\\displaystyle 1.5707963267949 - 0.993571429294217 i$"
     },
     "execution_count": 27,
     "metadata": {},
     "output_type": "execute_result"
    }
   ],
   "execution_count": 27
  },
  {
   "metadata": {
    "ExecuteTime": {
     "end_time": "2024-04-11T12:43:18.926700Z",
     "start_time": "2024-04-11T12:43:18.909374Z"
    }
   },
   "cell_type": "code",
   "source": [
    "# test with a \"hard\" triangle\n",
    "trih = {\n",
    "    p:32.44996148,\n",
    "    q_0:65.76473219,\n",
    "    q_1:38.83297568,\n",
    "    o_0:64.5368112 ,\n",
    "    o_1:36.22154055,\n",
    "}\n",
    "angle_q0_p.subs(trih)\n",
    "#print(dist.subs(trih))\n",
    "#assert np.allclose(float(dist.subs(trih)), 4.47, atol=precision)"
   ],
   "id": "5a366567831ffc5e",
   "outputs": [
    {
     "data": {
      "text/plain": [
       "0.993571429294217⋅ⅈ"
      ],
      "text/latex": "$\\displaystyle 0.993571429294217 i$"
     },
     "execution_count": 23,
     "metadata": {},
     "output_type": "execute_result"
    }
   ],
   "execution_count": 23
  }
 ],
 "metadata": {
  "kernelspec": {
   "display_name": "Python 3",
   "language": "python",
   "name": "python3"
  },
  "language_info": {
   "codemirror_mode": {
    "name": "ipython",
    "version": 2
   },
   "file_extension": ".py",
   "mimetype": "text/x-python",
   "name": "python",
   "nbconvert_exporter": "python",
   "pygments_lexer": "ipython2",
   "version": "2.7.6"
  }
 },
 "nbformat": 4,
 "nbformat_minor": 5
}
