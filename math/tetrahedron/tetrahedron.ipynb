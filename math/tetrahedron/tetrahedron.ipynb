{
 "cells": [
  {
   "cell_type": "code",
   "id": "initial_id",
   "metadata": {
    "collapsed": true,
    "ExecuteTime": {
     "end_time": "2024-04-15T07:21:58.996799Z",
     "start_time": "2024-04-15T07:21:58.991861Z"
    }
   },
   "source": [
    "\"\"\"Some important Ptolemaic metric spaces are 4-embeddable into R^3.\n",
    "Connor mentions a tetrahedron lower bound: When all but one distances\n",
    "between four points are known, the last one can be lower bounded as the\n",
    "shortest side of a tetrahedron. This would be a degenerate tetrahedron,\n",
    "with the two known triangles sharing one side and lying in the same plane.\n",
    "\"\"\""
   ],
   "outputs": [
    {
     "data": {
      "text/plain": [
       "'Some important Ptolemaic metric spaces are 4-embeddable into R^3.\\nConnor mentions a tetrahedron lower bound: When all but one distances\\nbetween four points are known, the last one can be lower bounded as the\\nshortest side of a tetrahedron. This would be a degenerate tetrahedron,\\nwith the two known triangles sharing one side and lying in the same plane.\\n'"
      ]
     },
     "execution_count": 1,
     "metadata": {},
     "output_type": "execute_result"
    }
   ],
   "execution_count": 1
  },
  {
   "metadata": {
    "ExecuteTime": {
     "end_time": "2024-04-15T07:21:59.427559Z",
     "start_time": "2024-04-15T07:21:59.018295Z"
    }
   },
   "cell_type": "code",
   "source": [
    "import numpy as np\n",
    "from sympy import *\n",
    "#from algebra_with_sympy import *\n",
    "\n",
    "init_printing(use_latex='mathjax')\n",
    "\n",
    "dist_prop = dict(real=True, positive=True)\n",
    "# generic symbols\n",
    "A, s, a, b, c, h = symbols(\"A s a b c h\", **dist_prop)\n",
    "\n",
    "# Heron\n",
    "semiperimeter = {s: (a + b + c) / 2}\n",
    "area = sqrt(s * (s - a) * (s - b) * (s - c))\n",
    "\n",
    "height_over_a = 2 / a * area.subs(semiperimeter)\n",
    "\n",
    "area, semiperimeter"
   ],
   "id": "720e49f562f57972",
   "outputs": [
    {
     "data": {
      "text/plain": [
       "⎛     ____________________________  ⎧   a   b   c⎫⎞\n",
       "⎜√s⋅╲╱ (-a + s)⋅(-b + s)⋅(-c + s) , ⎨s: ─ + ─ + ─⎬⎟\n",
       "⎝                                   ⎩   2   2   2⎭⎠"
      ],
      "text/latex": "$\\displaystyle \\left( \\sqrt{s} \\sqrt{\\left(- a + s\\right) \\left(- b + s\\right) \\left(- c + s\\right)}, \\  \\left\\{ s : \\frac{a}{2} + \\frac{b}{2} + \\frac{c}{2}\\right\\}\\right)$"
     },
     "execution_count": 2,
     "metadata": {},
     "output_type": "execute_result"
    }
   ],
   "execution_count": 2
  },
  {
   "metadata": {},
   "cell_type": "markdown",
   "source": "![](img.png)",
   "id": "5a1dddb385ed4598"
  },
  {
   "metadata": {},
   "cell_type": "markdown",
   "source": "",
   "id": "20f357abe27eedc0"
  },
  {
   "metadata": {
    "ExecuteTime": {
     "end_time": "2024-04-15T07:21:59.454873Z",
     "start_time": "2024-04-15T07:21:59.428413Z"
    }
   },
   "cell_type": "code",
   "source": [
    "# we have two pivots, a query (center) and an object\n",
    "# we want to lower bound d(q,o)\n",
    "# we know all other distances\n",
    "\n",
    "# the two resulting triangles have a shared base p0-p1 of length p\n",
    "p = symbols(\"p\", **dist_prop)\n",
    "\n",
    "# the query triangle has these other sides:\n",
    "q_0, q_1 = symbols(\"q:2\", **dist_prop)\n",
    "\n",
    "# dito for the object triangle\n",
    "o_0, o_1 = symbols(\"o:2\", **dist_prop)\n",
    "\n",
    "# these triangles have heights that we can infer via Heron\n",
    "h_q = height_over_a.subs({\n",
    "    a: p, b: q_0, c: q_1\n",
    "})\n",
    "h_o = height_over_a.subs({\n",
    "    a: p, b: o_0, c: o_1\n",
    "})\n",
    "\n",
    "# the height \"bisects\" the shared base at these lengths:\n",
    "m_q0 = sqrt(q_0**2 - h_q**2)\n",
    "m_o0 = sqrt(o_0**2 - h_o**2)\n",
    "\n",
    "m_q1 = sqrt(q_1**2 - h_q**2)\n",
    "m_o1 = sqrt(o_1**2 - h_o**2)\n",
    "\n",
    "m_q0, m_o0"
   ],
   "id": "9076f83df920d5c9",
   "outputs": [
    {
     "data": {
      "text/plain": [
       "⎛       ___________________________________________________________________   \n",
       "⎜      ╱         ⎛  p   q₀   q₁⎞ ⎛p   q₀   q₁⎞ ⎛p   q₀   q₁⎞ ⎛p   q₀   q₁⎞    \n",
       "⎜     ╱        4⋅⎜- ─ + ── + ──⎟⋅⎜─ - ── + ──⎟⋅⎜─ + ── - ──⎟⋅⎜─ + ── + ──⎟    \n",
       "⎜    ╱     2     ⎝  2   2    2 ⎠ ⎝2   2    2 ⎠ ⎝2   2    2 ⎠ ⎝2   2    2 ⎠    \n",
       "⎜   ╱    q₀  - ─────────────────────────────────────────────────────────── ,  \n",
       "⎜  ╱                                         2                                \n",
       "⎝╲╱                                         p                                ╲\n",
       "\n",
       "      ___________________________________________________________________⎞\n",
       "     ╱         ⎛  o₀   o₁   p⎞ ⎛o₀   o₁   p⎞ ⎛o₀   o₁   p⎞ ⎛o₀   o₁   p⎞ ⎟\n",
       "    ╱        4⋅⎜- ── + ── + ─⎟⋅⎜── - ── + ─⎟⋅⎜── + ── - ─⎟⋅⎜── + ── + ─⎟ ⎟\n",
       "   ╱     2     ⎝  2    2    2⎠ ⎝2    2    2⎠ ⎝2    2    2⎠ ⎝2    2    2⎠ ⎟\n",
       "  ╱    o₀  - ─────────────────────────────────────────────────────────── ⎟\n",
       " ╱                                         2                             ⎟\n",
       "╱                                         p                              ⎠"
      ],
      "text/latex": "$\\displaystyle \\left( \\sqrt{q_{0}^{2} - \\frac{4 \\left(- \\frac{p}{2} + \\frac{q_{0}}{2} + \\frac{q_{1}}{2}\\right) \\left(\\frac{p}{2} - \\frac{q_{0}}{2} + \\frac{q_{1}}{2}\\right) \\left(\\frac{p}{2} + \\frac{q_{0}}{2} - \\frac{q_{1}}{2}\\right) \\left(\\frac{p}{2} + \\frac{q_{0}}{2} + \\frac{q_{1}}{2}\\right)}{p^{2}}}, \\  \\sqrt{o_{0}^{2} - \\frac{4 \\left(- \\frac{o_{0}}{2} + \\frac{o_{1}}{2} + \\frac{p}{2}\\right) \\left(\\frac{o_{0}}{2} - \\frac{o_{1}}{2} + \\frac{p}{2}\\right) \\left(\\frac{o_{0}}{2} + \\frac{o_{1}}{2} - \\frac{p}{2}\\right) \\left(\\frac{o_{0}}{2} + \\frac{o_{1}}{2} + \\frac{p}{2}\\right)}{p^{2}}}\\right)$"
     },
     "execution_count": 3,
     "metadata": {},
     "output_type": "execute_result"
    }
   ],
   "execution_count": 3
  },
  {
   "metadata": {
    "ExecuteTime": {
     "end_time": "2024-04-15T07:21:59.466326Z",
     "start_time": "2024-04-15T07:21:59.455595Z"
    }
   },
   "cell_type": "code",
   "source": "h_q",
   "id": "d9b777f8c7cb4bbe",
   "outputs": [
    {
     "data": {
      "text/plain": [
       "      _____________________________________________     _____________\n",
       "     ╱ ⎛  p   q₀   q₁⎞ ⎛p   q₀   q₁⎞ ⎛p   q₀   q₁⎞     ╱ p   q₀   q₁ \n",
       "2⋅  ╱  ⎜- ─ + ── + ──⎟⋅⎜─ - ── + ──⎟⋅⎜─ + ── - ──⎟ ⋅  ╱  ─ + ── + ── \n",
       "  ╲╱   ⎝  2   2    2 ⎠ ⎝2   2    2 ⎠ ⎝2   2    2 ⎠  ╲╱   2   2    2  \n",
       "─────────────────────────────────────────────────────────────────────\n",
       "                                  p                                  "
      ],
      "text/latex": "$\\displaystyle \\frac{2 \\sqrt{\\left(- \\frac{p}{2} + \\frac{q_{0}}{2} + \\frac{q_{1}}{2}\\right) \\left(\\frac{p}{2} - \\frac{q_{0}}{2} + \\frac{q_{1}}{2}\\right) \\left(\\frac{p}{2} + \\frac{q_{0}}{2} - \\frac{q_{1}}{2}\\right)} \\sqrt{\\frac{p}{2} + \\frac{q_{0}}{2} + \\frac{q_{1}}{2}}}{p}$"
     },
     "execution_count": 4,
     "metadata": {},
     "output_type": "execute_result"
    }
   ],
   "execution_count": 4
  },
  {
   "metadata": {
    "ExecuteTime": {
     "end_time": "2024-04-15T07:21:59.497326Z",
     "start_time": "2024-04-15T07:21:59.467914Z"
    }
   },
   "cell_type": "code",
   "source": [
    "# We know the height of the triangle w.r.t. q.\n",
    "# Let's figure out the \"width\" or the \"x-position\" of the point q.\n",
    "\n",
    "# Let q_0 be on the left and q_1 be on the right.\n",
    "# If the triangle is acute:\n",
    "m_ac = m_q0\n",
    "\n",
    "# If the triangle is obtuse, we have two cases:\n",
    "# One where the point is to the left:\n",
    "m_ob_left = -m_q0\n",
    "# And one where the point is to the right:\n",
    "m_ob_right = m_q0 # which is identical to m_ac\n",
    "\n",
    "# left obtuse means that q_1 has to be the longest side and\n",
    "# that q_1**2 > p**2 + q_1**2\n",
    "m_q = Piecewise(\n",
    "    (m_ob_left,  q_1**2 > p**2 + q_0**2), # And(And(q_1 > p, q_1 > q_0) ,\n",
    "    (m_ac, True)\n",
    ")\n",
    "\n",
    "m_o = m_q.subs({m_q0:m_o0, q_0:o_0, q_1:o_1})\n",
    "m_o"
   ],
   "id": "f73699fb3c7543f1",
   "outputs": [
    {
     "data": {
      "text/plain": [
       "⎧        ___________________________________________________________________  \n",
       "⎪       ╱         ⎛  o₀   o₁   p⎞ ⎛o₀   o₁   p⎞ ⎛o₀   o₁   p⎞ ⎛o₀   o₁   p⎞   \n",
       "⎪      ╱        4⋅⎜- ── + ── + ─⎟⋅⎜── - ── + ─⎟⋅⎜── + ── - ─⎟⋅⎜── + ── + ─⎟   \n",
       "⎪     ╱     2     ⎝  2    2    2⎠ ⎝2    2    2⎠ ⎝2    2    2⎠ ⎝2    2    2⎠   \n",
       "⎪-   ╱    o₀  - ───────────────────────────────────────────────────────────   \n",
       "⎪   ╱                                         2                               \n",
       "⎪ ╲╱                                         p                                \n",
       "⎨                                                                             \n",
       "⎪       ___________________________________________________________________   \n",
       "⎪      ╱         ⎛  o₀   o₁   p⎞ ⎛o₀   o₁   p⎞ ⎛o₀   o₁   p⎞ ⎛o₀   o₁   p⎞    \n",
       "⎪     ╱        4⋅⎜- ── + ── + ─⎟⋅⎜── - ── + ─⎟⋅⎜── + ── - ─⎟⋅⎜── + ── + ─⎟    \n",
       "⎪    ╱     2     ⎝  2    2    2⎠ ⎝2    2    2⎠ ⎝2    2    2⎠ ⎝2    2    2⎠    \n",
       "⎪   ╱    o₀  - ───────────────────────────────────────────────────────────    \n",
       "⎪  ╱                                         2                                \n",
       "⎩╲╱                                         p                                 \n",
       "\n",
       "                  \n",
       "                  \n",
       "                  \n",
       "      2     2    2\n",
       "for o₁  > o₀  + p \n",
       "                  \n",
       "                  \n",
       "                  \n",
       "                  \n",
       "                  \n",
       "                  \n",
       "                  \n",
       "    otherwise     \n",
       "                  \n",
       "                  "
      ],
      "text/latex": "$\\displaystyle \\begin{cases} - \\sqrt{o_{0}^{2} - \\frac{4 \\left(- \\frac{o_{0}}{2} + \\frac{o_{1}}{2} + \\frac{p}{2}\\right) \\left(\\frac{o_{0}}{2} - \\frac{o_{1}}{2} + \\frac{p}{2}\\right) \\left(\\frac{o_{0}}{2} + \\frac{o_{1}}{2} - \\frac{p}{2}\\right) \\left(\\frac{o_{0}}{2} + \\frac{o_{1}}{2} + \\frac{p}{2}\\right)}{p^{2}}} & \\text{for}\\: o_{1}^{2} > o_{0}^{2} + p^{2} \\\\\\sqrt{o_{0}^{2} - \\frac{4 \\left(- \\frac{o_{0}}{2} + \\frac{o_{1}}{2} + \\frac{p}{2}\\right) \\left(\\frac{o_{0}}{2} - \\frac{o_{1}}{2} + \\frac{p}{2}\\right) \\left(\\frac{o_{0}}{2} + \\frac{o_{1}}{2} - \\frac{p}{2}\\right) \\left(\\frac{o_{0}}{2} + \\frac{o_{1}}{2} + \\frac{p}{2}\\right)}{p^{2}}} & \\text{otherwise} \\end{cases}$"
     },
     "execution_count": 5,
     "metadata": {},
     "output_type": "execute_result"
    }
   ],
   "execution_count": 5
  },
  {
   "metadata": {
    "ExecuteTime": {
     "end_time": "2024-04-15T07:22:00.398441Z",
     "start_time": "2024-04-15T07:21:59.498582Z"
    }
   },
   "cell_type": "code",
   "source": [
    "# construct the right triangle which hypotenuse of length d connects q and o\n",
    "# from h and m s\n",
    "\n",
    "# we know that one of these two should be the actual distance\n",
    "dist = (h_q - h_o) ** 2 + (m_q - m_o) ** 2 # = d**2\n",
    "dist = sqrt(dist)\n",
    "simplify(dist**2)"
   ],
   "id": "fe710660f1ea9725",
   "outputs": [
    {
     "data": {
      "text/plain": [
       "⎧                                                                             \n",
       "⎪                                                                             \n",
       "⎪⎛  ____________________________________________   _____________     _________\n",
       "⎪⎝╲╱ (-o₀ + o₁ + p)⋅(o₀ - o₁ + p)⋅(o₀ + o₁ - p) ⋅╲╱ o₀ + o₁ + p  - ╲╱ (-p + q₀\n",
       "⎪─────────────────────────────────────────────────────────────────────────────\n",
       "⎪                                                                             \n",
       "⎪                                                                             \n",
       "⎪                                                                             \n",
       "⎪                                                                             \n",
       "⎪                                                                             \n",
       "⎪⎛  ____________________________________________   _____________     _________\n",
       "⎨⎝╲╱ (-o₀ + o₁ + p)⋅(o₀ - o₁ + p)⋅(o₀ + o₁ - p) ⋅╲╱ o₀ + o₁ + p  - ╲╱ (-p + q₀\n",
       "⎪─────────────────────────────────────────────────────────────────────────────\n",
       "⎪                                                                             \n",
       "⎪                                                                             \n",
       "⎪                                                                             \n",
       "⎪                                                                             \n",
       "⎪                                                                             \n",
       "⎪⎛  ____________________________________________   _____________     _________\n",
       "⎪⎝╲╱ (-o₀ + o₁ + p)⋅(o₀ - o₁ + p)⋅(o₀ + o₁ - p) ⋅╲╱ o₀ + o₁ + p  - ╲╱ (-p + q₀\n",
       "⎪─────────────────────────────────────────────────────────────────────────────\n",
       "⎪                                                                             \n",
       "⎩                                                                             \n",
       "\n",
       "                                                                              \n",
       "                                                    2   ⎛   __________________\n",
       "___________________________________   _____________⎞    ⎜  ╱     2  2         \n",
       " + q₁)⋅(p - q₀ + q₁)⋅(p + q₀ - q₁) ⋅╲╱ p + q₀ + q₁ ⎠  + ⎝╲╱  4⋅o₀ ⋅p  - (-o₀ +\n",
       "──────────────────────────────────────────────────────────────────────────────\n",
       "                                                                  2           \n",
       "                                                               4⋅p            \n",
       "                                                                              \n",
       "                                                                              \n",
       "                                                    2   ⎛   __________________\n",
       "___________________________________   _____________⎞    ⎜  ╱     2  2         \n",
       " + q₁)⋅(p - q₀ + q₁)⋅(p + q₀ - q₁) ⋅╲╱ p + q₀ + q₁ ⎠  + ⎝╲╱  4⋅o₀ ⋅p  - (-o₀ +\n",
       "──────────────────────────────────────────────────────────────────────────────\n",
       "                                                                  2           \n",
       "                                                               4⋅p            \n",
       "                                                                              \n",
       "                                                                              \n",
       "                                                    2   ⎛   __________________\n",
       "___________________________________   _____________⎞    ⎜  ╱     2  2         \n",
       " + q₁)⋅(p - q₀ + q₁)⋅(p + q₀ - q₁) ⋅╲╱ p + q₀ + q₁ ⎠  + ⎝╲╱  4⋅o₀ ⋅p  - (-o₀ +\n",
       "──────────────────────────────────────────────────────────────────────────────\n",
       "                                                                  2           \n",
       "                                                               4⋅p            \n",
       "\n",
       "                                                                              \n",
       "___________________________________________________      _____________________\n",
       "                                                        ╱    2   2            \n",
       " o₁ + p)⋅(o₀ - o₁ + p)⋅(o₀ + o₁ - p)⋅(o₀ + o₁ + p)  - ╲╱  4⋅p ⋅q₀  - (-p + q₀ \n",
       "──────────────────────────────────────────────────────────────────────────────\n",
       "                                                                              \n",
       "                                                                              \n",
       "                                                                              \n",
       "                                                                              \n",
       "___________________________________________________      _____________________\n",
       "                                                        ╱    2   2            \n",
       " o₁ + p)⋅(o₀ - o₁ + p)⋅(o₀ + o₁ - p)⋅(o₀ + o₁ + p)  + ╲╱  4⋅p ⋅q₀  - (-p + q₀ \n",
       "──────────────────────────────────────────────────────────────────────────────\n",
       "                                                                              \n",
       "                                                                              \n",
       "                                                                              \n",
       "                                                                              \n",
       "___________________________________________________      _____________________\n",
       "                                                        ╱    2   2            \n",
       " o₁ + p)⋅(o₀ - o₁ + p)⋅(o₀ + o₁ - p)⋅(o₀ + o₁ + p)  - ╲╱  4⋅p ⋅q₀  - (-p + q₀ \n",
       "──────────────────────────────────────────────────────────────────────────────\n",
       "                                                                              \n",
       "                                                                              \n",
       "\n",
       "                                                 2                            \n",
       "________________________________________________⎞                             \n",
       "                                                ⎟                             \n",
       "+ q₁)⋅(p - q₀ + q₁)⋅(p + q₀ - q₁)⋅(p + q₀ + q₁) ⎠         2     2    2     2  \n",
       "──────────────────────────────────────────────────  for o₁  > o₀  + p  ∧ q₁  >\n",
       "                                                                              \n",
       "                                                                              \n",
       "                                                                              \n",
       "                                                 2                            \n",
       "________________________________________________⎞                             \n",
       "                                                ⎟                             \n",
       "+ q₁)⋅(p - q₀ + q₁)⋅(p + q₀ - q₁)⋅(p + q₀ + q₁) ⎠         2     2    2     2  \n",
       "──────────────────────────────────────────────────  for o₁  > o₀  + p  ∨ q₁  >\n",
       "                                                                              \n",
       "                                                                              \n",
       "                                                                              \n",
       "                                                 2                            \n",
       "________________________________________________⎞                             \n",
       "                                                ⎟                             \n",
       "+ q₁)⋅(p - q₀ + q₁)⋅(p + q₀ - q₁)⋅(p + q₀ + q₁) ⎠                             \n",
       "──────────────────────────────────────────────────               otherwise    \n",
       "                                                                              \n",
       "                                                                              \n",
       "\n",
       "         \n",
       "         \n",
       "         \n",
       "  2     2\n",
       " p  + q₀ \n",
       "         \n",
       "         \n",
       "         \n",
       "         \n",
       "         \n",
       "         \n",
       "  2     2\n",
       " p  + q₀ \n",
       "         \n",
       "         \n",
       "         \n",
       "         \n",
       "         \n",
       "         \n",
       "         \n",
       "         \n",
       "         \n",
       "         "
      ],
      "text/latex": "$\\displaystyle \\begin{cases} \\frac{\\left(\\sqrt{\\left(- o_{0} + o_{1} + p\\right) \\left(o_{0} - o_{1} + p\\right) \\left(o_{0} + o_{1} - p\\right)} \\sqrt{o_{0} + o_{1} + p} - \\sqrt{\\left(- p + q_{0} + q_{1}\\right) \\left(p - q_{0} + q_{1}\\right) \\left(p + q_{0} - q_{1}\\right)} \\sqrt{p + q_{0} + q_{1}}\\right)^{2} + \\left(\\sqrt{4 o_{0}^{2} p^{2} - \\left(- o_{0} + o_{1} + p\\right) \\left(o_{0} - o_{1} + p\\right) \\left(o_{0} + o_{1} - p\\right) \\left(o_{0} + o_{1} + p\\right)} - \\sqrt{4 p^{2} q_{0}^{2} - \\left(- p + q_{0} + q_{1}\\right) \\left(p - q_{0} + q_{1}\\right) \\left(p + q_{0} - q_{1}\\right) \\left(p + q_{0} + q_{1}\\right)}\\right)^{2}}{4 p^{2}} & \\text{for}\\: o_{1}^{2} > o_{0}^{2} + p^{2} \\wedge q_{1}^{2} > p^{2} + q_{0}^{2} \\\\\\frac{\\left(\\sqrt{\\left(- o_{0} + o_{1} + p\\right) \\left(o_{0} - o_{1} + p\\right) \\left(o_{0} + o_{1} - p\\right)} \\sqrt{o_{0} + o_{1} + p} - \\sqrt{\\left(- p + q_{0} + q_{1}\\right) \\left(p - q_{0} + q_{1}\\right) \\left(p + q_{0} - q_{1}\\right)} \\sqrt{p + q_{0} + q_{1}}\\right)^{2} + \\left(\\sqrt{4 o_{0}^{2} p^{2} - \\left(- o_{0} + o_{1} + p\\right) \\left(o_{0} - o_{1} + p\\right) \\left(o_{0} + o_{1} - p\\right) \\left(o_{0} + o_{1} + p\\right)} + \\sqrt{4 p^{2} q_{0}^{2} - \\left(- p + q_{0} + q_{1}\\right) \\left(p - q_{0} + q_{1}\\right) \\left(p + q_{0} - q_{1}\\right) \\left(p + q_{0} + q_{1}\\right)}\\right)^{2}}{4 p^{2}} & \\text{for}\\: o_{1}^{2} > o_{0}^{2} + p^{2} \\vee q_{1}^{2} > p^{2} + q_{0}^{2} \\\\\\frac{\\left(\\sqrt{\\left(- o_{0} + o_{1} + p\\right) \\left(o_{0} - o_{1} + p\\right) \\left(o_{0} + o_{1} - p\\right)} \\sqrt{o_{0} + o_{1} + p} - \\sqrt{\\left(- p + q_{0} + q_{1}\\right) \\left(p - q_{0} + q_{1}\\right) \\left(p + q_{0} - q_{1}\\right)} \\sqrt{p + q_{0} + q_{1}}\\right)^{2} + \\left(\\sqrt{4 o_{0}^{2} p^{2} - \\left(- o_{0} + o_{1} + p\\right) \\left(o_{0} - o_{1} + p\\right) \\left(o_{0} + o_{1} - p\\right) \\left(o_{0} + o_{1} + p\\right)} - \\sqrt{4 p^{2} q_{0}^{2} - \\left(- p + q_{0} + q_{1}\\right) \\left(p - q_{0} + q_{1}\\right) \\left(p + q_{0} - q_{1}\\right) \\left(p + q_{0} + q_{1}\\right)}\\right)^{2}}{4 p^{2}} & \\text{otherwise} \\end{cases}$"
     },
     "execution_count": 6,
     "metadata": {},
     "output_type": "execute_result"
    }
   ],
   "execution_count": 6
  },
  {
   "metadata": {
    "ExecuteTime": {
     "end_time": "2024-04-15T07:22:00.428043Z",
     "start_time": "2024-04-15T07:22:00.399417Z"
    }
   },
   "cell_type": "code",
   "source": [
    "# we can also find an upper bound this way:\n",
    "# arrange the triangles so that one height is positive and one is negative:\n",
    "dist_ub = (h_q + h_o)**2 + (m_q - m_o)**2\n",
    "dist_ub = sqrt(dist_ub)\n",
    "dist_ub"
   ],
   "id": "b34d35f46299430b",
   "outputs": [
    {
     "data": {
      "text/plain": [
       "                 _____________________________________________________________\n",
       "                ╱                                                             \n",
       "               ╱                                                              \n",
       "              ╱                                                               \n",
       "             ╱                                                                \n",
       "            ╱     ⎛      _____________________________________________     ___\n",
       "           ╱      ⎜     ╱ ⎛  o₀   o₁   p⎞ ⎛o₀   o₁   p⎞ ⎛o₀   o₁   p⎞     ╱ o₀\n",
       "          ╱       ⎜2⋅  ╱  ⎜- ── + ── + ─⎟⋅⎜── - ── + ─⎟⋅⎜── + ── - ─⎟ ⋅  ╱  ──\n",
       "         ╱        ⎜  ╲╱   ⎝  2    2    2⎠ ⎝2    2    2⎠ ⎝2    2    2⎠  ╲╱   2 \n",
       "        ╱         ⎜───────────────────────────────────────────────────────────\n",
       "       ╱          ⎝                                  p                        \n",
       "      ╱                                                                       \n",
       "     ╱                                                                        \n",
       "    ╱                                                                         \n",
       "   ╱                                                                          \n",
       "  ╱                                                                           \n",
       "╲╱                                                                            \n",
       "\n",
       "______________________________________________________________________________\n",
       "                                                                              \n",
       "                                                                              \n",
       "                                                                              \n",
       "                                                                              \n",
       "__________         _____________________________________________     _________\n",
       "   o₁   p         ╱ ⎛  p   q₀   q₁⎞ ⎛p   q₀   q₁⎞ ⎛p   q₀   q₁⎞     ╱ p   q₀  \n",
       " + ── + ─    2⋅  ╱  ⎜- ─ + ── + ──⎟⋅⎜─ - ── + ──⎟⋅⎜─ + ── - ──⎟ ⋅  ╱  ─ + ── +\n",
       "   2    2      ╲╱   ⎝  2   2    2 ⎠ ⎝2   2    2 ⎠ ⎝2   2    2 ⎠  ╲╱   2   2   \n",
       "────────── + ─────────────────────────────────────────────────────────────────\n",
       "                                               p                              \n",
       "                                                                              \n",
       "                                                                              \n",
       "                                                                              \n",
       "                                                                              \n",
       "                                                                              \n",
       "                                                                              \n",
       "\n",
       "______________________________________________________________________________\n",
       "                                                                              \n",
       "         ⎛  ⎛⎧        ________________________________________________________\n",
       "         ⎜  ⎜⎪       ╱         ⎛  o₀   o₁   p⎞ ⎛o₀   o₁   p⎞ ⎛o₀   o₁   p⎞ ⎛o₀\n",
       "     2   ⎜  ⎜⎪      ╱        4⋅⎜- ── + ── + ─⎟⋅⎜── - ── + ─⎟⋅⎜── + ── - ─⎟⋅⎜──\n",
       "____⎞    ⎜  ⎜⎪     ╱     2     ⎝  2    2    2⎠ ⎝2    2    2⎠ ⎝2    2    2⎠ ⎝2 \n",
       " q₁ ⎟    ⎜  ⎜⎪-   ╱    o₀  - ─────────────────────────────────────────────────\n",
       " ── ⎟    ⎜  ⎜⎪   ╱                                         2                  \n",
       " 2  ⎟    ⎜  ⎜⎪ ╲╱                                         p                   \n",
       "────⎟  + ⎜- ⎜⎨                                                                \n",
       "    ⎠    ⎜  ⎜⎪       _________________________________________________________\n",
       "         ⎜  ⎜⎪      ╱         ⎛  o₀   o₁   p⎞ ⎛o₀   o₁   p⎞ ⎛o₀   o₁   p⎞ ⎛o₀ \n",
       "         ⎜  ⎜⎪     ╱        4⋅⎜- ── + ── + ─⎟⋅⎜── - ── + ─⎟⋅⎜── + ── - ─⎟⋅⎜── \n",
       "         ⎜  ⎜⎪    ╱     2     ⎝  2    2    2⎠ ⎝2    2    2⎠ ⎝2    2    2⎠ ⎝2  \n",
       "         ⎜  ⎜⎪   ╱    o₀  - ──────────────────────────────────────────────────\n",
       "         ⎜  ⎜⎪  ╱                                         2                   \n",
       "         ⎝  ⎝⎩╲╱                                         p                    \n",
       "\n",
       "______________________________________________________________________________\n",
       "                                                                              \n",
       "___________                    ⎞   ⎛⎧        _________________________________\n",
       "   o₁   p⎞                     ⎟   ⎜⎪       ╱         ⎛  p   q₀   q₁⎞ ⎛p   q₀ \n",
       " + ── + ─⎟                     ⎟   ⎜⎪      ╱        4⋅⎜- ─ + ── + ──⎟⋅⎜─ - ── \n",
       "   2    2⎠         2     2    2⎟   ⎜⎪     ╱     2     ⎝  2   2    2 ⎠ ⎝2   2  \n",
       "──────────   for o₁  > o₀  + p ⎟   ⎜⎪-   ╱    q₀  - ──────────────────────────\n",
       "                               ⎟   ⎜⎪   ╱                                     \n",
       "                               ⎟   ⎜⎪ ╲╱                                      \n",
       "                               ⎟ + ⎜⎨                                         \n",
       "__________                     ⎟   ⎜⎪       __________________________________\n",
       "  o₁   p⎞                      ⎟   ⎜⎪      ╱         ⎛  p   q₀   q₁⎞ ⎛p   q₀  \n",
       "+ ── + ─⎟                      ⎟   ⎜⎪     ╱        4⋅⎜- ─ + ── + ──⎟⋅⎜─ - ── +\n",
       "  2    2⎠                      ⎟   ⎜⎪    ╱     2     ⎝  2   2    2 ⎠ ⎝2   2   \n",
       "─────────        otherwise     ⎟   ⎜⎪   ╱    q₀  - ───────────────────────────\n",
       "                               ⎟   ⎜⎪  ╱                                      \n",
       "                               ⎠   ⎝⎩╲╱                                       \n",
       "\n",
       "__________________________________________________________\n",
       "                                                        2 \n",
       "__________________________________                    ⎞⎞  \n",
       "  q₁⎞ ⎛p   q₀   q₁⎞ ⎛p   q₀   q₁⎞                     ⎟⎟  \n",
       "+ ──⎟⋅⎜─ + ── - ──⎟⋅⎜─ + ── + ──⎟                     ⎟⎟  \n",
       "  2 ⎠ ⎝2   2    2 ⎠ ⎝2   2    2 ⎠         2    2     2⎟⎟  \n",
       "─────────────────────────────────   for q₁  > p  + q₀ ⎟⎟  \n",
       "    2                                                 ⎟⎟  \n",
       "   p                                                  ⎟⎟  \n",
       "                                                      ⎟⎟  \n",
       "_________________________________                     ⎟⎟  \n",
       " q₁⎞ ⎛p   q₀   q₁⎞ ⎛p   q₀   q₁⎞                      ⎟⎟  \n",
       " ──⎟⋅⎜─ + ── - ──⎟⋅⎜─ + ── + ──⎟                      ⎟⎟  \n",
       " 2 ⎠ ⎝2   2    2 ⎠ ⎝2   2    2 ⎠                      ⎟⎟  \n",
       "────────────────────────────────        otherwise     ⎟⎟  \n",
       "   2                                                  ⎟⎟  \n",
       "  p                                                   ⎠⎠  "
      ],
      "text/latex": "$\\displaystyle \\sqrt{\\left(\\frac{2 \\sqrt{\\left(- \\frac{o_{0}}{2} + \\frac{o_{1}}{2} + \\frac{p}{2}\\right) \\left(\\frac{o_{0}}{2} - \\frac{o_{1}}{2} + \\frac{p}{2}\\right) \\left(\\frac{o_{0}}{2} + \\frac{o_{1}}{2} - \\frac{p}{2}\\right)} \\sqrt{\\frac{o_{0}}{2} + \\frac{o_{1}}{2} + \\frac{p}{2}}}{p} + \\frac{2 \\sqrt{\\left(- \\frac{p}{2} + \\frac{q_{0}}{2} + \\frac{q_{1}}{2}\\right) \\left(\\frac{p}{2} - \\frac{q_{0}}{2} + \\frac{q_{1}}{2}\\right) \\left(\\frac{p}{2} + \\frac{q_{0}}{2} - \\frac{q_{1}}{2}\\right)} \\sqrt{\\frac{p}{2} + \\frac{q_{0}}{2} + \\frac{q_{1}}{2}}}{p}\\right)^{2} + \\left(- \\begin{cases} - \\sqrt{o_{0}^{2} - \\frac{4 \\left(- \\frac{o_{0}}{2} + \\frac{o_{1}}{2} + \\frac{p}{2}\\right) \\left(\\frac{o_{0}}{2} - \\frac{o_{1}}{2} + \\frac{p}{2}\\right) \\left(\\frac{o_{0}}{2} + \\frac{o_{1}}{2} - \\frac{p}{2}\\right) \\left(\\frac{o_{0}}{2} + \\frac{o_{1}}{2} + \\frac{p}{2}\\right)}{p^{2}}} & \\text{for}\\: o_{1}^{2} > o_{0}^{2} + p^{2} \\\\\\sqrt{o_{0}^{2} - \\frac{4 \\left(- \\frac{o_{0}}{2} + \\frac{o_{1}}{2} + \\frac{p}{2}\\right) \\left(\\frac{o_{0}}{2} - \\frac{o_{1}}{2} + \\frac{p}{2}\\right) \\left(\\frac{o_{0}}{2} + \\frac{o_{1}}{2} - \\frac{p}{2}\\right) \\left(\\frac{o_{0}}{2} + \\frac{o_{1}}{2} + \\frac{p}{2}\\right)}{p^{2}}} & \\text{otherwise} \\end{cases} + \\begin{cases} - \\sqrt{q_{0}^{2} - \\frac{4 \\left(- \\frac{p}{2} + \\frac{q_{0}}{2} + \\frac{q_{1}}{2}\\right) \\left(\\frac{p}{2} - \\frac{q_{0}}{2} + \\frac{q_{1}}{2}\\right) \\left(\\frac{p}{2} + \\frac{q_{0}}{2} - \\frac{q_{1}}{2}\\right) \\left(\\frac{p}{2} + \\frac{q_{0}}{2} + \\frac{q_{1}}{2}\\right)}{p^{2}}} & \\text{for}\\: q_{1}^{2} > p^{2} + q_{0}^{2} \\\\\\sqrt{q_{0}^{2} - \\frac{4 \\left(- \\frac{p}{2} + \\frac{q_{0}}{2} + \\frac{q_{1}}{2}\\right) \\left(\\frac{p}{2} - \\frac{q_{0}}{2} + \\frac{q_{1}}{2}\\right) \\left(\\frac{p}{2} + \\frac{q_{0}}{2} - \\frac{q_{1}}{2}\\right) \\left(\\frac{p}{2} + \\frac{q_{0}}{2} + \\frac{q_{1}}{2}\\right)}{p^{2}}} & \\text{otherwise} \\end{cases}\\right)^{2}}$"
     },
     "execution_count": 7,
     "metadata": {},
     "output_type": "execute_result"
    }
   ],
   "execution_count": 7
  },
  {
   "metadata": {
    "ExecuteTime": {
     "end_time": "2024-04-15T07:22:00.438265Z",
     "start_time": "2024-04-15T07:22:00.429368Z"
    }
   },
   "cell_type": "code",
   "source": [
    "\n",
    "# geometrically, we know that\n",
    "# m_q0 + m_o0 == m_o1 + m_q1\n"
   ],
   "id": "a283aa066acd3843",
   "outputs": [],
   "execution_count": 8
  },
  {
   "metadata": {
    "ExecuteTime": {
     "end_time": "2024-04-15T07:22:00.528502Z",
     "start_time": "2024-04-15T07:22:00.439173Z"
    }
   },
   "cell_type": "code",
   "source": [
    "# test with a simple triangle:\n",
    "tri0 = {\n",
    "    p:3,\n",
    "    q_0:7,\n",
    "    q_1:5,\n",
    "}\n",
    "tri1 = {\n",
    "    p:tri0[p],\n",
    "    o_0:10.77,\n",
    "    o_1:12.21,\n",
    "}\n",
    "\n",
    "height0 = 4.33\n",
    "m_base0 = 5.5\n",
    "precision = 0.02\n",
    "\n",
    "assert N(abs(h_q.subs(tri0) - height0)) < precision, \"wrong height!\"\n",
    "assert N(abs(m_q0.subs(tri0) - m_base0)) < precision, \"wrong intersect!\"\n",
    "\n",
    "dist_n = float(dist.subs(tri0).subs(tri1))\n",
    "assert np.allclose(dist_n, 11.06, atol=precision), dist_n"
   ],
   "id": "50015228abfe3f66",
   "outputs": [],
   "execution_count": 9
  },
  {
   "metadata": {
    "ExecuteTime": {
     "end_time": "2024-04-15T07:22:00.627806Z",
     "start_time": "2024-04-15T07:22:00.529269Z"
    }
   },
   "cell_type": "code",
   "source": [
    "# test with a \"hard\" triangle\n",
    "trih = {\n",
    "    p:32.44996148,\n",
    "    q_0:65.76473219,\n",
    "    q_1:38.83297568,\n",
    "    o_0:64.5368112 ,\n",
    "    o_1:36.22154055,\n",
    "}\n",
    "\n",
    "assert np.abs(h_q.subs(trih) - 27.74) < precision\n",
    "assert np.abs(h_o.subs(trih) - 23.3) < precision\n",
    "m_q0.subs(trih) - 32.45, m_o0.subs(trih) - 32.45\n",
    "\n",
    "assert np.allclose(float(dist.subs(trih)), 4.47, atol=precision)"
   ],
   "id": "65e72db155a35063",
   "outputs": [],
   "execution_count": 10
  },
  {
   "metadata": {
    "ExecuteTime": {
     "end_time": "2024-04-15T07:22:00.633431Z",
     "start_time": "2024-04-15T07:22:00.628959Z"
    }
   },
   "cell_type": "code",
   "source": [
    "# from Connor's paper:\n",
    "# 1/d(p0,p1) * (d(q, p0)**2 + d(q, p0)**2) > 2*t\n",
    "# is a lower bound\n",
    "lb = 1/2/p * (q_0**2 + q_1**2)\n",
    "N(lb.subs(tri0)), N(dist_n)"
   ],
   "id": "419b06d478f27e9f",
   "outputs": [
    {
     "data": {
      "text/plain": [
       "(12.3333333333333, 11.0730938046379)"
      ],
      "text/latex": "$\\displaystyle \\left( 12.3333333333333, \\  11.0730938046379\\right)$"
     },
     "execution_count": 11,
     "metadata": {},
     "output_type": "execute_result"
    }
   ],
   "execution_count": 11
  },
  {
   "metadata": {
    "ExecuteTime": {
     "end_time": "2024-04-15T07:22:03.168110Z",
     "start_time": "2024-04-15T07:22:00.897512Z"
    }
   },
   "cell_type": "code",
   "source": "simplify(dist < lb)",
   "id": "8dafdf758354ff35",
   "outputs": [
    {
     "data": {
      "text/plain": [
       "                  ⎧     ______________________________________________________\n",
       "                  ⎪    ╱                                                      \n",
       "                  ⎪   ╱                                                       \n",
       "                  ⎪  ╱   ⎛  ____________________________________________   ___\n",
       "                  ⎪╲╱    ⎝╲╱ (-o₀ + o₁ + p)⋅(o₀ - o₁ + p)⋅(o₀ + o₁ - p) ⋅╲╱ o₀\n",
       "                  ⎪───────────────────────────────────────────────────────────\n",
       "                  ⎪                                                           \n",
       "                  ⎪                                                           \n",
       "                  ⎪     ______________________________________________________\n",
       "    ⎛  2     2⎞   ⎪    ╱                                                      \n",
       "0.5⋅⎝q₀  + q₁ ⎠   ⎪   ╱                                                       \n",
       "─────────────── > ⎨  ╱   ⎛  ____________________________________________   ___\n",
       "       p          ⎪╲╱    ⎝╲╱ (-o₀ + o₁ + p)⋅(o₀ - o₁ + p)⋅(o₀ + o₁ - p) ⋅╲╱ o₀\n",
       "                  ⎪───────────────────────────────────────────────────────────\n",
       "                  ⎪                                                           \n",
       "                  ⎪                                                           \n",
       "                  ⎪     ______________________________________________________\n",
       "                  ⎪    ╱                                                      \n",
       "                  ⎪   ╱                                                       \n",
       "                  ⎪  ╱   ⎛  ____________________________________________   ___\n",
       "                  ⎪╲╱    ⎝╲╱ (-o₀ + o₁ + p)⋅(o₀ - o₁ + p)⋅(o₀ + o₁ - p) ⋅╲╱ o₀\n",
       "                  ⎪───────────────────────────────────────────────────────────\n",
       "                  ⎩                                                           \n",
       "\n",
       "______________________________________________________________________________\n",
       "                                                                              \n",
       "                                                                            2 \n",
       "__________     ____________________________________________   _____________⎞  \n",
       " + o₁ + p  - ╲╱ (-p + q₀ + q₁)⋅(p - q₀ + q₁)⋅(p + q₀ - q₁) ⋅╲╱ p + q₀ + q₁ ⎠  \n",
       "──────────────────────────────────────────────────────────────────────────────\n",
       "                                                                              \n",
       "                                                                              \n",
       "______________________________________________________________________________\n",
       "                                                                              \n",
       "                                                                            2 \n",
       "__________     ____________________________________________   _____________⎞  \n",
       " + o₁ + p  - ╲╱ (-p + q₀ + q₁)⋅(p - q₀ + q₁)⋅(p + q₀ - q₁) ⋅╲╱ p + q₀ + q₁ ⎠  \n",
       "──────────────────────────────────────────────────────────────────────────────\n",
       "                                                                              \n",
       "                                                                              \n",
       "______________________________________________________________________________\n",
       "                                                                              \n",
       "                                                                            2 \n",
       "__________     ____________________________________________   _____________⎞  \n",
       " + o₁ + p  - ╲╱ (-p + q₀ + q₁)⋅(p - q₀ + q₁)⋅(p + q₀ - q₁) ⋅╲╱ p + q₀ + q₁ ⎠  \n",
       "──────────────────────────────────────────────────────────────────────────────\n",
       "                                                                              \n",
       "\n",
       "______________________________________________________________________________\n",
       "                                                                              \n",
       "  ⎛   _____________________________________________________________________   \n",
       "  ⎜  ╱     2  2                                                               \n",
       "+ ⎝╲╱  4⋅o₀ ⋅p  - (-o₀ + o₁ + p)⋅(o₀ - o₁ + p)⋅(o₀ + o₁ - p)⋅(o₀ + o₁ + p)  - \n",
       "──────────────────────────────────────────────────────────────────────────────\n",
       "      2⋅p                                                                     \n",
       "                                                                              \n",
       "______________________________________________________________________________\n",
       "                                                                              \n",
       "  ⎛   _____________________________________________________________________   \n",
       "  ⎜  ╱     2  2                                                               \n",
       "+ ⎝╲╱  4⋅o₀ ⋅p  - (-o₀ + o₁ + p)⋅(o₀ - o₁ + p)⋅(o₀ + o₁ - p)⋅(o₀ + o₁ + p)  + \n",
       "──────────────────────────────────────────────────────────────────────────────\n",
       "      2⋅p                                                                     \n",
       "                                                                              \n",
       "______________________________________________________________________________\n",
       "                                                                              \n",
       "  ⎛   _____________________________________________________________________   \n",
       "  ⎜  ╱     2  2                                                               \n",
       "+ ⎝╲╱  4⋅o₀ ⋅p  - (-o₀ + o₁ + p)⋅(o₀ - o₁ + p)⋅(o₀ + o₁ - p)⋅(o₀ + o₁ + p)  - \n",
       "──────────────────────────────────────────────────────────────────────────────\n",
       "      2⋅p                                                                     \n",
       "\n",
       "___________________________________________________________________________   \n",
       "                                                                         2    \n",
       "   _____________________________________________________________________⎞     \n",
       "  ╱    2   2                                                            ⎟     \n",
       "╲╱  4⋅p ⋅q₀  - (-p + q₀ + q₁)⋅(p - q₀ + q₁)⋅(p + q₀ - q₁)⋅(p + q₀ + q₁) ⎠     \n",
       "───────────────────────────────────────────────────────────────────────────  f\n",
       "                                                                              \n",
       "                                                                              \n",
       "___________________________________________________________________________   \n",
       "                                                                         2    \n",
       "   _____________________________________________________________________⎞     \n",
       "  ╱    2   2                                                            ⎟     \n",
       "╲╱  4⋅p ⋅q₀  - (-p + q₀ + q₁)⋅(p - q₀ + q₁)⋅(p + q₀ - q₁)⋅(p + q₀ + q₁) ⎠     \n",
       "───────────────────────────────────────────────────────────────────────────  f\n",
       "                                                                              \n",
       "                                                                              \n",
       "___________________________________________________________________________   \n",
       "                                                                         2    \n",
       "   _____________________________________________________________________⎞     \n",
       "  ╱    2   2                                                            ⎟     \n",
       "╲╱  4⋅p ⋅q₀  - (-p + q₀ + q₁)⋅(p - q₀ + q₁)⋅(p + q₀ - q₁)⋅(p + q₀ + q₁) ⎠     \n",
       "───────────────────────────────────────────────────────────────────────────   \n",
       "                                                                              \n",
       "\n",
       "                                  \n",
       "                                  \n",
       "                                  \n",
       "                                  \n",
       "     2     2    2     2    2     2\n",
       "or o₁  > o₀  + p  ∧ q₁  > p  + q₀ \n",
       "                                  \n",
       "                                  \n",
       "                                  \n",
       "                                  \n",
       "                                  \n",
       "                                  \n",
       "     2     2    2     2    2     2\n",
       "or o₁  > o₀  + p  ∨ q₁  > p  + q₀ \n",
       "                                  \n",
       "                                  \n",
       "                                  \n",
       "                                  \n",
       "                                  \n",
       "                                  \n",
       "                                  \n",
       "            otherwise             \n",
       "                                  "
      ],
      "text/latex": "$\\displaystyle \\frac{0.5 \\left(q_{0}^{2} + q_{1}^{2}\\right)}{p} > \\begin{cases} \\frac{\\sqrt{\\left(\\sqrt{\\left(- o_{0} + o_{1} + p\\right) \\left(o_{0} - o_{1} + p\\right) \\left(o_{0} + o_{1} - p\\right)} \\sqrt{o_{0} + o_{1} + p} - \\sqrt{\\left(- p + q_{0} + q_{1}\\right) \\left(p - q_{0} + q_{1}\\right) \\left(p + q_{0} - q_{1}\\right)} \\sqrt{p + q_{0} + q_{1}}\\right)^{2} + \\left(\\sqrt{4 o_{0}^{2} p^{2} - \\left(- o_{0} + o_{1} + p\\right) \\left(o_{0} - o_{1} + p\\right) \\left(o_{0} + o_{1} - p\\right) \\left(o_{0} + o_{1} + p\\right)} - \\sqrt{4 p^{2} q_{0}^{2} - \\left(- p + q_{0} + q_{1}\\right) \\left(p - q_{0} + q_{1}\\right) \\left(p + q_{0} - q_{1}\\right) \\left(p + q_{0} + q_{1}\\right)}\\right)^{2}}}{2 p} & \\text{for}\\: o_{1}^{2} > o_{0}^{2} + p^{2} \\wedge q_{1}^{2} > p^{2} + q_{0}^{2} \\\\\\frac{\\sqrt{\\left(\\sqrt{\\left(- o_{0} + o_{1} + p\\right) \\left(o_{0} - o_{1} + p\\right) \\left(o_{0} + o_{1} - p\\right)} \\sqrt{o_{0} + o_{1} + p} - \\sqrt{\\left(- p + q_{0} + q_{1}\\right) \\left(p - q_{0} + q_{1}\\right) \\left(p + q_{0} - q_{1}\\right)} \\sqrt{p + q_{0} + q_{1}}\\right)^{2} + \\left(\\sqrt{4 o_{0}^{2} p^{2} - \\left(- o_{0} + o_{1} + p\\right) \\left(o_{0} - o_{1} + p\\right) \\left(o_{0} + o_{1} - p\\right) \\left(o_{0} + o_{1} + p\\right)} + \\sqrt{4 p^{2} q_{0}^{2} - \\left(- p + q_{0} + q_{1}\\right) \\left(p - q_{0} + q_{1}\\right) \\left(p + q_{0} - q_{1}\\right) \\left(p + q_{0} + q_{1}\\right)}\\right)^{2}}}{2 p} & \\text{for}\\: o_{1}^{2} > o_{0}^{2} + p^{2} \\vee q_{1}^{2} > p^{2} + q_{0}^{2} \\\\\\frac{\\sqrt{\\left(\\sqrt{\\left(- o_{0} + o_{1} + p\\right) \\left(o_{0} - o_{1} + p\\right) \\left(o_{0} + o_{1} - p\\right)} \\sqrt{o_{0} + o_{1} + p} - \\sqrt{\\left(- p + q_{0} + q_{1}\\right) \\left(p - q_{0} + q_{1}\\right) \\left(p + q_{0} - q_{1}\\right)} \\sqrt{p + q_{0} + q_{1}}\\right)^{2} + \\left(\\sqrt{4 o_{0}^{2} p^{2} - \\left(- o_{0} + o_{1} + p\\right) \\left(o_{0} - o_{1} + p\\right) \\left(o_{0} + o_{1} - p\\right) \\left(o_{0} + o_{1} + p\\right)} - \\sqrt{4 p^{2} q_{0}^{2} - \\left(- p + q_{0} + q_{1}\\right) \\left(p - q_{0} + q_{1}\\right) \\left(p + q_{0} - q_{1}\\right) \\left(p + q_{0} + q_{1}\\right)}\\right)^{2}}}{2 p} & \\text{otherwise} \\end{cases}$"
     },
     "execution_count": 12,
     "metadata": {},
     "output_type": "execute_result"
    }
   ],
   "execution_count": 12
  },
  {
   "metadata": {
    "ExecuteTime": {
     "end_time": "2024-04-15T07:22:03.209103Z",
     "start_time": "2024-04-15T07:22:03.168861Z"
    }
   },
   "cell_type": "code",
   "source": [
    "connor_diff = lambdify([p,q_0, q_1, o_0, o_1], lb - dist, \"numpy\")\n",
    "tetrahedron_lb = lambdify([p,q_0, q_1, o_0, o_1], dist, \"numpy\")\n",
    "tetrahedron_ub = lambdify([p,q_0, q_1, o_0, o_1], dist_ub, \"numpy\")\n",
    "connor_lb = lambdify([p,q_0, q_1, o_0, o_1], lb, \"numpy\")\n",
    "\n",
    "def ptolemy_lb(p, q_0, q_1, o_0, o_1):\n",
    "    diff = np.abs(q_0 * o_1 - q_1 * o_0)\n",
    "    return diff / p"
   ],
   "id": "91ca7b51da76afc",
   "outputs": [],
   "execution_count": 13
  },
  {
   "metadata": {
    "ExecuteTime": {
     "end_time": "2024-04-15T07:22:03.218836Z",
     "start_time": "2024-04-15T07:22:03.209974Z"
    }
   },
   "cell_type": "code",
   "source": [
    "from tqdm import tqdm\n",
    "\n",
    "def _stable_tetrahedron_lb(p_n, q_0_n, q_1_n, o_0_n, o_1_n):\n",
    "    for i in tqdm(range(len(p_n))):\n",
    "        yield dist.subs({\n",
    "            p:p_n[i],\n",
    "            q_0:q_0_n[i],\n",
    "            q_1:q_1_n[i],\n",
    "            o_0:o_0_n[i],\n",
    "            o_1:o_1_n[i],\n",
    "        }).evalf()\n",
    "\n",
    "def stable_tetrahedron_lb(p_n, q_0_n, q_1_n, o_0_n, o_1_n):\n",
    "    return np.asarray(list(_stable_tetrahedron_lb(p_n, q_0_n, q_1_n, o_0_n, o_1_n)), dtype=float)"
   ],
   "id": "13dd010cdf03803f",
   "outputs": [],
   "execution_count": 14
  },
  {
   "metadata": {
    "ExecuteTime": {
     "end_time": "2024-04-15T07:22:04.252021Z",
     "start_time": "2024-04-15T07:22:03.219599Z"
    }
   },
   "cell_type": "code",
   "source": [
    "# simulate triangles\n",
    "import numpy as np\n",
    "import matplotlib.pyplot as plt\n",
    "rng = np.random.default_rng()\n",
    "\n",
    "dist_func = lambda x,y:np.linalg.norm(x-y, axis=-1)\n",
    "n_samples= 1000000\n",
    "dim = 3\n",
    "points = rng.integers(-37,38, size=[n_samples, 4, dim])\n",
    "p0,p1,q,o = 0,1,2,3\n",
    "dists_p = dist_func(points[:,p0,:], points[:,p1,:])\n",
    "dists_q0 = dist_func(points[:,p0,:], points[:,q,:])\n",
    "dists_q1 = dist_func(points[:,p1,:], points[:,q,:])\n",
    "dists_o0 = dist_func(points[:,p0,:], points[:,o,:])\n",
    "dists_o1 = dist_func(points[:,p1,:], points[:,o,:])\n",
    "dists_target = dist_func(points[:,q,:], points[:,o,:])\n",
    "\n",
    "args = np.vstack((dists_p, dists_q0, dists_q1, dists_o0, dists_o1))\n",
    "tet_lb = tetrahedron_lb(*args)\n",
    "tet_ub = tetrahedron_ub(*args)\n",
    "pto_n = ptolemy_lb(*args)\n",
    "connors_lb_n = connor_lb(*args)\n",
    "connors_lb_n = np.clip(connors_lb_n, -10, 200)\n",
    "\n",
    "bins = 100\n",
    "plt.hist(dists_target,  bins=bins, label=\"actual\")\n",
    "plt.hist(tet_lb, bins=bins, histtype=\"step\", label=\"tetrahedron lb\")\n",
    "plt.hist(tet_ub, bins=bins, histtype=\"step\", label=\"tetrahedron ub\")\n",
    "plt.hist(pto_n, bins=bins, histtype=\"step\", label=\"Ptolemy\")\n",
    "#plt.hist(connors_lb_n, bins=bins, histtype=\"step\", label=\"connor\")\n",
    "\n",
    "plt.title(\"differences between lower bound functions\")\n",
    "plt.xlabel(\"distance\")\n",
    "plt.ylabel(\"freq\")\n",
    "plt.legend()\n",
    "plt.show()"
   ],
   "id": "727cf0e718b6b726",
   "outputs": [
    {
     "name": "stderr",
     "output_type": "stream",
     "text": [
      "<lambdifygenerated-2>:2: RuntimeWarning: invalid value encountered in divide\n",
      "  return sqrt((-2*sqrt((-1/2*o0 + (1/2)*o1 + (1/2)*p)*((1/2)*o0 - 1/2*o1 + (1/2)*p)*((1/2)*o0 + (1/2)*o1 - 1/2*p))*sqrt((1/2)*o0 + (1/2)*o1 + (1/2)*p)/p + 2*sqrt((-1/2*p + (1/2)*q0 + (1/2)*q1)*((1/2)*p - 1/2*q0 + (1/2)*q1)*((1/2)*p + (1/2)*q0 - 1/2*q1))*sqrt((1/2)*p + (1/2)*q0 + (1/2)*q1)/p)**2 + (-select([greater(o1**2, o0**2 + p**2),True], [-sqrt(o0**2 - 4*(-1/2*o0 + (1/2)*o1 + (1/2)*p)*((1/2)*o0 - 1/2*o1 + (1/2)*p)*((1/2)*o0 + (1/2)*o1 - 1/2*p)*((1/2)*o0 + (1/2)*o1 + (1/2)*p)/p**2),sqrt(o0**2 - 4*(-1/2*o0 + (1/2)*o1 + (1/2)*p)*((1/2)*o0 - 1/2*o1 + (1/2)*p)*((1/2)*o0 + (1/2)*o1 - 1/2*p)*((1/2)*o0 + (1/2)*o1 + (1/2)*p)/p**2)], default=nan) + select([greater(q1**2, p**2 + q0**2),True], [-sqrt(q0**2 - 4*(-1/2*p + (1/2)*q0 + (1/2)*q1)*((1/2)*p - 1/2*q0 + (1/2)*q1)*((1/2)*p + (1/2)*q0 - 1/2*q1)*((1/2)*p + (1/2)*q0 + (1/2)*q1)/p**2),sqrt(q0**2 - 4*(-1/2*p + (1/2)*q0 + (1/2)*q1)*((1/2)*p - 1/2*q0 + (1/2)*q1)*((1/2)*p + (1/2)*q0 - 1/2*q1)*((1/2)*p + (1/2)*q0 + (1/2)*q1)/p**2)], default=nan))**2)\n",
      "<lambdifygenerated-2>:2: RuntimeWarning: invalid value encountered in sqrt\n",
      "  return sqrt((-2*sqrt((-1/2*o0 + (1/2)*o1 + (1/2)*p)*((1/2)*o0 - 1/2*o1 + (1/2)*p)*((1/2)*o0 + (1/2)*o1 - 1/2*p))*sqrt((1/2)*o0 + (1/2)*o1 + (1/2)*p)/p + 2*sqrt((-1/2*p + (1/2)*q0 + (1/2)*q1)*((1/2)*p - 1/2*q0 + (1/2)*q1)*((1/2)*p + (1/2)*q0 - 1/2*q1))*sqrt((1/2)*p + (1/2)*q0 + (1/2)*q1)/p)**2 + (-select([greater(o1**2, o0**2 + p**2),True], [-sqrt(o0**2 - 4*(-1/2*o0 + (1/2)*o1 + (1/2)*p)*((1/2)*o0 - 1/2*o1 + (1/2)*p)*((1/2)*o0 + (1/2)*o1 - 1/2*p)*((1/2)*o0 + (1/2)*o1 + (1/2)*p)/p**2),sqrt(o0**2 - 4*(-1/2*o0 + (1/2)*o1 + (1/2)*p)*((1/2)*o0 - 1/2*o1 + (1/2)*p)*((1/2)*o0 + (1/2)*o1 - 1/2*p)*((1/2)*o0 + (1/2)*o1 + (1/2)*p)/p**2)], default=nan) + select([greater(q1**2, p**2 + q0**2),True], [-sqrt(q0**2 - 4*(-1/2*p + (1/2)*q0 + (1/2)*q1)*((1/2)*p - 1/2*q0 + (1/2)*q1)*((1/2)*p + (1/2)*q0 - 1/2*q1)*((1/2)*p + (1/2)*q0 + (1/2)*q1)/p**2),sqrt(q0**2 - 4*(-1/2*p + (1/2)*q0 + (1/2)*q1)*((1/2)*p - 1/2*q0 + (1/2)*q1)*((1/2)*p + (1/2)*q0 - 1/2*q1)*((1/2)*p + (1/2)*q0 + (1/2)*q1)/p**2)], default=nan))**2)\n",
      "<lambdifygenerated-3>:2: RuntimeWarning: invalid value encountered in divide\n",
      "  return sqrt((2*sqrt((-1/2*o0 + (1/2)*o1 + (1/2)*p)*((1/2)*o0 - 1/2*o1 + (1/2)*p)*((1/2)*o0 + (1/2)*o1 - 1/2*p))*sqrt((1/2)*o0 + (1/2)*o1 + (1/2)*p)/p + 2*sqrt((-1/2*p + (1/2)*q0 + (1/2)*q1)*((1/2)*p - 1/2*q0 + (1/2)*q1)*((1/2)*p + (1/2)*q0 - 1/2*q1))*sqrt((1/2)*p + (1/2)*q0 + (1/2)*q1)/p)**2 + (-select([greater(o1**2, o0**2 + p**2),True], [-sqrt(o0**2 - 4*(-1/2*o0 + (1/2)*o1 + (1/2)*p)*((1/2)*o0 - 1/2*o1 + (1/2)*p)*((1/2)*o0 + (1/2)*o1 - 1/2*p)*((1/2)*o0 + (1/2)*o1 + (1/2)*p)/p**2),sqrt(o0**2 - 4*(-1/2*o0 + (1/2)*o1 + (1/2)*p)*((1/2)*o0 - 1/2*o1 + (1/2)*p)*((1/2)*o0 + (1/2)*o1 - 1/2*p)*((1/2)*o0 + (1/2)*o1 + (1/2)*p)/p**2)], default=nan) + select([greater(q1**2, p**2 + q0**2),True], [-sqrt(q0**2 - 4*(-1/2*p + (1/2)*q0 + (1/2)*q1)*((1/2)*p - 1/2*q0 + (1/2)*q1)*((1/2)*p + (1/2)*q0 - 1/2*q1)*((1/2)*p + (1/2)*q0 + (1/2)*q1)/p**2),sqrt(q0**2 - 4*(-1/2*p + (1/2)*q0 + (1/2)*q1)*((1/2)*p - 1/2*q0 + (1/2)*q1)*((1/2)*p + (1/2)*q0 - 1/2*q1)*((1/2)*p + (1/2)*q0 + (1/2)*q1)/p**2)], default=nan))**2)\n",
      "<lambdifygenerated-3>:2: RuntimeWarning: invalid value encountered in sqrt\n",
      "  return sqrt((2*sqrt((-1/2*o0 + (1/2)*o1 + (1/2)*p)*((1/2)*o0 - 1/2*o1 + (1/2)*p)*((1/2)*o0 + (1/2)*o1 - 1/2*p))*sqrt((1/2)*o0 + (1/2)*o1 + (1/2)*p)/p + 2*sqrt((-1/2*p + (1/2)*q0 + (1/2)*q1)*((1/2)*p - 1/2*q0 + (1/2)*q1)*((1/2)*p + (1/2)*q0 - 1/2*q1))*sqrt((1/2)*p + (1/2)*q0 + (1/2)*q1)/p)**2 + (-select([greater(o1**2, o0**2 + p**2),True], [-sqrt(o0**2 - 4*(-1/2*o0 + (1/2)*o1 + (1/2)*p)*((1/2)*o0 - 1/2*o1 + (1/2)*p)*((1/2)*o0 + (1/2)*o1 - 1/2*p)*((1/2)*o0 + (1/2)*o1 + (1/2)*p)/p**2),sqrt(o0**2 - 4*(-1/2*o0 + (1/2)*o1 + (1/2)*p)*((1/2)*o0 - 1/2*o1 + (1/2)*p)*((1/2)*o0 + (1/2)*o1 - 1/2*p)*((1/2)*o0 + (1/2)*o1 + (1/2)*p)/p**2)], default=nan) + select([greater(q1**2, p**2 + q0**2),True], [-sqrt(q0**2 - 4*(-1/2*p + (1/2)*q0 + (1/2)*q1)*((1/2)*p - 1/2*q0 + (1/2)*q1)*((1/2)*p + (1/2)*q0 - 1/2*q1)*((1/2)*p + (1/2)*q0 + (1/2)*q1)/p**2),sqrt(q0**2 - 4*(-1/2*p + (1/2)*q0 + (1/2)*q1)*((1/2)*p - 1/2*q0 + (1/2)*q1)*((1/2)*p + (1/2)*q0 - 1/2*q1)*((1/2)*p + (1/2)*q0 + (1/2)*q1)/p**2)], default=nan))**2)\n",
      "/tmp/ipykernel_8082/3500694779.py:8: RuntimeWarning: invalid value encountered in divide\n",
      "  return diff / p\n",
      "<lambdifygenerated-4>:2: RuntimeWarning: divide by zero encountered in divide\n",
      "  return 0.5*(q0**2 + q1**2)/p\n"
     ]
    },
    {
     "data": {
      "text/plain": [
       "<Figure size 640x480 with 1 Axes>"
      ],
      "image/png": "[encoded data removed]"
     },
     "metadata": {},
     "output_type": "display_data"
    }
   ],
   "execution_count": 15
  },
  {
   "metadata": {
    "ExecuteTime": {
     "end_time": "2024-04-15T07:22:04.355039Z",
     "start_time": "2024-04-15T07:22:04.252873Z"
    }
   },
   "cell_type": "code",
   "source": "plt.hist(pto_n - tet_lb, bins=100);",
   "id": "793b64f9a0d8ac8",
   "outputs": [
    {
     "data": {
      "text/plain": [
       "<Figure size 640x480 with 1 Axes>"
      ],
      "image/png": "[encoded data removed]"
     },
     "metadata": {},
     "output_type": "display_data"
    }
   ],
   "execution_count": 16
  },
  {
   "metadata": {
    "ExecuteTime": {
     "end_time": "2024-04-15T07:22:04.434938Z",
     "start_time": "2024-04-15T07:22:04.355898Z"
    }
   },
   "cell_type": "code",
   "source": [
    "plt.hist(dists_target - tet_lb, histtype=\"step\");\n",
    "plt.hist(tet_ub - dists_target, histtype=\"step\");"
   ],
   "id": "466e0b22594256cc",
   "outputs": [
    {
     "data": {
      "text/plain": [
       "<Figure size 640x480 with 1 Axes>"
      ],
      "image/png": "[encoded data removed]"
     },
     "metadata": {},
     "output_type": "display_data"
    }
   ],
   "execution_count": 17
  },
  {
   "metadata": {
    "ExecuteTime": {
     "end_time": "2024-04-15T07:22:04.568722Z",
     "start_time": "2024-04-15T07:22:04.436088Z"
    }
   },
   "cell_type": "code",
   "source": [
    "problems = np.abs(dists_target - my_lb_n) > 0.01\n",
    "ppoints = points[problems,:,:]\n",
    "\n",
    "plt.plot(*ppoints[0][:2].T)\n",
    "for p in ppoints[0]:\n",
    "    plt.plot(*p, \"o\")\n",
    "    \n",
    "plt.show()"
   ],
   "id": "900f94a90925e8aa",
   "outputs": [
    {
     "ename": "NameError",
     "evalue": "name 'my_lb_n' is not defined",
     "output_type": "error",
     "traceback": [
      "\u001B[0;31m---------------------------------------------------------------------------\u001B[0m",
      "\u001B[0;31mNameError\u001B[0m                                 Traceback (most recent call last)",
      "Cell \u001B[0;32mIn[18], line 1\u001B[0m\n\u001B[0;32m----> 1\u001B[0m problems \u001B[38;5;241m=\u001B[39m np\u001B[38;5;241m.\u001B[39mabs(dists_target \u001B[38;5;241m-\u001B[39m \u001B[43mmy_lb_n\u001B[49m) \u001B[38;5;241m>\u001B[39m \u001B[38;5;241m0.01\u001B[39m\n\u001B[1;32m      2\u001B[0m ppoints \u001B[38;5;241m=\u001B[39m points[problems,:,:]\n\u001B[1;32m      4\u001B[0m plt\u001B[38;5;241m.\u001B[39mplot(\u001B[38;5;241m*\u001B[39mppoints[\u001B[38;5;241m0\u001B[39m][:\u001B[38;5;241m2\u001B[39m]\u001B[38;5;241m.\u001B[39mT)\n",
      "\u001B[0;31mNameError\u001B[0m: name 'my_lb_n' is not defined"
     ]
    }
   ],
   "execution_count": 18
  },
  {
   "metadata": {},
   "cell_type": "code",
   "outputs": [],
   "execution_count": null,
   "source": "",
   "id": "4965d5c3c2e6f420"
  }
 ],
 "metadata": {
  "kernelspec": {
   "display_name": "Python 3",
   "language": "python",
   "name": "python3"
  },
  "language_info": {
   "codemirror_mode": {
    "name": "ipython",
    "version": 2
   },
   "file_extension": ".py",
   "mimetype": "text/x-python",
   "name": "python",
   "nbconvert_exporter": "python",
   "pygments_lexer": "ipython2",
   "version": "2.7.6"
  }
 },
 "nbformat": 4,
 "nbformat_minor": 5
}
