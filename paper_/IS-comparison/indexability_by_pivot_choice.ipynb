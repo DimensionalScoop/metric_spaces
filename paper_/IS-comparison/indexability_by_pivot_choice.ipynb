{
 "cells": [
  {
   "cell_type": "code",
   "execution_count": 141,
   "id": "1afec6b4-1712-40dd-8267-1610582b0dc1",
   "metadata": {
    "execution": {
     "iopub.execute_input": "2024-09-29T17:35:35.002018Z",
     "iopub.status.busy": "2024-09-29T17:35:35.001723Z",
     "iopub.status.idle": "2024-09-29T17:35:35.056039Z",
     "shell.execute_reply": "2024-09-29T17:35:35.055696Z",
     "shell.execute_reply.started": "2024-09-29T17:35:35.001996Z"
    }
   },
   "outputs": [
    {
     "name": "stdout",
     "output_type": "stream",
     "text": [
      "The autoreload extension is already loaded. To reload it, use:\n",
      "  %reload_ext autoreload\n"
     ]
    }
   ],
   "source": [
    "%load_ext autoreload\n",
    "%autoreload 3\n",
    "\n",
    "import numpy as np\n",
    "import pandas as pd\n",
    "from joblib import delayed, Parallel\n",
    "from numba import njit\n",
    "from tqdm import tqdm\n",
    "import time\n",
    "from itertools import permutations, combinations\n",
    "\n",
    "import sys\n",
    "sys.path.append(\"../..\")\n",
    "\n",
    "from tetrahedron import tetrahedron, proj_quality\n",
    "from metric.metric import Euclid\n",
    "\n",
    "import pivot_selection\n",
    "from generate import point_generator\n",
    "\n",
    "import matplotlib.pyplot as plt\n",
    "import seaborn as sns"
   ]
  },
  {
   "cell_type": "code",
   "execution_count": 160,
   "id": "129c2b1b-9559-4fb3-b08d-a1aaf86e6573",
   "metadata": {
    "execution": {
     "iopub.execute_input": "2024-09-29T17:38:39.719867Z",
     "iopub.status.busy": "2024-09-29T17:38:39.718948Z",
     "iopub.status.idle": "2024-09-29T17:38:40.053005Z",
     "shell.execute_reply": "2024-09-29T17:38:40.052581Z",
     "shell.execute_reply.started": "2024-09-29T17:38:39.719815Z"
    }
   },
   "outputs": [
    {
     "name": "stdout",
     "output_type": "stream",
     "text": [
      "62210.72342099306\n",
      "72601.4611251979\n",
      "79887.23318066014\n",
      "85483.74338099897\n",
      "89769.83832424309\n",
      "93387.08008669555\n",
      "96338.0998244441\n",
      "98702.16162477872\n",
      "100715.14611267591\n",
      "[215, 246, 87, 222, 115, 150, 250, 142, 95, 201]\n",
      "(300, 10)\n"
     ]
    }
   ],
   "source": [
    "dims = 10\n",
    "n_points = 1000\n",
    "n_piv_candidates = 300\n",
    "n_pivs_required = 10\n",
    "budget = 4*n_points\n",
    "metric = pivot_selection.lb_summation.METRIC\n",
    "\n",
    "rng = np.random.default_rng(0xABACADABA)\n",
    "\n",
    "data = point_generator.generate_univar_points(rng, n_points, dim=dims)\n",
    "tri_pivots = pivot_selection.lb_summation.IS_multiple(data, n_piv_candidates, budget, rng, \"tri\",n_pivs_required)\n",
    "trai_pivots = rng.choice(data, size=n_pivs)\n",
    "pto_pivots = pivot_selection.lb_summation.IS(data, n_piv_candidates, budget, rng, \"pto\")"
   ]
  },
  {
   "cell_type": "code",
   "execution_count": 155,
   "id": "fa8009a4-5581-4764-9cc0-6669b3343b82",
   "metadata": {
    "execution": {
     "iopub.execute_input": "2024-09-29T17:36:38.587823Z",
     "iopub.status.busy": "2024-09-29T17:36:38.587503Z",
     "iopub.status.idle": "2024-09-29T17:36:38.605985Z",
     "shell.execute_reply": "2024-09-29T17:36:38.605474Z",
     "shell.execute_reply.started": "2024-09-29T17:36:38.587797Z"
    }
   },
   "outputs": [
    {
     "data": {
      "text/plain": [
       "array([[-15.01605166, -16.59990956,  10.0614509 ,  -5.8462711 ,\n",
       "        -17.81159327,   8.56192719, -17.29587169,  13.38124171,\n",
       "         -5.97496247, -15.93903475],\n",
       "       [ -3.3024298 ,  14.67427579,   7.8659956 ,   1.17072492,\n",
       "         18.380428  ,  16.17506961,  14.98501303,   6.79177106,\n",
       "         11.28092096, -14.70269438],\n",
       "       [-14.65444905,   1.85984324, -15.98132648, -15.81412302,\n",
       "          8.9784309 , -16.6810879 ,  11.21017455,  15.16234109,\n",
       "         -6.54952322,  14.49834637],\n",
       "       [ 16.8554387 ,  18.0256139 ,  -0.94819343, -18.44881966,\n",
       "         14.2154565 , -17.48002927, -13.73503607, -14.05390968,\n",
       "          9.7137847 ,   0.40642746],\n",
       "       [ 15.91281443, -12.52273428, -11.23639677, -17.05099458,\n",
       "        -17.59329145,   9.33227119,  13.48009934,  -9.56589157,\n",
       "         13.52873786,   6.12078438],\n",
       "       [  6.11572555,  -8.8418081 ,  17.94063533,   9.3572961 ,\n",
       "         -1.59126482,  17.83283501,  -1.86974665,  17.96802086,\n",
       "        -10.03830938,  16.68747685],\n",
       "       [  5.1351642 ,  -5.92108276, -18.33154049,  12.98250974,\n",
       "         17.34559306,   7.65447779,   0.72767954, -11.97832202,\n",
       "        -10.43560546, -13.24039108],\n",
       "       [ 17.61805146,  10.08541941, -18.10249969,  13.21179594,\n",
       "        -11.38994344, -18.48929829, -16.37912757,   6.57433326,\n",
       "         -8.81454049,  18.27582084],\n",
       "       [-14.87776366,  15.54464543,  15.59684924,  -1.96832606,\n",
       "          8.72125467, -14.99866331,  10.64235988, -13.7440371 ,\n",
       "         15.14172121,  17.63395729],\n",
       "       [ 16.80255388, -18.05995199,   4.73155381, -13.57435584,\n",
       "        -16.97772242, -16.7992486 ,  14.03361598,  -8.97287175,\n",
       "          3.75907228,  -8.98536586]])"
      ]
     },
     "execution_count": 155,
     "metadata": {},
     "output_type": "execute_result"
    }
   ],
   "source": [
    "tri_pivots"
   ]
  },
  {
   "cell_type": "code",
   "execution_count": 143,
   "id": "8afa37d3-e4c1-44a8-af31-08354cdb4658",
   "metadata": {
    "execution": {
     "iopub.execute_input": "2024-09-29T17:35:36.525567Z",
     "iopub.status.busy": "2024-09-29T17:35:36.525467Z",
     "iopub.status.idle": "2024-09-29T17:35:36.567983Z",
     "shell.execute_reply": "2024-09-29T17:35:36.567440Z",
     "shell.execute_reply.started": "2024-09-29T17:35:36.525558Z"
    }
   },
   "outputs": [],
   "source": [
    "triu = np.triu_indices(n_points,1)\n",
    "actual_dists = metric.distance_matrix(data,data)[triu]"
   ]
  },
  {
   "cell_type": "code",
   "execution_count": 137,
   "id": "041e30d9-5e8d-4136-9cd4-6ffbaf1c01a9",
   "metadata": {
    "execution": {
     "iopub.execute_input": "2024-09-29T17:35:00.959630Z",
     "iopub.status.busy": "2024-09-29T17:35:00.959280Z",
     "iopub.status.idle": "2024-09-29T17:35:01.035761Z",
     "shell.execute_reply": "2024-09-29T17:35:01.035320Z",
     "shell.execute_reply.started": "2024-09-29T17:35:00.959596Z"
    }
   },
   "outputs": [],
   "source": [
    "def get_best_tri_lbs(pivots, data):\n",
    "    def tri_lb_all_pairs_dist(pivots, data):\n",
    "        for p in pivots:\n",
    "            d_c = metric(p, data)\n",
    "            lbs_tri = np.abs(d_c.reshape(-1,1) - d_c.reshape(1,-1))\n",
    "            yield lbs_tri[triu]\n",
    "    \n",
    "    all_lbs = np.stack(list(tri_lb_all_pairs_dist(pivots, data)))\n",
    "    best_lbs = np.amax(all_lbs, axis=0)\n",
    "    return best_lbs\n",
    "\n",
    "\n",
    "best_tri_tri_lbs = get_best_tri_lbs(tri_pivots, data)\n",
    "best_pto_tri_lbs = get_best_tri_lbs(pto_pivots, data)"
   ]
  },
  {
   "cell_type": "code",
   "execution_count": 138,
   "id": "9b8c0eb6-fe7f-4e2b-93d5-9e9e596c33bb",
   "metadata": {
    "execution": {
     "iopub.execute_input": "2024-09-29T17:35:01.200969Z",
     "iopub.status.busy": "2024-09-29T17:35:01.200435Z",
     "iopub.status.idle": "2024-09-29T17:35:01.534602Z",
     "shell.execute_reply": "2024-09-29T17:35:01.534213Z",
     "shell.execute_reply.started": "2024-09-29T17:35:01.200949Z"
    }
   },
   "outputs": [],
   "source": [
    "@njit\n",
    "def pto_all_pairs(d1, d2, piv_piv_dist):\n",
    "    n = len(d1)\n",
    "    dist_matrix = np.zeros((n,n))\n",
    "    \n",
    "    for q in range(n):\n",
    "        for x in range(n):\n",
    "            dist_matrix[q,x] = d1[q]*d2[x] - d1[x]*d2[q]\n",
    "    \n",
    "    dist_matrix = 1/piv_piv_dist * np.abs(dist_matrix)\n",
    "    return dist_matrix\n",
    "            \n",
    "\n",
    "def get_best_pto_lbs(pivots, data):\n",
    "    def lb_all_pairs_dist(pivots, data):\n",
    "        for p1,p2 in combinations(pivots,2):\n",
    "            d1 = metric(p1, data)\n",
    "            d2 = metric(p2, data)\n",
    "            quotient = metric(p1, p2) \n",
    "            lbs = pto_all_pairs(d1, d2, quotient)\n",
    "            yield lbs[triu]\n",
    "    \n",
    "    all_lbs = np.stack(list(lb_all_pairs_dist(pivots, data)))\n",
    "    best_lbs = np.amax(all_lbs, axis=0)\n",
    "    return best_lbs\n",
    "\n",
    "\n",
    "best_tri_pto_lbs = get_best_pto_lbs(tri_pivots, data)\n",
    "best_pto_pto_lbs = get_best_pto_lbs(pto_pivots, data)"
   ]
  },
  {
   "cell_type": "code",
   "execution_count": 139,
   "id": "b8f2da2b-4992-42f2-90cb-f144e8d8d025",
   "metadata": {
    "execution": {
     "iopub.execute_input": "2024-09-29T17:35:01.535258Z",
     "iopub.status.busy": "2024-09-29T17:35:01.535130Z",
     "iopub.status.idle": "2024-09-29T17:35:01.716358Z",
     "shell.execute_reply": "2024-09-29T17:35:01.715928Z",
     "shell.execute_reply.started": "2024-09-29T17:35:01.535246Z"
    }
   },
   "outputs": [
    {
     "data": {
      "text/plain": [
       "<matplotlib.legend.Legend at 0x71d4307a6870>"
      ]
     },
     "execution_count": 139,
     "metadata": {},
     "output_type": "execute_result"
    },
    {
     "data": {
      "image/png": "[encoded data removed]",
      "text/plain": [
       "<Figure size 640x480 with 1 Axes>"
      ]
     },
     "metadata": {},
     "output_type": "display_data"
    }
   ],
   "source": [
    "#distances_from_pivot\n",
    "# cached distances\n",
    "\n",
    "def histogram_overlap(data_a, data_b, bins=50):\n",
    "    both = np.hstack((data_a, data_b))\n",
    "    bins = np.histogram_bin_edges(both, bins=bins)\n",
    "    a, _ = np.histogram(data_a, bins)\n",
    "    b, _ = np.histogram(data_b, bins)\n",
    "    overlap_absolute = np.vstack((a, b)).min(axis=0).sum()\n",
    "    bin_width = bins[1] - bins[0]\n",
    "    return overlap_absolute / len(data_a)\n",
    "\n",
    "_, bins, _ = plt.hist(actual_dists, bins=100, label=\"exact distances\")\n",
    "plt.hist(best_tri_tri_lbs, histtype=\"step\", bins=bins, label=\"tri IS, tri access\");\n",
    "plt.hist(best_pto_tri_lbs, histtype=\"step\", bins=bins, label=\"pto IS, tri access\");\n",
    "plt.hist(best_tri_pto_lbs, histtype=\"step\", bins=bins, label=\"tri IS, pto access\");\n",
    "plt.hist(best_pto_pto_lbs, histtype=\"step\", bins=bins, label=\"pto IS, pto access\");\n",
    "\n",
    "plt.legend()"
   ]
  },
  {
   "cell_type": "code",
   "execution_count": 140,
   "id": "508e1ad8-82bf-4ec1-9356-ca973790eab4",
   "metadata": {
    "execution": {
     "iopub.execute_input": "2024-09-29T17:35:03.056767Z",
     "iopub.status.busy": "2024-09-29T17:35:03.056464Z",
     "iopub.status.idle": "2024-09-29T17:35:03.080023Z",
     "shell.execute_reply": "2024-09-29T17:35:03.079717Z",
     "shell.execute_reply.started": "2024-09-29T17:35:03.056744Z"
    }
   },
   "outputs": [
    {
     "data": {
      "text/plain": [
       "np.float64(0.1871071071071071)"
      ]
     },
     "execution_count": 140,
     "metadata": {},
     "output_type": "execute_result"
    }
   ],
   "source": [
    "histogram_overlap(actual_dists, best_tri_tri_lbs)"
   ]
  },
  {
   "cell_type": "code",
   "execution_count": 127,
   "id": "527e3a3f-4088-4dc3-8b09-3c9053397e36",
   "metadata": {
    "execution": {
     "iopub.execute_input": "2024-09-29T17:34:19.091932Z",
     "iopub.status.busy": "2024-09-29T17:34:19.091684Z",
     "iopub.status.idle": "2024-09-29T17:34:19.132532Z",
     "shell.execute_reply": "2024-09-29T17:34:19.132094Z",
     "shell.execute_reply.started": "2024-09-29T17:34:19.091918Z"
    }
   },
   "outputs": [
    {
     "data": {
      "text/plain": [
       "np.float64(0.07854054054054053)"
      ]
     },
     "execution_count": 127,
     "metadata": {},
     "output_type": "execute_result"
    }
   ],
   "source": [
    "histogram_overlap(actual_dists, best_pto_tri_lbs)"
   ]
  },
  {
   "cell_type": "code",
   "execution_count": 128,
   "id": "99eb62eb-7cdd-452a-9b10-847bbe1478eb",
   "metadata": {
    "execution": {
     "iopub.execute_input": "2024-09-29T17:34:19.495719Z",
     "iopub.status.busy": "2024-09-29T17:34:19.495482Z",
     "iopub.status.idle": "2024-09-29T17:34:19.520540Z",
     "shell.execute_reply": "2024-09-29T17:34:19.520066Z",
     "shell.execute_reply.started": "2024-09-29T17:34:19.495704Z"
    }
   },
   "outputs": [
    {
     "data": {
      "text/plain": [
       "np.float64(0.1102882882882883)"
      ]
     },
     "execution_count": 128,
     "metadata": {},
     "output_type": "execute_result"
    }
   ],
   "source": [
    "histogram_overlap(actual_dists, best_pto_pto_lbs)"
   ]
  },
  {
   "cell_type": "code",
   "execution_count": null,
   "id": "3d7718e4-6a9e-482d-bf6a-506bb05180e1",
   "metadata": {},
   "outputs": [],
   "source": []
  },
  {
   "cell_type": "code",
   "execution_count": null,
   "id": "5e3ec660-a322-4e25-8b48-00cc1d33a703",
   "metadata": {},
   "outputs": [],
   "source": []
  }
 ],
 "metadata": {
  "jupytext": {
   "formats": "ipynb,auto:percent"
  },
  "kernelspec": {
   "display_name": "Python 3 (ipykernel)",
   "language": "python",
   "name": "python3"
  },
  "language_info": {
   "codemirror_mode": {
    "name": "ipython",
    "version": 3
   },
   "file_extension": ".py",
   "mimetype": "text/x-python",
   "name": "python",
   "nbconvert_exporter": "python",
   "pygments_lexer": "ipython3",
   "version": "3.12.6"
  }
 },
 "nbformat": 4,
 "nbformat_minor": 5
}
