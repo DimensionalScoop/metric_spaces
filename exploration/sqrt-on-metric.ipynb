{
 "cells": [
  {
   "cell_type": "code",
   "execution_count": null,
   "id": "d80b9e29-5224-40d3-becd-10839a24a572",
   "metadata": {},
   "outputs": [],
   "source": [
    "import numpy as np\n",
    "import matplotlib.pyplot as plt\n",
    "import scipy.stats as stats"
   ]
  },
  {
   "cell_type": "code",
   "execution_count": null,
   "id": "8a3c9fb2-e258-4f2d-b847-5de63b960f56",
   "metadata": {
    "editable": true,
    "slideshow": {
     "slide_type": ""
    },
    "tags": []
   },
   "outputs": [],
   "source": [
    "n = int(1e6)\n",
    "#x = stats.multivariate_normal.rvs([10,3], [3,1], n)\n",
    "x = np.vstack([\n",
    "    stats.weibull_min.rvs(2, size=n),\n",
    "    stats.norm.rvs(0, .11, size=n),\n",
    "]).T\n",
    "d = np.linalg.norm(x, axis=1)\n",
    "\n",
    "assert len(d) == (n)"
   ]
  },
  {
   "cell_type": "code",
   "execution_count": null,
   "id": "d2113e49-f9b9-44ac-ab05-58fec38c2dd4",
   "metadata": {},
   "outputs": [],
   "source": [
    "plt.hexbin(*x.T)"
   ]
  },
  {
   "cell_type": "code",
   "execution_count": null,
   "id": "3ff34591-6b1e-45b8-881a-b7fec8c09573",
   "metadata": {},
   "outputs": [],
   "source": [
    "def plot_scaled_cdf(samples, **kw_args_plot):\n",
    "    cdf = stats.ecdf(samples).cdf\n",
    "    x = np.linspace(min(samples), max(samples))\n",
    "    x_plot = np.linspace(0,1)\n",
    "    y = cdf.evaluate(x)\n",
    "    plt.plot(x_plot, y,  **kw_args_plot)\n",
    "\n",
    "plot_scaled_cdf(d, label=\"normal\")\n",
    "plot_scaled_cdf(np.sqrt(d), label=\"sqrt\")\n",
    "plt.legend()"
   ]
  },
  {
   "cell_type": "code",
   "execution_count": null,
   "id": "468d677e-e9d2-411b-9f11-42d9c74b95d8",
   "metadata": {},
   "outputs": [],
   "source": []
  }
 ],
 "metadata": {
  "kernelspec": {
   "display_name": "Python 3 (ipykernel)",
   "language": "python",
   "name": "python3"
  },
  "language_info": {
   "codemirror_mode": {
    "name": "ipython",
    "version": 3
   },
   "file_extension": ".py",
   "mimetype": "text/x-python",
   "name": "python",
   "nbconvert_exporter": "python",
   "pygments_lexer": "ipython3",
   "version": "3.11.6"
  }
 },
 "nbformat": 4,
 "nbformat_minor": 5
}
