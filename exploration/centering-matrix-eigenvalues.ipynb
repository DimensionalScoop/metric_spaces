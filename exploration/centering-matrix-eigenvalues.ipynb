{
 "cells": [
  {
   "cell_type": "code",
   "execution_count": 3,
   "id": "51381208-7f4d-420a-987a-52b09377c204",
   "metadata": {},
   "outputs": [],
   "source": [
    "import numpy as np\n",
    "import matplotlib.pyplot as plt"
   ]
  },
  {
   "cell_type": "code",
   "execution_count": 2,
   "id": "d92fb560-47b2-49c4-94a9-5346957a7615",
   "metadata": {},
   "outputs": [],
   "source": [
    "def centering(dim):\n",
    "    return np.identity(dim) - 1/dim*np.ones(dim)"
   ]
  },
  {
   "cell_type": "code",
   "execution_count": 9,
   "id": "887cf40e-0098-4a44-8c58-8e3a762668c5",
   "metadata": {},
   "outputs": [],
   "source": [
    "dims = np.arange(2,100)\n",
    "eigenvalues = [np.linalg.eig(centering(d)).eigenvalues for d in dims]\n",
    "eigenvals_1 = [len([1 for ev in ev_set if np.abs(ev-1)<1e-3]) for ev_set in eigenvalues]\n",
    "eigenvals_0 = [len([1 for ev in ev_set if np.abs(ev)<1e-3]) for ev_set in eigenvalues]"
   ]
  },
  {
   "cell_type": "code",
   "execution_count": 10,
   "id": "70042cf6-65fa-4575-8b15-f1ea4ee6f733",
   "metadata": {},
   "outputs": [
    {
     "data": {
      "text/plain": [
       "[<matplotlib.lines.Line2D at 0x768bbe631fd0>]"
      ]
     },
     "execution_count": 10,
     "metadata": {},
     "output_type": "execute_result"
    },
    {
     "data": {
      "image/png": "[encoded data removed]",
      "text/plain": [
       "<Figure size 640x480 with 1 Axes>"
      ]
     },
     "metadata": {},
     "output_type": "display_data"
    }
   ],
   "source": [
    "plt.plot(dims, eigenvals_0)"
   ]
  },
  {
   "cell_type": "code",
   "execution_count": 27,
   "id": "fcdaf03a-8c67-4a15-9957-d80d9d5a4b72",
   "metadata": {},
   "outputs": [
    {
     "data": {
      "text/plain": [
       "array([[1, 0],\n",
       "       [0, 0]])"
      ]
     },
     "execution_count": 27,
     "metadata": {},
     "output_type": "execute_result"
    }
   ],
   "source": [
    "a = np.diag([1,0])\n",
    "a@a.T"
   ]
  },
  {
   "cell_type": "code",
   "execution_count": 50,
   "id": "558c5b72-a9b9-495a-af56-506676274889",
   "metadata": {},
   "outputs": [
    {
     "data": {
      "text/plain": [
       "array([[ 1. , -0.5, -0.5],\n",
       "       [-0.5,  1. , -0.5],\n",
       "       [-0.5, -0.5,  1. ]])"
      ]
     },
     "execution_count": 50,
     "metadata": {},
     "output_type": "execute_result"
    }
   ],
   "source": [
    "dim = 3\n",
    "k = centering(dim)*np.sqrt(dim/(dim-1))\n",
    "np.matmul(k,k.T)"
   ]
  },
  {
   "cell_type": "code",
   "execution_count": 51,
   "id": "df58f017-2bc5-4319-8395-641a7b14ba25",
   "metadata": {},
   "outputs": [
    {
     "data": {
      "text/plain": [
       "array([[ 0.81649658, -0.40824829, -0.40824829],\n",
       "       [-0.40824829,  0.81649658, -0.40824829],\n",
       "       [-0.40824829, -0.40824829,  0.81649658]])"
      ]
     },
     "execution_count": 51,
     "metadata": {},
     "output_type": "execute_result"
    }
   ],
   "source": [
    "np.linalg.d"
   ]
  },
  {
   "cell_type": "code",
   "execution_count": null,
   "id": "ddf65a13-052e-428a-b6be-2109214b94aa",
   "metadata": {},
   "outputs": [],
   "source": []
  }
 ],
 "metadata": {
  "kernelspec": {
   "display_name": "Python 3 (ipykernel)",
   "language": "python",
   "name": "python3"
  },
  "language_info": {
   "codemirror_mode": {
    "name": "ipython",
    "version": 3
   },
   "file_extension": ".py",
   "mimetype": "text/x-python",
   "name": "python",
   "nbconvert_exporter": "python",
   "pygments_lexer": "ipython3",
   "version": "3.11.6"
  }
 },
 "nbformat": 4,
 "nbformat_minor": 5
}
