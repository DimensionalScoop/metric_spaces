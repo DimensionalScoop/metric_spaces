{
 "cells": [
  {
   "cell_type": "code",
   "execution_count": 6,
   "id": "10c898f6-cfcf-4742-b4be-b170a97e048c",
   "metadata": {},
   "outputs": [],
   "source": [
    "import numpy as np\n",
    "import matplotlib.pyplot as plt"
   ]
  },
  {
   "cell_type": "code",
   "execution_count": 59,
   "id": "8386c8f2-8bcd-4106-b60e-0df9c07c9906",
   "metadata": {},
   "outputs": [
    {
     "data": {
      "image/png": "[encoded data removed]",
      "text/plain": [
       "<Figure size 640x480 with 1 Axes>"
      ]
     },
     "metadata": {},
     "output_type": "display_data"
    }
   ],
   "source": [
    "dimension = []\n",
    "sample = []\n",
    "for d in range(2, 20):\n",
    "    for _ in range(1000):\n",
    "        a = 37 * (np.random.rand(d)-0.5)\n",
    "        if np.std(a, ddof=1) == 0:\n",
    "            continue\n",
    "        a = (a - np.mean(a) )/np.std(a, ddof=1)\n",
    "        s = np.sum(a**2)\n",
    "        dimension.append(d)\n",
    "        sample.append(s)\n",
    "\n",
    "plt.scatter(dimension, sample)\n",
    "plt.show()"
   ]
  },
  {
   "cell_type": "code",
   "execution_count": 61,
   "id": "0bebaac6-cf03-4f37-9ef8-b6cb29742c35",
   "metadata": {},
   "outputs": [
    {
     "data": {
      "text/plain": [
       "(1.0, 2)"
      ]
     },
     "execution_count": 61,
     "metadata": {},
     "output_type": "execute_result"
    }
   ],
   "source": [
    "i = 4\n",
    "sample[i], dimension[i]"
   ]
  },
  {
   "cell_type": "code",
   "execution_count": 55,
   "id": "5fb85772-fc85-4ac0-8b0a-8897ca278ef8",
   "metadata": {},
   "outputs": [
    {
     "data": {
      "text/plain": [
       "(array([ 1.,  1.,  1.,  1.,  1.,  1.,  1.,  2.,  2.,  2.,  2.,  2.,  2.,\n",
       "         2.,  3.,  3.,  3.,  3.,  3.,  3.,  3.,  4.,  4.,  4.,  4.,  4.,\n",
       "         4.,  4.,  5.,  5.,  5.,  5.,  5.,  5.,  5.,  6.,  6.,  6.,  6.,\n",
       "         6.,  6.,  6.,  6.,  7.,  7.,  7.,  7.,  7.,  7.,  7.,  7.,  7.,\n",
       "         8.,  8.,  8.,  8.,  8.,  8.,  8.,  9.,  9.,  9.,  9.,  9.,  9.,\n",
       "         9., 10., 10., 10., 10., 10., 10., 10., 11., 11., 11., 11., 11.,\n",
       "        11., 11., 11., 11., 12., 12., 12., 12., 12., 12., 12., 12., 12.,\n",
       "        13., 13., 13., 13., 13., 13., 13., 13., 13., 14., 14., 14., 14.,\n",
       "        14., 14., 14., 14., 14., 14., 15., 15., 15., 15., 15., 15., 15.,\n",
       "        15., 15., 16., 16., 16., 16., 16., 16., 16., 17., 17., 17., 17.,\n",
       "        17., 18., 18., 18., 18., 18., 18., 18., nan]),\n",
       " array([   1,    3,  308,   32,  273,  369,   14,    3,   20,  153,  156,\n",
       "         465,  185,   18,    8,   88,  186,  437,  184,   94,    3,    3,\n",
       "          13,  136,  190,  469,  177,   12,    5,   55,  213,  485,  190,\n",
       "          51,    1,    7,   88,  197,  408,  203,   88,    8,    1,    2,\n",
       "           8,  128,  139,  462,  131,  119,    9,    2,    6,   20,  125,\n",
       "         190,  451,  199,    9,    2,   42,  223,  459,  236,   37,    1,\n",
       "           2,   82,  229,  406,  214,   65,    2,    3,   99,  188,  385,\n",
       "         224,   86,   12,    2,    1,    1,   20,  110,  229,  299,  223,\n",
       "          99,   16,    3,    3,   22,  116,  182,  342,  218,  100,   14,\n",
       "           3,    5,   32,  116,  203,  296,  193,  112,   33,    9,    1,\n",
       "           2,   11,  133,  155,  399,  166,  123,   10,    1,    3,   27,\n",
       "         113,  209,  416,  221,   11,   35,  228,  487,  213,   37,    5,\n",
       "          39,  201,  453,  239,   61,    2, 1000]))"
      ]
     },
     "execution_count": 55,
     "metadata": {},
     "output_type": "execute_result"
    }
   ],
   "source": [
    "np.unique(sample, return_counts=True)"
   ]
  },
  {
   "cell_type": "code",
   "execution_count": null,
   "id": "8972780e-3164-4dd4-b914-a0cf5a91d48a",
   "metadata": {},
   "outputs": [],
   "source": []
  }
 ],
 "metadata": {
  "kernelspec": {
   "display_name": "Python 3 (ipykernel)",
   "language": "python",
   "name": "python3"
  },
  "language_info": {
   "codemirror_mode": {
    "name": "ipython",
    "version": 3
   },
   "file_extension": ".py",
   "mimetype": "text/x-python",
   "name": "python",
   "nbconvert_exporter": "python",
   "pygments_lexer": "ipython3",
   "version": "3.11.8"
  }
 },
 "nbformat": 4,
 "nbformat_minor": 5
}
