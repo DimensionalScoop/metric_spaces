{
 "cells": [
  {
   "cell_type": "code",
   "execution_count": null,
   "id": "0ea56be9-7722-4d04-a0fc-035d8ec9bca4",
   "metadata": {},
   "outputs": [],
   "source": [
    "\"\"\"Does the triangle inequality hold for the z-normed Euclidean distance\n",
    "function? Yes, and the Ptolemaic inee\u0000m\u0000a\u0000i\u0000c\u0000 \u0000i\u0000!\n",
    "\n",
    "This notebook shows that both ineqw\u0000s\u0000 l\u0000 for random points.\n",
    "Additionally, distance histograms show how different lower bounds perform in\n",
    "different dimensions.\n",
    "\"\"\""
   ]
  },
  {
   "cell_type": "code",
   "execution_count": 1,
   "id": "8d9d4648-aa71-4709-ba3e-578ddcbc9239",
   "metadata": {},
   "outputs": [],
   "source": [
    "import numpy as np\n",
    "from scipy.stats import pearsonr, zscore\n",
    "from tqdm import tqdm"
   ]
  },
  {
   "cell_type": "code",
   "execution_count": 80,
   "id": "37ef83a6-5f1d-43b4-a00a-70eae700ae35",
   "metadata": {},
   "outputs": [],
   "source": [
    "class NoVarianceError(ValueError):\n",
    "    pass\n",
    "\n",
    "def corr(x,y, ddof=1):\n",
    "    var_x, cov, cov, var_y = np.cov(x,y, ddof=ddof).flatten()\n",
    "    if var_x==0 or var_y==0:\n",
    "        raise NoVarianceError(\"variable has no variance!\")\n",
    "\n",
    "    cov = cov / np.sqrt(var_x * var_y)\n",
    "    return np.clip(cov,-1,1) #pearsonr(x,y).statistic\n",
    "\n",
    "def cos_theta(x,y):\n",
    "    x_n, y_n = np.linalg.norm(x), np.linalg.norm(y)\n",
    "    return np.sum(x*y,axis=0) / x_n / y_n\n",
    "\n",
    "def d(x,y):\n",
    "    return np.sqrt(2*(1-corr(x,y)))\n",
    "\n",
    "def is_triangle_inequal(x,y,z):\n",
    "    return d(x,y) <= d(x,z) + d(z,y)\n",
    "\n",
    "def triangle_violation(x,y,z):\n",
    "    return - (d(x,z) + d(z,y) - d(x,y))\n",
    "\n",
    "def pto_violation(x,y,z,k):\n",
    "    return - ( d(x,y)*d(z,k) + d(y, z) * d(k,x) - d(x,z) * d(y,k) )"
   ]
  },
  {
   "cell_type": "code",
   "execution_count": 81,
   "id": "247eb017-f2f0-4300-8f40-b2c15bc453a5",
   "metadata": {},
   "outputs": [],
   "source": [
    "x = [1,-1,-1]\n",
    "y = [-1, 9, 3]\n",
    "z = [-2,-3,1]"
   ]
  },
  {
   "cell_type": "code",
   "execution_count": 82,
   "id": "062232e4-de27-411f-8cb7-3e5594fa36fc",
   "metadata": {},
   "outputs": [],
   "source": [
    "x,y,z = [-11, -10 ,-19], [14, 11, 16], [7 ,7 ,7]"
   ]
  },
  {
   "cell_type": "code",
   "execution_count": 83,
   "id": "fba7bdde-821e-4d6a-972c-922a0f6b3031",
   "metadata": {},
   "outputs": [],
   "source": [
    "# rounding errors\n",
    "x,y,z = [-10, -10,  19], [ 9, 12,  0], [0, 0, 2]"
   ]
  },
  {
   "cell_type": "code",
   "execution_count": 84,
   "id": "090e065b-3752-4726-8eb4-63257a10f6fe",
   "metadata": {},
   "outputs": [
    {
     "data": {
      "text/plain": [
       "(-0.9707253433941511, -0.9707253433941508, 1.0, 2.220446049250313e-16)"
      ]
     },
     "execution_count": 84,
     "metadata": {},
     "output_type": "execute_result"
    }
   ],
   "source": [
    "\n",
    "d(x,y), d(y,z), d(z,y)\n",
    "corr(x,y), corr(y,z), corr(z,x), triangle_violation(x,y,z)"
   ]
  },
  {
   "cell_type": "code",
   "execution_count": null,
   "id": "e685731f-7379-4c28-a148-fca65b26363a",
   "metadata": {},
   "outputs": [],
   "source": [
    "np.histogram_bin_edges"
   ]
  },
  {
   "cell_type": "code",
   "execution_count": 112,
   "id": "5520f9e5-f87d-4af0-85c4-33ec08158883",
   "metadata": {},
   "outputs": [
    {
     "data": {
      "text/plain": [
       "1.0"
      ]
     },
     "execution_count": 112,
     "metadata": {},
     "output_type": "execute_result"
    }
   ],
   "source": [
    "def histogram_overlap(data_a, data_b, bins=50):\n",
    "    both = np.hstack((data_a, data_b))\n",
    "    bins = np.histogram_bin_edges(both, bins=bins)\n",
    "    a,_ = np.histogram(data_a, bins)\n",
    "    b,_ = np.histogram(data_b, bins)\n",
    "    overlap_absolute = np.vstack((a,b)).min(axis=0).sum()\n",
    "    bin_width = bins[1] - bins[0]\n",
    "    return overlap_absolute / len(data_a)\n",
    "\n",
    "histogram_overlap(np.array([1,1,1,4]), np.array([1,1,1,4]), bins=100)"
   ]
  },
  {
   "cell_type": "code",
   "execution_count": null,
   "id": "13cf4eaa-9995-4918-938b-954b4b1ec02a",
   "metadata": {},
   "outputs": [],
   "source": []
  },
  {
   "cell_type": "code",
   "execution_count": 85,
   "id": "305c6d95-ee6b-408f-81b7-4ba4b0bb8dbd",
   "metadata": {},
   "outputs": [],
   "source": [
    "from collections import defaultdict"
   ]
  },
  {
   "cell_type": "code",
   "execution_count": 141,
   "id": "18aebd17-a02e-4178-a59b-bcd9d8b1c968",
   "metadata": {},
   "outputs": [],
   "source": [
    "DIMS = 20\n",
    "SAMPLES = 100000"
   ]
  },
  {
   "cell_type": "code",
   "execution_count": 142,
   "id": "4c20385f-6eec-43e6-bbe7-92b65b65cec4",
   "metadata": {},
   "outputs": [
    {
     "name": "stderr",
     "output_type": "stream",
     "text": [
      "100%|███████████████████████████████████████████████████████████████████████████████████████████████████| 100000/100000 [00:10<00:00, 9987.95it/s]\n"
     ]
    },
    {
     "data": {
      "image/png": "[encoded data removed]",
      "text/plain": [
       "<Figure size 640x480 with 1 Axes>"
      ]
     },
     "metadata": {},
     "output_type": "display_data"
    }
   ],
   "source": [
    "dists = defaultdict(list)\n",
    "for _ in tqdm(range(SAMPLES)):\n",
    "    vecs = np.random.rand(2,DIMS)*37 - 18.5\n",
    "\n",
    "    try:\n",
    "        dists[\"raw\"].append(d(*vecs))\n",
    "        dists[\"z\"].append(d(*zscore(vecs,axis=1)))\n",
    "    \n",
    "        vecs_no_mean = vecs - vecs.sum(axis=0)\n",
    "        dists[\"no_mean\"].append(d(*vecs_no_mean))        \n",
    "    except NoVarianceError:\n",
    "        pass\n",
    "\n",
    "for k,v in dists.items():\n",
    "    plt.hist(v,density=True,histtype=\"step\", label=k, bins=100)\n",
    "plt.legend()\n",
    "plt.xlabel(f\"$d_z$ distance between uniformly random {DIMS}-d points\")\n",
    "plt.ylabel(\"frequency\")\n",
    "plt.show()"
   ]
  },
  {
   "cell_type": "code",
   "execution_count": 143,
   "id": "0a6091f1-7ca6-42cc-9943-a532e967998f",
   "metadata": {},
   "outputs": [
    {
     "name": "stderr",
     "output_type": "stream",
     "text": [
      "100%|███████████████████████████████████████████████████████████████████████████████████████████████████| 100000/100000 [00:21<00:00, 4558.21it/s]\n"
     ]
    }
   ],
   "source": [
    "lb = defaultdict(list)\n",
    "for _ in tqdm(range(SAMPLES)):\n",
    "    vecs = np.random.rand(4,DIMS)*37 - 18.5\n",
    "    x,y,z,_ = vecs\n",
    "    lb[\"triangle\"].append(np.abs(d(x,y) - d(z, y)))\n",
    "\n",
    "    p1, p2, q, o = vecs\n",
    "    numerator = d(p1,o)*d(p2,q) - d(p1,q)*d(p2,o)\n",
    "    quotient = d(p1,p2)\n",
    "    lb[\"ptolemy\"].append(np.abs(numerator)/quotient)\n",
    "\n",
    "    p1, p2, q, o = vecs\n",
    "    p1_lb = np.abs(d(p1,o) - d(p1, q))\n",
    "    p2_lb = np.abs(d(p2,o) - d(p2, q))\n",
    "    lb[\"two_triangle\"].append(max(p1_lb, p2_lb))"
   ]
  },
  {
   "cell_type": "code",
   "execution_count": 144,
   "id": "280ff886-9a17-4ae1-b233-d3e5a95bcf13",
   "metadata": {},
   "outputs": [
    {
     "name": "stdout",
     "output_type": "stream",
     "text": [
      "overlaps\n",
      "triangle 0.00141\n",
      "ptolemy 0.00872\n",
      "two_triangle 0.00203\n",
      "two_triangle 0.00904\n"
     ]
    },
    {
     "data": {
      "image/png": "[encoded data removed]",
      "text/plain": [
       "<Figure size 640x480 with 1 Axes>"
      ]
     },
     "metadata": {},
     "output_type": "display_data"
    }
   ],
   "source": [
    "exact_dists = dists[\"raw\"]\n",
    "plt.hist(exact_dists,density=True,label=\"exact_distances\", bins=50)\n",
    "\n",
    "print(\"overlaps\")\n",
    "for k,v in lb.items():\n",
    "    plt.hist(v,density=True,histtype=\"step\", label=\"lb_\"+k, bins=50)\n",
    "    print(k,histogram_overlap(v,exact_dists))\n",
    "\n",
    "# best of all\n",
    "everything = np.asarray([v for _,v in lb.items()])\n",
    "best = everything.max(axis=0)\n",
    "plt.hist(best,density=True,histtype=\"step\", label=\"best_lb\", bins=50)\n",
    "print(\"max_lb\",histogram_overlap(best,exact_dists))\n",
    "\n",
    "plt.legend()\n",
    "plt.xlabel(f\"$d_z$ distance between uniformly random {DIMS}-d points\")\n",
    "plt.ylabel(\"frequency\")\n",
    "plt.show()"
   ]
  },
  {
   "cell_type": "code",
   "execution_count": 155,
   "id": "4c05a810-f474-49a1-a752-90e9cbe89831",
   "metadata": {},
   "outputs": [
    {
     "data": {
      "image/png": "[encoded data removed]",
      "text/plain": [
       "<Figure size 640x480 with 1 Axes>"
      ]
     },
     "metadata": {},
     "output_type": "display_data"
    }
   ],
   "source": [
    "# using four pivots:\n",
    "# we can do that because points are uniformly random\n",
    "pto_4_piv = np.array(lb[\"ptolemy\"]).reshape(4,-1)\n",
    "pto_4_piv = pto_4_piv.max(axis=0)\n",
    "plt.hist(best,density=True,histtype=\"step\", label=\"best_lb\", bins=50)\n",
    "plt.hist(pto_4_piv,density=True,histtype=\"step\", label=\"pto_4_piv\", bins=50);"
   ]
  },
  {
   "cell_type": "code",
   "execution_count": 34,
   "id": "14d39555-031f-4fb7-bda8-23b6c21c558a",
   "metadata": {},
   "outputs": [
    {
     "name": "stderr",
     "output_type": "stream",
     "text": [
      "100%|██████████████████████████████████████████████████████████████████████████████████████████████████| 100000/100000 [00:02<00:00, 39682.43it/s]\n"
     ]
    },
    {
     "data": {
      "text/plain": [
       "(array([   3.,    4.,    8.,    9.,   17.,   29.,   37.,   47.,   56.,\n",
       "          53.,   78.,   80.,   81.,  129.,  123.,  157.,  151.,  188.,\n",
       "         214.,  222.,  261.,  283.,  290.,  303.,  344.,  308.,  360.,\n",
       "         390.,  392.,  435.,  460.,  512.,  546.,  605.,  605.,  607.,\n",
       "         611.,  666.,  711.,  749.,  745.,  820.,  819.,  879.,  880.,\n",
       "         916.,  963., 1043., 1058., 1077., 1177., 1167., 1187., 1186.,\n",
       "        1294., 1260., 1399., 1415., 1346., 1395., 1490., 1528., 1563.,\n",
       "        1602., 1568., 1607., 1657., 1725., 1798., 1747., 1811., 1843.,\n",
       "        1776., 1887., 1930., 1988., 1929., 1920., 1897., 1872., 1935.,\n",
       "        1950., 1921., 1860., 1962., 1898., 1843., 1890., 1803., 1754.,\n",
       "        1671., 1696., 1584., 1444., 1474., 1310., 1203., 1077.,  899.,\n",
       "         538.]),\n",
       " array([0.02869428, 0.0484064 , 0.06811852, 0.08783064, 0.10754276,\n",
       "        0.12725488, 0.14696701, 0.16667913, 0.18639125, 0.20610337,\n",
       "        0.22581549, 0.24552761, 0.26523973, 0.28495186, 0.30466398,\n",
       "        0.3243761 , 0.34408822, 0.36380034, 0.38351246, 0.40322458,\n",
       "        0.4229367 , 0.44264883, 0.46236095, 0.48207307, 0.50178519,\n",
       "        0.52149731, 0.54120943, 0.56092155, 0.58063368, 0.6003458 ,\n",
       "        0.62005792, 0.63977004, 0.65948216, 0.67919428, 0.6989064 ,\n",
       "        0.71861852, 0.73833065, 0.75804277, 0.77775489, 0.79746701,\n",
       "        0.81717913, 0.83689125, 0.85660337, 0.8763155 , 0.89602762,\n",
       "        0.91573974, 0.93545186, 0.95516398, 0.9748761 , 0.99458822,\n",
       "        1.01430034, 1.03401247, 1.05372459, 1.07343671, 1.09314883,\n",
       "        1.11286095, 1.13257307, 1.15228519, 1.17199732, 1.19170944,\n",
       "        1.21142156, 1.23113368, 1.2508458 , 1.27055792, 1.29027004,\n",
       "        1.30998216, 1.32969429, 1.34940641, 1.36911853, 1.38883065,\n",
       "        1.40854277, 1.42825489, 1.44796701, 1.46767914, 1.48739126,\n",
       "        1.50710338, 1.5268155 , 1.54652762, 1.56623974, 1.58595186,\n",
       "        1.60566398, 1.62537611, 1.64508823, 1.66480035, 1.68451247,\n",
       "        1.70422459, 1.72393671, 1.74364883, 1.76336096, 1.78307308,\n",
       "        1.8027852 , 1.82249732, 1.84220944, 1.86192156, 1.88163368,\n",
       "        1.9013458 , 1.92105793, 1.94077005, 1.96048217, 1.98019429,\n",
       "        1.99990641]),\n",
       " <BarContainer object of 100 artists>)"
      ]
     },
     "execution_count": 34,
     "metadata": {},
     "output_type": "execute_result"
    },
    {
     "data": {
      "image/png": "[encoded data removed]",
      "text/plain": [
       "<Figure size 640x480 with 1 Axes>"
      ]
     },
     "metadata": {},
     "output_type": "display_data"
    }
   ],
   "source": [
    "dists = []\n",
    "for _ in tqdm(range(100000)):\n",
    "    vecs = np.random.randint(-20, 20, size=[2,5])\n",
    "    #vecs = zscore(vecs,axis=1) \n",
    "    dists.append(d(*vecs))\n",
    "\n",
    "plt.hist(dists, bins=100)"
   ]
  },
  {
   "cell_type": "code",
   "execution_count": 9,
   "id": "99a719d8-a9e1-4362-8f96-2ae11def2ef3",
   "metadata": {},
   "outputs": [
    {
     "name": "stderr",
     "output_type": "stream",
     "text": [
      "100%|███████████████████████████████████████████████████████████████████████████████████████████████████| 100000/100000 [00:21<00:00, 4752.37it/s]\n"
     ]
    }
   ],
   "source": [
    "dists = []\n",
    "for _ in tqdm(range(100000)):\n",
    "    vecs = np.random.randint(-20, 20, size=[4,5])\n",
    "    vecs = zscore(vecs,axis=1) \n",
    "    x,y,z,k = vecs\n",
    "    try:\n",
    "        if triangle_violation(x,y,z) > 1e-3:\n",
    "            print(x,y,z)\n",
    "        if pto_violation(x,y,z,k) > 1e-3:\n",
    "            print(\"pto violation\", x,y,z)\n",
    "    except ValueError:\n",
    "        pass"
   ]
  },
  {
   "cell_type": "code",
   "execution_count": 12,
   "id": "373010de-61da-47ae-bad9-d72716f3038b",
   "metadata": {},
   "outputs": [
    {
     "name": "stderr",
     "output_type": "stream",
     "text": [
      "100%|███████████████████████████████████████████████████████████████████████████████████████████████████| 100000/100000 [00:18<00:00, 5434.61it/s]\n"
     ]
    }
   ],
   "source": [
    "for _ in tqdm(range(100000)):\n",
    "    vecs = np.random.randint(-20, 20, size=[4,5])\n",
    "    #vecs = vecs - vecs.mean(axis=0)\n",
    "    x,y,z,k = vecs\n",
    "    if triangle_violation(x,y,z) > 1e-3:\n",
    "        print(x,y,z)\n",
    "    if pto_violation(x,y,z,k) > 1e-3:\n",
    "        print(\"pto violation\", x,y,z)"
   ]
  },
  {
   "cell_type": "code",
   "execution_count": 28,
   "id": "4c40ae95-0f55-4273-a9b2-0d65a10ccfa8",
   "metadata": {},
   "outputs": [
    {
     "name": "stderr",
     "output_type": "stream",
     "text": [
      " 11%|██████████▉                                                                                        | 11087/100000 [00:00<00:02, 37830.62it/s]/tmp/ipykernel_62546/1962127311.py:3: RuntimeWarning: invalid value encountered in sqrt\n",
      "  return np.sqrt(2- 2*cos_theta(a,b))\n",
      " 19%|██████████████████▉                                                                                | 19141/100000 [00:00<00:02, 39339.04it/s]/tmp/ipykernel_62546/2887405472.py:11: RuntimeWarning: invalid value encountered in scalar divide\n",
      "  return np.sum(x*y,axis=0) / x_n / y_n\n",
      "100%|██████████████████████████████████████████████████████████████████████████████████████████████████| 100000/100000 [00:02<00:00, 39793.32it/s]\n"
     ]
    }
   ],
   "source": [
    "def cos_dist_triangle_inequality(x,y,z):\n",
    "    def d_t(a,b):\n",
    "        return np.sqrt(2- 2*cos_theta(a,b))\n",
    "    lhs = d_t(x,y)\n",
    "    rhs = d_t(x,z) + d_t(z,y)\n",
    "    # lhs <= rhs\n",
    "    violation = lhs - rhs\n",
    "    return violation\n",
    "\n",
    "side_diffs = []\n",
    "for _ in tqdm(range(100000)):\n",
    "    vecs = np.random.randint(-20, 20, size=[4,3])\n",
    "    vecs = vecs / np.linalg.norm(vecs, axis=0)#- vecs.mean(axis=0)\n",
    "    x,y,z,k = vecs\n",
    "    diff = cos_dist_triangle_inequality(x,y,z)\n",
    "    side_diffs.append(diff)\n",
    "    if diff > 1e-3:\n",
    "        print(diff, x,y,z)\n",
    "        break\n"
   ]
  },
  {
   "cell_type": "code",
   "execution_count": 29,
   "id": "33017211-c2bb-4531-b1c1-101a4aeb1546",
   "metadata": {},
   "outputs": [
    {
     "data": {
      "text/plain": [
       "(array([  275.,  1115.,  3037.,  6273., 10922., 16371., 18036., 16911.,\n",
       "        15770., 11281.]),\n",
       " array([-3.90130221, -3.51117199, -3.12104177, -2.73091155, -2.34078133,\n",
       "        -1.95065111, -1.56052088, -1.17039066, -0.78026044, -0.39013022,\n",
       "         0.        ]),\n",
       " <BarContainer object of 10 artists>)"
      ]
     },
     "execution_count": 29,
     "metadata": {},
     "output_type": "execute_result"
    },
    {
     "data": {
      "image/png": "[encoded data removed]",
      "text/plain": [
       "<Figure size 640x480 with 1 Axes>"
      ]
     },
     "metadata": {},
     "output_type": "display_data"
    }
   ],
   "source": [
    "import matplotlib.pyplot as plt\n",
    "\n",
    "plt.hist(side_diffs)"
   ]
  },
  {
   "cell_type": "code",
   "execution_count": 107,
   "id": "adef8c36-92ca-488d-885e-c48e7fa06400",
   "metadata": {},
   "outputs": [],
   "source": [
    "def d(corr, m=10):\n",
    "    return np.sqrt(2*m*(1-corr))\n",
    "\n",
    "def is_triangle_inequal(x_var, y_var, z_var, xy_cov, xz_cov, yz_cov):\n",
    "    xy_corr = xy_cov / np.sqrt(x_var * y_var)\n",
    "    xz_corr = xz_cov / np.sqrt(x_var * z_var)\n",
    "    yz_corr = yz_cov / np.sqrt(z_var * y_var)\n",
    "    return d(xy_cov) <= d(xz_cov) + d(yz_cov)"
   ]
  },
  {
   "cell_type": "code",
   "execution_count": 108,
   "id": "0466e3eb-3870-452c-a5c1-c63b24c34c07",
   "metadata": {},
   "outputs": [
    {
     "name": "stderr",
     "output_type": "stream",
     "text": [
      "  0%|                                                                                                                   | 0/10000 [00:00<?, ?it/s]"
     ]
    },
    {
     "name": "stdout",
     "output_type": "stream",
     "text": [
      "violation\n"
     ]
    },
    {
     "name": "stderr",
     "output_type": "stream",
     "text": [
      "\n"
     ]
    }
   ],
   "source": [
    "for _ in tqdm(range(10000)):\n",
    "    vars = np.random.rand(3) * 100\n",
    "    covars = (np.random.rand(3) - 0.5) * 100\n",
    "    if not is_triangle_inequal(*vars, *covars):\n",
    "        print(\"violation\")\n",
    "        break"
   ]
  },
  {
   "cell_type": "code",
   "execution_count": null,
   "id": "ec3a0978-0677-4ecf-827f-9b91df0049f6",
   "metadata": {},
   "outputs": [],
   "source": []
  },
  {
   "cell_type": "code",
   "execution_count": null,
   "id": "4d0f2a5d-1a2c-434c-b615-4e675fd0571c",
   "metadata": {},
   "outputs": [],
   "source": [
    "import numpy.linalg "
   ]
  },
  {
   "cell_type": "code",
   "execution_count": 235,
   "id": "4858fc39-e5d7-4f23-8d90-0f9f52bdc90e",
   "metadata": {},
   "outputs": [],
   "source": []
  },
  {
   "cell_type": "code",
   "execution_count": 129,
   "id": "d81e3624-98bf-4fcb-a59b-95cd8255559c",
   "metadata": {},
   "outputs": [
    {
     "data": {
      "text/plain": [
       "(-0.3830218630158735, -0.3830218630158734)"
      ]
     },
     "execution_count": 129,
     "metadata": {},
     "output_type": "execute_result"
    }
   ],
   "source": [
    "x,y = np.random.randint(-20, 20, size=[2,5])\n",
    "x,y = x-np.mean(x), y-np.mean(y)\n",
    "\n",
    "corr(x,y), cos_theta(x,y)"
   ]
  },
  {
   "cell_type": "code",
   "execution_count": 130,
   "id": "36de678b-45d8-4818-b64b-76f6247d7a8c",
   "metadata": {},
   "outputs": [
    {
     "data": {
      "text/plain": [
       "22.829805080201623"
      ]
     },
     "execution_count": 130,
     "metadata": {},
     "output_type": "execute_result"
    }
   ],
   "source": [
    "np.linalg.norm(x)"
   ]
  },
  {
   "cell_type": "code",
   "execution_count": 134,
   "id": "6895c704-1f9e-44b5-929b-0e1f92d34943",
   "metadata": {},
   "outputs": [],
   "source": [
    "while True:\n",
    "    x,y = np.random.randint(-20, 20, size=[2,4])\n",
    "    if np.abs(corr(x,y)) < 1e-5:\n",
    "        break"
   ]
  },
  {
   "cell_type": "code",
   "execution_count": 135,
   "id": "a79bec1a-6009-4743-9dbd-f599ce9a85fb",
   "metadata": {},
   "outputs": [
    {
     "data": {
      "text/plain": [
       "(array([-16, -16, -11,  19]), array([ 3, 18, -2,  8]), 0.0)"
      ]
     },
     "execution_count": 135,
     "metadata": {},
     "output_type": "execute_result"
    }
   ],
   "source": [
    "x,y, corr(x,y)"
   ]
  },
  {
   "cell_type": "code",
   "execution_count": 139,
   "id": "2a739231-72de-469d-b38a-e1b79cc56d64",
   "metadata": {},
   "outputs": [
    {
     "data": {
      "text/plain": [
       "(array([-0.68599434, -0.68599434, -0.34299717,  1.71498585]),\n",
       " array([-0.50709255,  1.52127766, -1.18321596,  0.16903085]))"
      ]
     },
     "execution_count": 139,
     "metadata": {},
     "output_type": "execute_result"
    }
   ],
   "source": [
    "zscore(x), zscore(y)"
   ]
  },
  {
   "cell_type": "code",
   "execution_count": 140,
   "id": "77352f2d-ceff-4a77-a5ad-43d150749096",
   "metadata": {},
   "outputs": [
    {
     "data": {
      "text/plain": [
       "1.4142135623730951"
      ]
     },
     "execution_count": 140,
     "metadata": {},
     "output_type": "execute_result"
    }
   ],
   "source": [
    "d(x,y)"
   ]
  },
  {
   "cell_type": "code",
   "execution_count": null,
   "id": "552b21ec-9db4-4e1b-93d9-cb44faafa885",
   "metadata": {},
   "outputs": [],
   "source": []
  }
 ],
 "metadata": {
  "kernelspec": {
   "display_name": "Python 3 (ipykernel)",
   "language": "python",
   "name": "python3"
  },
  "language_info": {
   "codemirror_mode": {
    "name": "ipython",
    "version": 3
   },
   "file_extension": ".py",
   "mimetype": "text/x-python",
   "name": "python",
   "nbconvert_exporter": "python",
   "pygments_lexer": "ipython3",
   "version": "3.11.6"
  }
 },
 "nbformat": 4,
 "nbformat_minor": 5
}
