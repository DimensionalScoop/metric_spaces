{
 "cells": [
  {
   "cell_type": "code",
   "execution_count": null,
   "id": "e84bea02-b54d-44c5-bba5-ce69b48b9273",
   "metadata": {
    "editable": true,
    "slideshow": {
     "slide_type": ""
    },
    "tags": []
   },
   "outputs": [],
   "source": [
    "import matplotlib.pyplot as plt\n",
    "import numpy as np\n",
    "from scipy.spatial.transform import Rotation as R\n",
    "import seaborn as sns\n",
    "import matplotlib as mpl\n",
    "import scipy.stats as stats\n",
    "\n",
    "from matplotlib.collections import LineCollection"
   ]
  },
  {
   "cell_type": "code",
   "execution_count": null,
   "id": "ec5cc4de-2477-4d78-989d-dd67d4caefeb",
   "metadata": {},
   "outputs": [],
   "source": [
    "def euclid(a,b):\n",
    "    dim = max(len(a.shape), len(b.shape))\n",
    "    if dim == 1:\n",
    "        # a, b are just two points\n",
    "        axis = 0\n",
    "    elif dim == 2:\n",
    "        # a and/or b are lists of points\n",
    "        axis = 1\n",
    "    else:\n",
    "        raise ValueError()\n",
    "    \n",
    "    d_squared = np.sum((a-b)**2, axis=axis)\n",
    "    return np.sqrt(d_squared)\n",
    "\n",
    "def taxicab(a,b):\n",
    "    return np.sum(np.abs(a-b))\n",
    "\n",
    "def chebyshev(a,b):\n",
    "    return np.max(np.abs(a-b))\n",
    "\n",
    "def d(a,b):\n",
    "    \"\"\"The metric distance between points a and b\"\"\"\n",
    "    a = np.asarray(a)\n",
    "    b = np.asarray(b)\n",
    "    return euclid(a,b)\n",
    "\n",
    "def distances_to_point(p, other_points):\n",
    "    \"\"\"Calculates the distance from `p` to all `other_points`\"\"\"\n",
    "    return euclid(p, other_points)\n",
    "\n",
    "METRIC_NAME = r\"\\|.\\|_\\infty\""
   ]
  },
  {
   "cell_type": "code",
   "execution_count": null,
   "id": "f2e10c8e-e39a-4a20-896d-2f82933fd6cb",
   "metadata": {},
   "outputs": [],
   "source": [
    "def to_pivot_space(point, pivots):\n",
    "    return np.asarray([d(piv, point) for piv in pivots])\n",
    "\n",
    "def slow_points_to_pivot_space(points, pivots):\n",
    "    return np.asarray([to_pivot_space(pt, pivots) for pt in points])\n",
    "\n",
    "def points_to_pivot_space(points, pivots):\n",
    "    n_points = points.shape[0]\n",
    "    n_dim = len(pivots)\n",
    "    transformed = np.empty([n_points, n_dim])\n",
    "    for dim, pv in enumerate(pivots):\n",
    "        transformed[:, dim] = distances_to_point(pv, points)\n",
    "    return transformed"
   ]
  },
  {
   "cell_type": "code",
   "execution_count": null,
   "id": "cccc6fa7-acd0-4ba0-8d18-1fb69284db05",
   "metadata": {},
   "outputs": [],
   "source": [
    "pivots = np.asarray([[-0.5,0], [0.5,0]])"
   ]
  },
  {
   "cell_type": "code",
   "execution_count": null,
   "id": "6c7c929f-41cb-43b3-9d35-a8829f31242a",
   "metadata": {},
   "outputs": [],
   "source": [
    "def fill_rectangle(x_lim, y_lim, n):\n",
    "    \"\"\"Return about `n` points that are inside the given rectangle\"\"\"\n",
    "    samples = int(np.sqrt(n))\n",
    "    x = np.linspace(*x_lim, samples)\n",
    "    y = np.linspace(*y_lim, samples)\n",
    "    xx, yy = np.meshgrid(x,y)\n",
    "    points = np.array([xx.flatten(), yy.flatten()]).T\n",
    "    return points"
   ]
  },
  {
   "cell_type": "code",
   "execution_count": null,
   "id": "fcb5f612-6717-4d72-9b64-4e13deab18e8",
   "metadata": {},
   "outputs": [],
   "source": [
    "def normal(n=1000):\n",
    "    return np.random.normal(loc=0.5, scale=0.05, size=n)\n",
    "circle = np.asarray([0.2+normal(),0.2+normal()]).T"
   ]
  },
  {
   "cell_type": "code",
   "execution_count": null,
   "id": "ab413ef5-7ffc-4efc-8684-c58e7ec1ff9b",
   "metadata": {},
   "outputs": [],
   "source": [
    "def fill_circle(radius, n):\n",
    "    bounds = (-radius, radius)\n",
    "    points = fill_rectangle(bounds, bounds, n)\n",
    "    distance_to_center = np.sum(points**2, axis=1)\n",
    "    return points[distance_to_center<=radius**2]\n",
    "\n",
    "def move_points(points, delta_x, delta_y):\n",
    "    points = points.copy()\n",
    "    points[:,0] += delta_x\n",
    "    points[:,1] += delta_y\n",
    "    return points"
   ]
  },
  {
   "cell_type": "code",
   "execution_count": null,
   "id": "d0cd0d4c-68e4-48d3-bff0-321dc05bbf75",
   "metadata": {},
   "outputs": [],
   "source": [
    "def circle_around_point(radius, point, n):\n",
    "    c = fill_circle(radius, n)\n",
    "    return move_points(c, *point)\n",
    "\n",
    "points = np.vstack([\n",
    "    circle_around_point(1, piv, 100000)\n",
    "    for piv in pivots\n",
    "])\n",
    "\n",
    "\n",
    "circle = fill_circle(0.1, 1000)\n",
    "circle[:,0] += 0.3\n",
    "\n",
    "plt.figure(figsize=(10,5))\n",
    "plt.subplot(1,2,1)\n",
    "plt.xlabel(\"x\")\n",
    "plt.ylabel(\"y\")\n",
    "\n",
    "plt.plot(*points.T, \".\");\n",
    "plt.plot(*circle.T, \"x\");\n",
    "plt.plot(*pivots.T, \"o\", label=\"pivots\")\n",
    "plt.legend();\n",
    "\n",
    "plt.gca().set_aspect('equal')\n",
    "\n",
    "\n",
    "plt.subplot(1,2,2)\n",
    "plt.xlabel(\"$\\Phi_1$\")\n",
    "plt.ylabel(\"$\\Phi_2$\")\n",
    "\n",
    "points_piv = points_to_pivot_space(points, pivots)\n",
    "plt.plot(*points_piv.T, \".\", alpha=0.01);\n",
    "\n",
    "circle_piv = points_to_pivot_space(circle, pivots)\n",
    "plt.plot(*circle_piv.T, \".\");\n",
    "\n",
    "plt.tight_layout()\n",
    "plt.gca().set_aspect('equal')"
   ]
  },
  {
   "cell_type": "code",
   "execution_count": null,
   "id": "28dd60ff-1ac3-4b0b-9157-be2f45152ebe",
   "metadata": {},
   "outputs": [],
   "source": [
    "def rot_2d(radians):\n",
    "    \"\"\"returns a rotation matrix\"\"\"\n",
    "    rot = R.from_rotvec(np.array([0,0,radians])).as_matrix()\n",
    "    rot = rot[0:2,0:2]\n",
    "    return rot\n",
    "    \n",
    "def rectify_transform(pivots, points_in_ps):\n",
    "    \"\"\"rotates and translates points in the pivots space into a \"normal\" position.\n",
    "    \"\"\" \n",
    "    assert len(pivots) == 2, \"Not implemented for higher dimensions\"\n",
    "    piv_dist = d(*pivots)\n",
    "    base_length = np.sqrt(2) * piv_dist\n",
    "    proj = points_piv - 0.5 * np.array([piv_dist, piv_dist])\n",
    "    proj = proj @ rot_2d(np.pi/4)\n",
    "    proj += np.array([base_length / 2,0])\n",
    "    return proj\n"
   ]
  },
  {
   "cell_type": "code",
   "execution_count": null,
   "id": "d986214b-4d11-432e-9630-eb9403a7b33c",
   "metadata": {},
   "outputs": [],
   "source": [
    "points = np.vstack([\n",
    "    circle_around_point(1, piv, 1000)\n",
    "    for piv in pivots\n",
    "])\n",
    "points = np.unique(points, axis=1)"
   ]
  },
  {
   "cell_type": "code",
   "execution_count": null,
   "id": "a16e285b-933a-4767-bf32-e87c727dd637",
   "metadata": {},
   "outputs": [],
   "source": [
    "def mask_forbidden(pivots):\n",
    "    \"\"\"Plot a gray area where the pivot space is inaccessible.\n",
    "\n",
    "    This region does not have an preimage, as can easily be seen\n",
    "    by using the triangle inequality, with both pivots being two\n",
    "    points of the triangle.\n",
    "    \"\"\"\n",
    "    def mask(*args, **kwargs):\n",
    "        return plt.fill_between(*args,**kwargs,color=\"lightgrey\", zorder=2)\n",
    "    \n",
    "    p_1, p_2 = points_to_pivot_space(pivots, pivots)\n",
    "    b = p_2[0]\n",
    "    m = -1\n",
    "    inacc_below = lambda x: m*x+b\n",
    "\n",
    "    x = np.linspace(-10,10)\n",
    "    y = inacc_below(x)\n",
    "    mask(x, y, y - 100)\n",
    "\n",
    "    m = +1\n",
    "    inacc_above = lambda x: m*x+b\n",
    "    y = inacc_above(x)\n",
    "    mask(x, y, y + 100)\n",
    "\n",
    "    inacc_below = lambda x: m*x-b\n",
    "    y = inacc_below(x)\n",
    "    mask(x, y-100, y)\n",
    "    \n",
    "\n",
    "\n",
    "mask_forbidden(pivots)\n",
    "plt.grid();\n",
    "plt.xlim(-1,2)\n",
    "plt.ylim(-1,2)"
   ]
  },
  {
   "cell_type": "code",
   "execution_count": null,
   "id": "18d87989-b072-4f6b-ad09-2d139721b1e6",
   "metadata": {},
   "outputs": [],
   "source": [
    "points = fill_circle(2, 1000)#fill_rectangle((-2,2), (-2,2), 1000)\n",
    "\n",
    "circle = fill_circle(0.4, 1000)\n",
    "circle = move_points(circle, -4.5,1)\n",
    "\n",
    "plt.figure(figsize=(10,5))\n",
    "plt.subplot(1,2,1)\n",
    "plt.title(r\"metric space $(\\mathbb{R}^2, \"+METRIC_NAME+\")$\")\n",
    "plt.xlabel(\"$x_1$\")\n",
    "plt.ylabel(\"$x_2$\")\n",
    "\n",
    "sns.kdeplot(x=points[:,0], y=points[:,1], fill=True)\n",
    "sns.kdeplot(x=circle[:,0], y=circle[:,1], fill=True)\n",
    "plt.plot(*pivots.T, \"C2o\", label=\"pivots\")\n",
    "plt.legend();\n",
    "plt.gca().set_aspect('equal')\n",
    "plt.grid()\n",
    "\n",
    "plt.subplot(1,2,2)\n",
    "plt.title(\"pivot space $(\\mathbb{R}_+)^2$\")\n",
    "plt.xlabel(\"$\\Phi_1$\")\n",
    "plt.ylabel(\"$\\Phi_2$\")\n",
    "\n",
    "#\n",
    "\n",
    "points_piv = points_to_pivot_space(points, pivots)\n",
    "sns.kdeplot(x=points_piv[:,0], y=points_piv[:,1], fill=True)\n",
    "\n",
    "circle_piv = points_to_pivot_space(circle, pivots)\n",
    "plt.plot(*circle_piv.T, \"C1o\")\n",
    "\n",
    "#sns.kdeplot(x=circle_piv[:,0], y=circle_piv[:,1], fill=True)\n",
    "\n",
    "plt.xlim(0,4)\n",
    "plt.ylim(0,4)\n",
    "#plt.hexbin(*points_piv.T,bins=100)\n",
    "plt.grid()\n",
    "plt.tight_layout()\n",
    "plt.gca().set_aspect('equal')"
   ]
  },
  {
   "cell_type": "code",
   "execution_count": null,
   "id": "1f749aa7-6e03-4524-bb81-e1a226c0cc2f",
   "metadata": {},
   "outputs": [],
   "source": [
    "points_rp = rectify_transform(pivots, points_piv)\n",
    "\n",
    "plt.plot(*points_rp.T, \".\", alpha=1);\n",
    "plt.hist2d(*points_rp.T, density=True);"
   ]
  },
  {
   "cell_type": "code",
   "execution_count": null,
   "id": "9189a66b-4868-4b99-9819-02f00fb42179",
   "metadata": {},
   "outputs": [],
   "source": [
    "points = fill_circle(2, 100000)\n",
    "\n",
    "#mask_forbidden(pivots)\n",
    "\n",
    "points_piv = points_to_pivot_space(points, pivots)\n",
    "#sns.kdeplot(x=points_piv[:,0], y=points_piv[:,1], fill=True)\n",
    "\n",
    "circle_piv = points_to_pivot_space(circle, pivots)\n",
    "plt.plot(*circle_piv.T, \"C1o\")\n",
    "\n",
    "#sns.kdeplot(x=circle_piv[:,0], y=circle_piv[:,1], fill=True)\n",
    "\n",
    "#plt.hist2d(*points_piv.T,bins=[100,100])\n",
    "sns.histplot(x=points_piv[:,0], y=points_piv[:,1],  cbar=True)\n",
    "\n",
    "plt.xlim(0,3)\n",
    "plt.ylim(0,3)\n",
    "\n",
    "plt.grid()\n",
    "plt.tight_layout()\n",
    "plt.gca().set_aspect('equal')"
   ]
  },
  {
   "cell_type": "code",
   "execution_count": null,
   "id": "dcc5c5e8-df81-4051-8d0a-cc45a1a21ac1",
   "metadata": {},
   "outputs": [],
   "source": []
  },
  {
   "cell_type": "code",
   "execution_count": null,
   "id": "dbe7168c-fe24-4455-b623-8ce5cdd6ee21",
   "metadata": {},
   "outputs": [],
   "source": [
    "points = stats.multivariate_normal(mean=[0,0]).rvs(10_000_000)\n",
    "points_piv = points_to_pivot_space(points, pivots)\n",
    "points_rp = rectify_transform(pivots, points_piv)"
   ]
  },
  {
   "cell_type": "code",
   "execution_count": null,
   "id": "89ecfbea-0394-4a0f-88a8-f14d7d0a1741",
   "metadata": {},
   "outputs": [],
   "source": [
    "def binspace(vals, bin_length = 0.05):\n",
    "    \"\"\"generates bin edges that are guaranteed to be between vals.min and vals.max\n",
    "    The actual bin_length can be off by a little bit to accomplish this.\"\"\" \n",
    "    space = vals.max() - vals.min()\n",
    "    steps = int(space / bin_length)\n",
    "    return np.linspace(vals.min(), vals.max()+1e-6, steps)\n",
    "    \n",
    "bins = binspace(points_rp[:,0]), binspace(points_rp[:,1])\n",
    "\n",
    "plt.hist2d(*points_rp.T, bins=bins, density=True) #, norm=mpl.colors.LogNorm());\n",
    "plt.gca().set_aspect('equal')\n",
    "plt.show()"
   ]
  },
  {
   "cell_type": "code",
   "execution_count": null,
   "id": "91739ad9-715f-45df-a07d-a0674a693cde",
   "metadata": {},
   "outputs": [],
   "source": [
    "plt.hist2d(*points.T, bins=100)\n",
    "plt.plot(*pivots.T, \"x\", color=\"white\", label=\"pivots\");"
   ]
  },
  {
   "cell_type": "code",
   "execution_count": null,
   "id": "16b6c235-258c-41e6-bfe8-b22e18b91377",
   "metadata": {
    "editable": true,
    "slideshow": {
     "slide_type": ""
    },
    "tags": []
   },
   "outputs": [],
   "source": [
    "def plot_grid(x,y, ax=None, xcolor=None, ycolor=None, **kwargs):\n",
    "    # from https://stackoverflow.com/questions/47295473/how-to-plot-using-matplotlib-python-colahs-deformed-grid\n",
    "    ax = ax or plt.gca()\n",
    "    segs1 = np.stack((x,y), axis=2)\n",
    "    segs2 = segs1.transpose(1,0,2)\n",
    "    ax.add_collection(LineCollection(segs1, color=xcolor, **kwargs))\n",
    "    ax.add_collection(LineCollection(segs2, color=ycolor, **kwargs))\n",
    "    ax.autoscale()\n",
    "\n",
    "n = 20\n",
    "xx, yy = np.meshgrid(np.linspace(-1,1, n), np.linspace(-1,0,n//2))\n",
    "\n",
    "cmap_1 = mpl.colormaps['plasma']\n",
    "cmap_2 = mpl.colormaps['gray']\n",
    "\n",
    "xcolor = cmap_1(np.linspace(0.2,1, xx.shape[0]))\n",
    "ycolor = cmap_1(np.linspace(0,1, yy.shape[0]*2))\n",
    "\n",
    "plot_grid(xx,yy, ycolor=ycolor, xcolor=\"lightblue\")\n",
    "\n",
    "plt.plot(*pivots.T, \"x\", color=\"C1\", label=\"pivots\");\n",
    "plt.gca().set_aspect('equal')\n",
    "plt.show()"
   ]
  },
  {
   "cell_type": "code",
   "execution_count": null,
   "id": "ca30329f-03dc-4404-85a9-dce7d11410b3",
   "metadata": {},
   "outputs": [],
   "source": [
    "points = np.array([xx.flatten(), yy.flatten()]).T\n",
    "p_t = points_to_pivot_space(points, pivots)\n",
    "xx_t, yy_t = p_t.T\n",
    "xx_t = xx_t.reshape(xx.shape)\n",
    "yy_t = yy_t.reshape(yy.shape)\n",
    "\n",
    "plot_grid(xx_t,yy_t, ycolor=ycolor, xcolor=\"lightblue\")\n",
    "plt.gca().set_aspect('equal')\n",
    "plt.show()"
   ]
  },
  {
   "cell_type": "code",
   "execution_count": null,
   "id": "ed46861d-3ac8-47ea-8539-67cd063d2653",
   "metadata": {
    "editable": true,
    "slideshow": {
     "slide_type": ""
    },
    "tags": []
   },
   "outputs": [],
   "source": []
  }
 ],
 "metadata": {
  "kernelspec": {
   "display_name": "Python 3 (ipykernel)",
   "language": "python",
   "name": "python3"
  },
  "language_info": {
   "codemirror_mode": {
    "name": "ipython",
    "version": 3
   },
   "file_extension": ".py",
   "mimetype": "text/x-python",
   "name": "python",
   "nbconvert_exporter": "python",
   "pygments_lexer": "ipython3",
   "version": "3.11.6"
  }
 },
 "nbformat": 4,
 "nbformat_minor": 5
}
