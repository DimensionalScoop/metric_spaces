{
 "cells": [
  {
   "cell_type": "markdown",
   "id": "a56fdd2c-6dbd-4582-b8df-34015dce8c2a",
   "metadata": {},
   "source": [
    "# "
   ]
  },
  {
   "cell_type": "code",
   "execution_count": null,
   "id": "23dc2079-0039-408e-a9b6-fcf759796aaf",
   "metadata": {},
   "outputs": [],
   "source": [
    "%load_ext autoreload\n",
    "%autoreload 3"
   ]
  },
  {
   "cell_type": "code",
   "execution_count": null,
   "id": "a4a0bd1f-ce3d-40c7-9d07-82a3b97debf6",
   "metadata": {},
   "outputs": [],
   "source": [
    "import numpy as np\n",
    "import matplotlib.pyplot as plt"
   ]
  },
  {
   "cell_type": "code",
   "execution_count": null,
   "id": "5062cca4-0c48-447f-9753-8e7859b6c59f",
   "metadata": {},
   "outputs": [],
   "source": [
    "import pickle\n",
    "\n",
    "data_pre_path= \"../data/cifar-100/\"\n",
    "\n",
    "def unpickle(file):\n",
    "    import pickle\n",
    "    with open(file, 'rb') as fo:\n",
    "        dict = pickle.load(fo, encoding='bytes')\n",
    "    return dict\n",
    "\n",
    "\n",
    "\n",
    "# File paths\n",
    "data_train_path = data_pre_path + 'train'\n",
    "data_test_path = data_pre_path + 'test'\n",
    "# Read dictionary\n",
    "data_train_dict = unpickle(data_train_path)\n",
    "data_test_dict = unpickle(data_test_path)\n",
    "# Get data (change the coarse_labels if you want to use the 100 classes)\n",
    "data_train = data_train_dict[b'data']\n",
    "label_train = np.array(data_train_dict[b'coarse_labels'])\n",
    "data_test = data_test_dict[b'data']\n",
    "label_test = np.array(data_test_dict[b'coarse_labels'])"
   ]
  },
  {
   "cell_type": "code",
   "execution_count": null,
   "id": "032ac257-2c7d-4271-9fab-7ab82d80987f",
   "metadata": {},
   "outputs": [],
   "source": [
    "def load_curfar_100_train():\n",
    "    \"\"\"Return images as (n_image, pixel_x, pixel_y, n_color)\"\"\"\n",
    "    def unpickle():\n",
    "        train_path = \"../data/cifar-100/train\"\n",
    "        from glob import glob\n",
    "        import pickle\n",
    "        with open(train_path, 'rb') as fo:\n",
    "            return pickle.load(fo, encoding='bytes')\n",
    "    \n",
    "    train = unpickle()\n",
    "    train.keys()\n",
    "    \n",
    "    labels = np.asarray(train[b\"coarse_labels\"])\n",
    "    data = train[b\"data\"]\n",
    "    data = data.reshape(-1, 3, 32, 32)\n",
    "    data = np.swapaxes(data, 1, 3)\n",
    "    data = np.swapaxes(data, 2, 1)\n",
    "    return data\n"
   ]
  },
  {
   "cell_type": "code",
   "execution_count": null,
   "id": "b6fd6c8f-c7b2-487f-b222-b1d6efde3d9f",
   "metadata": {},
   "outputs": [],
   "source": []
  },
  {
   "cell_type": "code",
   "execution_count": null,
   "id": "e9b53c0b-71aa-4ab0-8afe-7058123cc062",
   "metadata": {},
   "outputs": [],
   "source": [
    "single_img = data[0]\n",
    "plt.imshow(single_img)"
   ]
  },
  {
   "cell_type": "code",
   "execution_count": null,
   "id": "6244dc70-b62d-4c3a-84f7-3ceecfcb0860",
   "metadata": {},
   "outputs": [],
   "source": [
    "images = unpickle()\n",
    "im = next(images)"
   ]
  },
  {
   "cell_type": "code",
   "execution_count": null,
   "id": "ea966260-2013-4b29-b652-91a65147e815",
   "metadata": {},
   "outputs": [],
   "source": [
    "im[b\"data\"].shape"
   ]
  },
  {
   "cell_type": "code",
   "execution_count": null,
   "id": "eb43f67c-a947-483d-8a9f-6385c7e97c6c",
   "metadata": {},
   "outputs": [],
   "source": [
    "print(\"wow\")"
   ]
  },
  {
   "cell_type": "code",
   "execution_count": null,
   "id": "5cbfcbbc-b667-4155-9838-1e9b509d8efa",
   "metadata": {},
   "outputs": [],
   "source": [
    "import numpy as np\n",
    "import matplotlib.pyplot as plt\n",
    "\n",
    "import generate"
   ]
  },
  {
   "cell_type": "code",
   "execution_count": null,
   "id": "66180571-bf9a-4a02-b727-8bd1d6f329ef",
   "metadata": {},
   "outputs": [],
   "source": [
    "data = generate.load_cifar_100_train()"
   ]
  },
  {
   "cell_type": "code",
   "execution_count": null,
   "id": "4ef51c29-a5f8-462c-8e23-23704cec57b7",
   "metadata": {},
   "outputs": [],
   "source": [
    "n_bins = 10\n",
    "n_colors = 3\n",
    "img_idx = 101\n",
    "single_img = data[img_idx].reshape(-1, n_colors)\n",
    "for color in range(n_colors):\n",
    "    counts, edges = np.histogram(single_img[:,color], bins=n_bins, range=(0, 255))\n",
    "    plt.plot(edges[:-1], counts)"
   ]
  },
  {
   "cell_type": "code",
   "execution_count": null,
   "id": "a4102aa3-cfc4-4ff4-bb5c-75720d71312d",
   "metadata": {},
   "outputs": [],
   "source": [
    "single_line = data.reshape(-1, 32**2, 3)\n",
    "single_line.shape"
   ]
  },
  {
   "cell_type": "code",
   "execution_count": null,
   "id": "7b098b3a-6080-4b75-982f-b7ca328b3a7a",
   "metadata": {},
   "outputs": [],
   "source": [
    "from tqdm.auto import tqdm\n",
    "\n",
    "n_images = single_line.shape[0]\n",
    "hists = np.empty((n_images, n_colors ,n_bins))\n",
    "for image_idx, image in enumerate(tqdm(single_line)):\n",
    "    for color in range(n_colors):\n",
    "        hists[image_idx, color, :], _ = np.histogram(image[:,color], bins=n_bins, range=(0,255))\n",
    "    "
   ]
  },
  {
   "cell_type": "code",
   "execution_count": null,
   "id": "f4e5ec71-ae89-4be9-89ad-5bb2109f08e6",
   "metadata": {},
   "outputs": [],
   "source": [
    "from tqdm.auto import tqdm\n",
    "\n",
    "n_images = single_line.shape[0]\n",
    "hists = np.empty((n_images, n_colors ,n_bins))\n",
    "for image_idx, image in enumerate(tqdm(single_line)):\n",
    "    hists[image_idx, color, :], _ = np.histogramdd(image[:,color], bins=n_bins, range=(0,255))\n",
    "   j "
   ]
  },
  {
   "cell_type": "code",
   "execution_count": null,
   "id": "657df099-0c7b-4ab1-9ffe-1c01741087e0",
   "metadata": {},
   "outputs": [],
   "source": [
    "n_bins = 10\n",
    "\n",
    "images = generate.load_cifar_100_train()\n",
    "n_images = images.shape[0]\n",
    "n_colors = images.shape[-1]\n",
    "images = images.reshape(n_images, -1, n_colors)\n",
    "hists = np.empty((n_images, n_bins, n_bins, n_bins))\n",
    "\n",
    "for image_idx in tqdm(range(n_images)):\n",
    "    hists[image_idx], _ = np.histogramdd(\n",
    "            images[image_idx], bins=[n_bins]*3, range=[(0, 255),(0, 255),(0, 255)]\n",
    "        )\n",
    "\n",
    "normalization_factor = hists.reshape(n_images, -1).sum(axis=-1)\n",
    "normalization_factor = normalization_factor.reshape(n_images, 1, 1, 1)\n",
    "hists = hists / normalization_factor"
   ]
  },
  {
   "cell_type": "code",
   "execution_count": null,
   "id": "6e5118f2-89a7-4871-8b9c-34a3f454577c",
   "metadata": {},
   "outputs": [],
   "source": [
    "\n",
    "fig = plt.figure()\n",
    "ax = fig.add_subplot(projection='3d')\n",
    "\n",
    "img_idx = 101\n",
    "h = hists[img_idx]\n",
    "coords = np.nonzero(h)\n",
    "counts = h[h>0]\n",
    "\n",
    "ax.scatter(*coords, c=counts)\n",
    "plt.xlim(0,n_bins)\n",
    "plt.ylim(0,n_bins)\n",
    "ax.set_zlim(0,n_bins)"
   ]
  },
  {
   "cell_type": "code",
   "execution_count": null,
   "id": "94348d43-3149-462b-b0db-d3fbe4ddc009",
   "metadata": {},
   "outputs": [],
   "source": [
    "plt.imshow(data[img_idx])"
   ]
  },
  {
   "cell_type": "code",
   "execution_count": null,
   "id": "ec249b2e-5ad9-413a-9c70-a267b336d020",
   "metadata": {},
   "outputs": [],
   "source": []
  },
  {
   "cell_type": "code",
   "execution_count": null,
   "id": "5a54f8a7-d4f8-4332-a329-5cf25ca51f19",
   "metadata": {},
   "outputs": [],
   "source": [
    "counts, edges = np.histogram(single_img, bins=[n_bins]*3, range=(0, 255))"
   ]
  },
  {
   "cell_type": "code",
   "execution_count": null,
   "id": "3a6cd0d0-609a-401b-9f8c-731087143e9e",
   "metadata": {},
   "outputs": [],
   "source": [
    "counts.shape"
   ]
  },
  {
   "cell_type": "code",
   "execution_count": null,
   "id": "fd078166-210b-408e-bc3f-eb5628cd98ea",
   "metadata": {},
   "outputs": [],
   "source": []
  }
 ],
 "metadata": {
  "language_info": {
   "name": "python"
  }
 },
 "nbformat": 4,
 "nbformat_minor": 5
}
